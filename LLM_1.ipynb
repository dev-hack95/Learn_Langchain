{
 "cells": [
  {
   "cell_type": "code",
   "execution_count": 1,
   "id": "d39784d0-a3a0-44ee-ad76-206d19ec162c",
   "metadata": {},
   "outputs": [],
   "source": [
    "with open('./data/wizard.txt', 'r', encoding='utf-8') as file:\n",
    "    text = file.read()"
   ]
  },
  {
   "cell_type": "code",
   "execution_count": 2,
   "id": "ca8c383d-83fb-40b7-9bd2-4bd7185e80f5",
   "metadata": {},
   "outputs": [],
   "source": [
    "chars = sorted(set(text))"
   ]
  },
  {
   "cell_type": "code",
   "execution_count": 3,
   "id": "e7708eef-0f8d-4502-9242-d68779d007df",
   "metadata": {},
   "outputs": [
    {
     "name": "stdout",
     "output_type": "stream",
     "text": [
      "['\\n', ' ', '!', '\"', '&', \"'\", '(', ')', '*', ',', '-', '.', '0', '1', '2', '3', '4', '5', '6', '7', '8', '9', ':', ';', '?', 'A', 'B', 'C', 'D', 'E', 'F', 'G', 'H', 'I', 'J', 'K', 'L', 'M', 'N', 'O', 'P', 'Q', 'R', 'S', 'T', 'U', 'V', 'W', 'X', 'Y', 'Z', '[', ']', '_', 'a', 'b', 'c', 'd', 'e', 'f', 'g', 'h', 'i', 'j', 'k', 'l', 'm', 'n', 'o', 'p', 'q', 'r', 's', 't', 'u', 'v', 'w', 'x', 'y', 'z', '\\ufeff']\n"
     ]
    }
   ],
   "source": [
    "print(chars)"
   ]
  },
  {
   "cell_type": "code",
   "execution_count": 4,
   "id": "825d0671-915a-492b-ad19-d720a7d7ca75",
   "metadata": {},
   "outputs": [],
   "source": [
    "# character Level Tokenizer\n",
    "###Encodings \n",
    "strings_to_int = { ch:i for i , ch in enumerate(chars) }\n",
    "int_to_string = { i:ch for i, ch in enumerate(chars) }"
   ]
  },
  {
   "cell_type": "code",
   "execution_count": 5,
   "id": "6ac889a7-d3e8-43c0-b6cb-f541dd248b01",
   "metadata": {},
   "outputs": [
    {
     "name": "stdout",
     "output_type": "stream",
     "text": [
      "strings to int:  {'\\n': 0, ' ': 1, '!': 2, '\"': 3, '&': 4, \"'\": 5, '(': 6, ')': 7, '*': 8, ',': 9, '-': 10, '.': 11, '0': 12, '1': 13, '2': 14, '3': 15, '4': 16, '5': 17, '6': 18, '7': 19, '8': 20, '9': 21, ':': 22, ';': 23, '?': 24, 'A': 25, 'B': 26, 'C': 27, 'D': 28, 'E': 29, 'F': 30, 'G': 31, 'H': 32, 'I': 33, 'J': 34, 'K': 35, 'L': 36, 'M': 37, 'N': 38, 'O': 39, 'P': 40, 'Q': 41, 'R': 42, 'S': 43, 'T': 44, 'U': 45, 'V': 46, 'W': 47, 'X': 48, 'Y': 49, 'Z': 50, '[': 51, ']': 52, '_': 53, 'a': 54, 'b': 55, 'c': 56, 'd': 57, 'e': 58, 'f': 59, 'g': 60, 'h': 61, 'i': 62, 'j': 63, 'k': 64, 'l': 65, 'm': 66, 'n': 67, 'o': 68, 'p': 69, 'q': 70, 'r': 71, 's': 72, 't': 73, 'u': 74, 'v': 75, 'w': 76, 'x': 77, 'y': 78, 'z': 79, '\\ufeff': 80}\n",
      "int to string:  {0: '\\n', 1: ' ', 2: '!', 3: '\"', 4: '&', 5: \"'\", 6: '(', 7: ')', 8: '*', 9: ',', 10: '-', 11: '.', 12: '0', 13: '1', 14: '2', 15: '3', 16: '4', 17: '5', 18: '6', 19: '7', 20: '8', 21: '9', 22: ':', 23: ';', 24: '?', 25: 'A', 26: 'B', 27: 'C', 28: 'D', 29: 'E', 30: 'F', 31: 'G', 32: 'H', 33: 'I', 34: 'J', 35: 'K', 36: 'L', 37: 'M', 38: 'N', 39: 'O', 40: 'P', 41: 'Q', 42: 'R', 43: 'S', 44: 'T', 45: 'U', 46: 'V', 47: 'W', 48: 'X', 49: 'Y', 50: 'Z', 51: '[', 52: ']', 53: '_', 54: 'a', 55: 'b', 56: 'c', 57: 'd', 58: 'e', 59: 'f', 60: 'g', 61: 'h', 62: 'i', 63: 'j', 64: 'k', 65: 'l', 66: 'm', 67: 'n', 68: 'o', 69: 'p', 70: 'q', 71: 'r', 72: 's', 73: 't', 74: 'u', 75: 'v', 76: 'w', 77: 'x', 78: 'y', 79: 'z', 80: '\\ufeff'}\n"
     ]
    }
   ],
   "source": [
    "print(\"strings to int: \", strings_to_int)\n",
    "print(\"int to string: \", int_to_string)"
   ]
  },
  {
   "cell_type": "code",
   "execution_count": 6,
   "id": "72c15252-93a5-43ed-a174-f8ff22794fa1",
   "metadata": {},
   "outputs": [],
   "source": [
    "encode = lambda s : [strings_to_int[c] for c in s]"
   ]
  },
  {
   "cell_type": "code",
   "execution_count": 7,
   "id": "c7f29ca5-48b2-4e46-909a-7fd1b16e7673",
   "metadata": {},
   "outputs": [],
   "source": [
    "decode = lambda l : \"\".join([int_to_string[i] for i in l])"
   ]
  },
  {
   "cell_type": "code",
   "execution_count": 8,
   "id": "663421c6-a3ae-4c45-ac29-1fa70e7dabc6",
   "metadata": {},
   "outputs": [
    {
     "name": "stdout",
     "output_type": "stream",
     "text": [
      "[61, 58, 65, 65, 68]\n"
     ]
    }
   ],
   "source": [
    "print(encode(\"hello\"))"
   ]
  },
  {
   "cell_type": "code",
   "execution_count": 9,
   "id": "ea859030-7c74-40b1-9639-d838cd8b5626",
   "metadata": {},
   "outputs": [
    {
     "name": "stdout",
     "output_type": "stream",
     "text": [
      "hello\n"
     ]
    }
   ],
   "source": [
    "print(decode(encode(\"hello\")))"
   ]
  },
  {
   "cell_type": "code",
   "execution_count": 10,
   "id": "d525113b-999b-4986-a3d9-13f79d599f5e",
   "metadata": {},
   "outputs": [],
   "source": [
    "import torch"
   ]
  },
  {
   "cell_type": "code",
   "execution_count": 11,
   "id": "904bb123-2d2f-4d9c-97ce-5519239f3203",
   "metadata": {},
   "outputs": [
    {
     "data": {
      "text/plain": [
       "'2.1.1+cpu'"
      ]
     },
     "execution_count": 11,
     "metadata": {},
     "output_type": "execute_result"
    }
   ],
   "source": [
    "torch.__version__"
   ]
  },
  {
   "cell_type": "code",
   "execution_count": 12,
   "id": "84032d7d-110b-47ad-a1f2-3d5d598b0085",
   "metadata": {},
   "outputs": [],
   "source": [
    "data = torch.tensor(encode(text))"
   ]
  },
  {
   "cell_type": "code",
   "execution_count": 13,
   "id": "34b3728b-7042-4ab8-8d37-f2452901bcd8",
   "metadata": {},
   "outputs": [
    {
     "name": "stdout",
     "output_type": "stream",
     "text": [
      "tensor([80, 36, 33,  ...,  0,  0,  0])\n"
     ]
    }
   ],
   "source": [
    "print(data)"
   ]
  },
  {
   "cell_type": "code",
   "execution_count": 14,
   "id": "55579a9f-1d5d-4140-935e-87e0ce0c31b6",
   "metadata": {},
   "outputs": [
    {
     "name": "stdout",
     "output_type": "stream",
     "text": [
      "tensor([80, 36, 33, 43, 44,  1, 39, 30,  1, 27, 32, 25, 40, 44, 29, 42, 43,  0,\n",
      "         0,  0, 27, 32, 25, 40, 44, 29, 42,  1,  1,  1,  1,  1,  1,  1,  1,  1,\n",
      "         1,  1,  1,  1,  1,  1,  1,  1,  1,  1,  1,  1,  1,  1,  1,  1,  1,  1,\n",
      "         1,  1,  1,  1,  1,  1,  1,  1,  1,  1,  1,  1,  1,  1,  1,  1,  1,  1,\n",
      "         1,  1,  1,  1,  1,  1,  1,  1,  1,  1,  1,  1,  1,  1,  1,  1, 40, 25,\n",
      "        31, 29,  0,  0,  1,  1, 13,  1, 44, 32])\n"
     ]
    }
   ],
   "source": [
    "print(data[:100])"
   ]
  },
  {
   "cell_type": "code",
   "execution_count": 15,
   "id": "d4deefaf-fc07-4a71-8415-bf2429653d23",
   "metadata": {},
   "outputs": [],
   "source": [
    "n = int(0.8 * len(data))\n",
    "train_data = data[:n]\n",
    "val_data = data[n:]"
   ]
  },
  {
   "cell_type": "code",
   "execution_count": 16,
   "id": "86fce2c9-3a33-4d65-b67a-ed6c390595e3",
   "metadata": {},
   "outputs": [
    {
     "data": {
      "text/plain": [
       "4.0"
      ]
     },
     "execution_count": 16,
     "metadata": {},
     "output_type": "execute_result"
    }
   ],
   "source": [
    "round(len(train_data) / len(val_data), 2)"
   ]
  },
  {
   "cell_type": "code",
   "execution_count": 17,
   "id": "9e526536-a713-444e-b750-5b05fa6f4ff1",
   "metadata": {},
   "outputs": [],
   "source": [
    "device = 'cuda' if torch.cuda.is_available() else 'cpu'"
   ]
  },
  {
   "cell_type": "code",
   "execution_count": 18,
   "id": "6debffaa-4086-4c2e-9cb1-60c7d969ebce",
   "metadata": {},
   "outputs": [
    {
     "name": "stdout",
     "output_type": "stream",
     "text": [
      "cpu\n"
     ]
    }
   ],
   "source": [
    "print(device)"
   ]
  },
  {
   "cell_type": "code",
   "execution_count": 19,
   "id": "1741f53d-3413-4e0d-9883-18adf4b3de90",
   "metadata": {},
   "outputs": [],
   "source": [
    "probabilities = torch.tensor([0.1, 0.9])"
   ]
  },
  {
   "cell_type": "code",
   "execution_count": 20,
   "id": "e4037145-1bf5-45f3-8fee-788d0e52e4c4",
   "metadata": {},
   "outputs": [
    {
     "data": {
      "text/plain": [
       "tensor([0.1000, 0.9000])"
      ]
     },
     "execution_count": 20,
     "metadata": {},
     "output_type": "execute_result"
    }
   ],
   "source": [
    "probabilities"
   ]
  },
  {
   "cell_type": "code",
   "execution_count": 21,
   "id": "763f80ef-9471-433a-8d37-f23c52ddd342",
   "metadata": {},
   "outputs": [],
   "source": [
    "samples = torch.multinomial(probabilities, num_samples = 10, replacement = True)"
   ]
  },
  {
   "cell_type": "code",
   "execution_count": 22,
   "id": "a0696d5f-ae01-428e-9243-0246d9725891",
   "metadata": {},
   "outputs": [
    {
     "data": {
      "text/plain": [
       "tensor([1, 1, 1, 1, 1, 1, 1, 1, 1, 1])"
      ]
     },
     "execution_count": 22,
     "metadata": {},
     "output_type": "execute_result"
    }
   ],
   "source": [
    "samples"
   ]
  },
  {
   "cell_type": "code",
   "execution_count": 23,
   "id": "1c122292-a12a-41ad-b7fc-e01dfd368337",
   "metadata": {},
   "outputs": [],
   "source": [
    "tensor_1 = torch.tensor([1, 2, 3, 4, 5])\n",
    "out = torch.cat((tensor_1, torch.tensor([5])), dim = 0)"
   ]
  },
  {
   "cell_type": "code",
   "execution_count": 24,
   "id": "ea8ec1df-e0df-4a59-9c13-decf522ae5e0",
   "metadata": {},
   "outputs": [
    {
     "data": {
      "text/plain": [
       "tensor([1, 2, 3, 4, 5, 5])"
      ]
     },
     "execution_count": 24,
     "metadata": {},
     "output_type": "execute_result"
    }
   ],
   "source": [
    "out"
   ]
  },
  {
   "cell_type": "code",
   "execution_count": 25,
   "id": "e124114f-e50e-45f8-8e68-c7eb7df006a0",
   "metadata": {},
   "outputs": [
    {
     "data": {
      "text/plain": [
       "tensor([[1., 0., 0., 0., 0.],\n",
       "        [1., 1., 0., 0., 0.],\n",
       "        [1., 1., 1., 0., 0.],\n",
       "        [1., 1., 1., 1., 0.],\n",
       "        [1., 1., 1., 1., 1.]])"
      ]
     },
     "execution_count": 25,
     "metadata": {},
     "output_type": "execute_result"
    }
   ],
   "source": [
    "out = torch.tril(torch.ones(5, 5))\n",
    "out # Lower triangles are ones or != 0"
   ]
  },
  {
   "cell_type": "code",
   "execution_count": 26,
   "id": "6342dcff-759a-42fb-9038-ad6c8d13a6db",
   "metadata": {},
   "outputs": [
    {
     "data": {
      "text/plain": [
       "tensor([[1., 1., 1., 1., 1.],\n",
       "        [0., 1., 1., 1., 1.],\n",
       "        [0., 0., 1., 1., 1.],\n",
       "        [0., 0., 0., 1., 1.],\n",
       "        [0., 0., 0., 0., 1.]])"
      ]
     },
     "execution_count": 26,
     "metadata": {},
     "output_type": "execute_result"
    }
   ],
   "source": [
    "out = torch.triu(torch.ones(5,5))\n",
    "out # Upper Triangles are ones or != 0"
   ]
  },
  {
   "cell_type": "code",
   "execution_count": 27,
   "id": "f9dc875b-e76f-4ab1-8b66-44244a3d54ee",
   "metadata": {},
   "outputs": [
    {
     "data": {
      "text/plain": [
       "tensor([[1, 2, 3],\n",
       "        [4, 5, 6],\n",
       "        [7, 8, 9]])"
      ]
     },
     "execution_count": 27,
     "metadata": {},
     "output_type": "execute_result"
    }
   ],
   "source": [
    "torch.stack([torch.tensor([1, 2, 3]), torch.tensor([4, 5, 6]), torch.tensor([7, 8, 9])])"
   ]
  },
  {
   "cell_type": "code",
   "execution_count": 44,
   "id": "e3330025-ba2f-45d8-8ac3-a38f2e1156bc",
   "metadata": {},
   "outputs": [],
   "source": [
    "import torch.nn.functional as F\n",
    "import matplotlib.pyplot as plt\n",
    "\n",
    "test_tesnsor_1 = torch.arange(start=-10, end=11, step=1, dtype=torch.float32)\n",
    "\n",
    "softmax_output = F.softmax(test_tesnsor_1, dim=0, dtype=torch.float32)"
   ]
  },
  {
   "cell_type": "code",
   "execution_count": 45,
   "id": "70a0f572-4f29-4f42-a578-4d7434140ae4",
   "metadata": {},
   "outputs": [
    {
     "data": {
      "text/plain": [
       "[<matplotlib.lines.Line2D at 0x20cb390f090>]"
      ]
     },
     "execution_count": 45,
     "metadata": {},
     "output_type": "execute_result"
    },
    {
     "data": {
      "image/png": "[encoded data removed]",
      "text/plain": [
       "<Figure size 640x480 with 1 Axes>"
      ]
     },
     "metadata": {},
     "output_type": "display_data"
    }
   ],
   "source": [
    "plt.plot(test_tesnsor_1.tolist(), softmax_output.tolist())"
   ]
  },
  {
   "cell_type": "code",
   "execution_count": 47,
   "id": "38e97751-0ffe-403a-b064-0a05f83075a3",
   "metadata": {},
   "outputs": [],
   "source": [
    "def softmax_fn(x: torch.Tensor) -> torch.Tensor:\n",
    "    a = torch.exp(x)\n",
    "    z = a / a.sum()\n",
    "    return z\n",
    "\n",
    "output = softmax_fn(test_tesnsor_1)"
   ]
  },
  {
   "cell_type": "code",
   "execution_count": 48,
   "id": "4cb0d148-eacc-4341-aad9-fb34bf336a44",
   "metadata": {},
   "outputs": [
    {
     "data": {
      "text/plain": [
       "tensor([1.3029e-09, 3.5416e-09, 9.6272e-09, 2.6169e-08, 7.1136e-08, 1.9337e-07,\n",
       "        5.2563e-07, 1.4288e-06, 3.8839e-06, 1.0557e-05, 2.8698e-05, 7.8010e-05,\n",
       "        2.1205e-04, 5.7642e-04, 1.5669e-03, 4.2592e-03, 1.1578e-02, 3.1471e-02,\n",
       "        8.5548e-02, 2.3254e-01, 6.3212e-01])"
      ]
     },
     "execution_count": 48,
     "metadata": {},
     "output_type": "execute_result"
    }
   ],
   "source": [
    "output"
   ]
  },
  {
   "cell_type": "code",
   "execution_count": 50,
   "id": "eb78c134-e01d-4906-b660-f5deda1a535a",
   "metadata": {},
   "outputs": [
    {
     "data": {
      "text/plain": [
       "[<matplotlib.lines.Line2D at 0x20cb0c39e10>]"
      ]
     },
     "execution_count": 50,
     "metadata": {},
     "output_type": "execute_result"
    },
    {
     "data": {
      "image/png": "[encoded data removed]",
      "text/plain": [
       "<Figure size 640x480 with 1 Axes>"
      ]
     },
     "metadata": {},
     "output_type": "display_data"
    }
   ],
   "source": [
    "plt.plot(test_tesnsor_1.tolist(), output.tolist())"
   ]
  },
  {
   "cell_type": "code",
   "execution_count": 51,
   "id": "4f41ac01-023a-4051-b591-e2a539aea5d1",
   "metadata": {},
   "outputs": [],
   "source": [
    "vocab_size = 10000\n",
    "embedding_dim = 100\n",
    "embedding = torch.nn.Embedding(vocab_size, embedding_dim)\n",
    "\n",
    "input_indices = torch.LongTensor([1, 4, 2, 34, 5])\n",
    "embedding_output = embedding(input_indices)"
   ]
  },
  {
   "cell_type": "code",
   "execution_count": 53,
   "id": "13a2fc2a-0b4e-4bbb-9a5c-7c0f8273ce9f",
   "metadata": {},
   "outputs": [
    {
     "data": {
      "text/plain": [
       "torch.Size([5, 100])"
      ]
     },
     "execution_count": 53,
     "metadata": {},
     "output_type": "execute_result"
    }
   ],
   "source": [
    "embedding_output.shape"
   ]
  },
  {
   "cell_type": "code",
   "execution_count": 54,
   "id": "6abbc6a3-4b85-4f3e-a64e-8b0dad45f946",
   "metadata": {},
   "outputs": [
    {
     "data": {
      "text/plain": [
       "tensor([-0.6075,  0.1272, -0.8133,  1.0169,  2.2670, -0.1248, -0.7000,  1.0632,\n",
       "         1.4087,  1.6980,  0.3923,  0.3608,  0.1239,  0.2914,  0.1294,  0.1146,\n",
       "        -0.1760, -1.0777, -0.0729,  1.5837,  0.6229, -0.7794,  1.9262, -0.9204,\n",
       "        -0.5800, -0.4365,  0.7887,  0.2328, -1.7673,  1.3237, -0.1362, -0.2162,\n",
       "        -0.0550,  0.5036, -1.9561, -0.0576, -0.7510,  1.3693, -1.1214, -0.2021,\n",
       "         0.4063,  1.2688, -0.0643,  0.4167, -0.4012, -0.0829, -1.3007,  0.2641,\n",
       "        -1.3897,  1.0875, -1.1159,  0.5719,  0.1930,  0.7543, -0.7164,  0.6824,\n",
       "        -0.3622,  0.0728, -1.9690, -0.6131,  0.2149, -0.0403, -0.3723, -2.5606,\n",
       "         0.2751,  0.8846, -0.1096, -0.7264,  0.4104, -0.2859,  1.3997, -0.6067,\n",
       "         0.4175, -0.5588, -1.1105, -1.3900, -0.7220,  0.7639, -0.8098,  0.2311,\n",
       "        -1.5499, -0.5646,  0.3477,  1.7025,  1.4745,  1.3248,  0.4584, -0.7032,\n",
       "         0.8503,  0.5766,  0.1196, -1.2077, -1.4291,  0.8200, -0.0301, -0.4435,\n",
       "        -1.4460,  1.3973, -1.6711, -0.5671], grad_fn=<SelectBackward0>)"
      ]
     },
     "execution_count": 54,
     "metadata": {},
     "output_type": "execute_result"
    }
   ],
   "source": [
    "embedding_output[3]"
   ]
  },
  {
   "cell_type": "code",
   "execution_count": null,
   "id": "de50bfe8-7475-4d23-9d64-0d2c3e7bb3e7",
   "metadata": {},
   "outputs": [],
   "source": [
    "class ModelV1(torch.nn.Module):\n",
    "    def __init__(self, vocab_size) -> None:\n",
    "        super().__init__()\n",
    "        self.token_embedding_table = torch.nn.Embedding(vocab_size, vocab_size)\n",
    "\n",
    "    def forwards(self, index, targets):\n",
    "        logits = self.token_embedding_table(index)\n",
    "        return logits"
   ]
  }
 ],
 "metadata": {
  "kernelspec": {
   "display_name": "Python 3 (ipykernel)",
   "language": "python",
   "name": "python3"
  },
  "language_info": {
   "codemirror_mode": {
    "name": "ipython",
    "version": 3
   },
   "file_extension": ".py",
   "mimetype": "text/x-python",
   "name": "python",
   "nbconvert_exporter": "python",
   "pygments_lexer": "ipython3",
   "version": "3.11.4"
  }
 },
 "nbformat": 4,
 "nbformat_minor": 5
}
