{
 "cells": [
  {
   "cell_type": "code",
   "execution_count": 2,
   "id": "875de9b6",
   "metadata": {},
   "outputs": [
    {
     "name": "stderr",
     "output_type": "stream",
     "text": [
      "E:\\LLM\\venv\\lib\\site-packages\\pinecone\\index.py:4: TqdmExperimentalWarning: Using `tqdm.autonotebook.tqdm` in notebook mode. Use `tqdm.tqdm` instead to force console mode (e.g. in jupyter console)\n",
      "  from tqdm.autonotebook import tqdm\n"
     ]
    }
   ],
   "source": [
    "import os\n",
    "import warnings\n",
    "import pinecone\n",
    "from langchain.chat_models import ChatOllama\n",
    "from langchain.callbacks.base import BaseCallbackHandler\n",
    "from langchain.document_loaders import TextLoader\n",
    "from langchain.text_splitter import CharacterTextSplitter\n",
    "from langchain.callbacks.manager import CallbackManager\n",
    "from langchain.callbacks.streaming_stdout import StreamingStdOutCallbackHandler\n",
    "from langchain.embeddings import SentenceTransformerEmbeddings\n",
    "from langchain.vectorstores import Pinecone\n",
    "from langchain.chains import RetrievalQA\n",
    "\n",
    "# Config\n",
    "warnings.filterwarnings(\"ignore\")\n",
    "pinecone.init(api_key=\"067de28e-ed06-4e47-b1f8-9ed88c216d70\", environment=\"gcp-starter\")"
   ]
  },
  {
   "cell_type": "code",
   "execution_count": 3,
   "id": "dd2f42cb",
   "metadata": {},
   "outputs": [],
   "source": [
    "callback_manager = CallbackManager([StreamingStdOutCallbackHandler()])\n",
    "chat = ChatOllama(\n",
    "    base_url=\"https://383b-34-171-195-199.ngrok-free.app\",\n",
    "    model=\"mistral:7b\",\n",
    "    callback_manager=callback_manager\n",
    ")"
   ]
  },
  {
   "cell_type": "code",
   "execution_count": 4,
   "id": "3c7b9710",
   "metadata": {},
   "outputs": [
    {
     "name": "stderr",
     "output_type": "stream",
     "text": [
      "Created a chunk of size 1913, which is longer than the specified 1000\n",
      "Created a chunk of size 1225, which is longer than the specified 1000\n"
     ]
    }
   ],
   "source": [
    "embedding_model = SentenceTransformerEmbeddings(model_name=\"all-MiniLM-L6-V2\")\n",
    "loder = TextLoader('medium.txt', encoding=\"utf-8\")\n",
    "document = loder.load()\n",
    "text_splitter = CharacterTextSplitter(chunk_size = 1000, chunk_overlap = 100)\n",
    "texts = text_splitter.split_documents(document)\n",
    "docsearch = Pinecone.from_documents(texts, embedding_model, index_name = \"testindex1\")"
   ]
  },
  {
   "cell_type": "code",
   "execution_count": 5,
   "id": "b8aa313a",
   "metadata": {},
   "outputs": [],
   "source": [
    "class ChatData:\n",
    "    def __init__(self) -> None:\n",
    "        pass\n",
    "        \n",
    "    def chat(self, query: str) -> str:\n",
    "        qa = RetrievalQA.from_chain_type(llm=chat, chain_type=\"stuff\", retriever=docsearch.as_retriever(), return_source_documents=True)\n",
    "        response = qa({\"query\": query})\n",
    "        return response"
   ]
  },
  {
   "cell_type": "code",
   "execution_count": 6,
   "id": "4821cdf2",
   "metadata": {},
   "outputs": [],
   "source": [
    "bot = ChatData()"
   ]
  },
  {
   "cell_type": "code",
   "execution_count": 7,
   "id": "7a29e23b",
   "metadata": {},
   "outputs": [
    {
     "name": "stdout",
     "output_type": "stream",
     "text": [
      " A vector database is a type of database management system specifically designed to handle unstructured data in the form of vectors. It goes beyond just providing ANN search algorithms, offering user-friendly features such as cloud-nativity, multi-tenancy, and scalability that are commonly found in today's structured/semi-structured database systems."
     ]
    }
   ],
   "source": [
    "res = bot.chat(\"What is vector database\")"
   ]
  },
  {
   "cell_type": "code",
   "execution_count": 8,
   "id": "f877b83f",
   "metadata": {},
   "outputs": [
    {
     "data": {
      "text/plain": [
       "{'query': 'What is vector database',\n",
       " 'result': \" A vector database is a type of database management system specifically designed to handle unstructured data in the form of vectors. It goes beyond just providing ANN search algorithms, offering user-friendly features such as cloud-nativity, multi-tenancy, and scalability that are commonly found in today's structured/semi-structured database systems.\",\n",
       " 'source_documents': [Document(page_content='Vector databases vs. vector search libraries\\nA common misconception that I hear around the industry is that vector databases are merely wrappers around ANN search algorithms. This could not be further from the truth!\\n\\nA vector database is, at its core, a full-fledged solution for unstructured data. As we’ve already seen in the previous section, this means that user-friendly features present in today’s database management systems for structured/semi-structured data — cloud-nativity, multi-tenancy, scalability, etc — should also be attributes for a mature vector database as well. All of these features will become clear as we dive deeper into this tutorial.', metadata={'source': 'medium.txt'}),\n",
       "  Document(page_content='Vector databases vs. vector search libraries\\nA common misconception that I hear around the industry is that vector databases are merely wrappers around ANN search algorithms. This could not be further from the truth!\\n\\nA vector database is, at its core, a full-fledged solution for unstructured data. As we’ve already seen in the previous section, this means that user-friendly features present in today’s database management systems for structured/semi-structured data — cloud-nativity, multi-tenancy, scalability, etc — should also be attributes for a mature vector database as well. All of these features will become clear as we dive deeper into this tutorial.', metadata={'source': 'medium.txt'}),\n",
       "  Document(page_content='Vector databases vs. vector search libraries\\nA common misconception that I hear around the industry is that vector databases are merely wrappers around ANN search algorithms. This could not be further from the truth!\\n\\nA vector database is, at its core, a full-fledged solution for unstructured data. As we’ve already seen in the previous section, this means that user-friendly features present in today’s database management systems for structured/semi-structured data — cloud-nativity, multi-tenancy, scalability, etc — should also be attributes for a mature vector database as well. All of these features will become clear as we dive deeper into this tutorial.', metadata={'source': 'medium.txt'}),\n",
       "  Document(page_content='Vector databases vs. vector search libraries\\nA common misconception that I hear around the industry is that vector databases are merely wrappers around ANN search algorithms. This could not be further from the truth!\\n\\nA vector database is, at its core, a full-fledged solution for unstructured data. As we’ve already seen in the previous section, this means that user-friendly features present in today’s database management systems for structured/semi-structured data — cloud-nativity, multi-tenancy, scalability, etc — should also be attributes for a mature vector database as well. All of these features will become clear as we dive deeper into this tutorial.', metadata={'source': 'medium.txt'})]}"
      ]
     },
     "execution_count": 8,
     "metadata": {},
     "output_type": "execute_result"
    }
   ],
   "source": [
    "res"
   ]
  },
  {
   "cell_type": "code",
   "execution_count": 9,
   "id": "3da28650",
   "metadata": {},
   "outputs": [
    {
     "name": "stdout",
     "output_type": "stream",
     "text": [
      " Some popular vector databases include Milvus, Faiss, Annoy, ElasticSearch Vector Search, and Pinecone.io. These databases offer various features such as different vector dimensionalities, indexing algorithms, query types, scalability, and integration with machine learning frameworks and popular programming languages. It is important to consider the specific requirements of your use case when choosing a vector database."
     ]
    },
    {
     "data": {
      "text/plain": [
       "{'query': 'List some vector databases',\n",
       " 'result': ' Some popular vector databases include Milvus, Faiss, Annoy, ElasticSearch Vector Search, and Pinecone.io. These databases offer various features such as different vector dimensionalities, indexing algorithms, query types, scalability, and integration with machine learning frameworks and popular programming languages. It is important to consider the specific requirements of your use case when choosing a vector database.',\n",
       " 'source_documents': [Document(page_content='Wrapping up\\nIn this tutorial, we took a quick tour of vector databases. Specifically, we looked at 1) what features go into a mature vector database, 2) how a vector database differs from vector search libraries, 3) how a vector database differs from vector search plugins in traditional databases or search systems, and 4) the key challenges associated with building a vector database.\\n\\nThis tutorial is not meant to be a deep dive into vector databases, nor is it meant to show how vector databases can be used in applications. Rather, the goal is to provide an overview of vector databases. This is where your journey truly begins!\\n\\nIn the next tutorial, we’ll provide an introduction to Milvus, the world’s most popular open-source vector database:', metadata={'source': 'medium.txt'}),\n",
       "  Document(page_content='Wrapping up\\nIn this tutorial, we took a quick tour of vector databases. Specifically, we looked at 1) what features go into a mature vector database, 2) how a vector database differs from vector search libraries, 3) how a vector database differs from vector search plugins in traditional databases or search systems, and 4) the key challenges associated with building a vector database.\\n\\nThis tutorial is not meant to be a deep dive into vector databases, nor is it meant to show how vector databases can be used in applications. Rather, the goal is to provide an overview of vector databases. This is where your journey truly begins!\\n\\nIn the next tutorial, we’ll provide an introduction to Milvus, the world’s most popular open-source vector database:', metadata={'source': 'medium.txt'}),\n",
       "  Document(page_content='Wrapping up\\nIn this tutorial, we took a quick tour of vector databases. Specifically, we looked at 1) what features go into a mature vector database, 2) how a vector database differs from vector search libraries, 3) how a vector database differs from vector search plugins in traditional databases or search systems, and 4) the key challenges associated with building a vector database.\\n\\nThis tutorial is not meant to be a deep dive into vector databases, nor is it meant to show how vector databases can be used in applications. Rather, the goal is to provide an overview of vector databases. This is where your journey truly begins!\\n\\nIn the next tutorial, we’ll provide an introduction to Milvus, the world’s most popular open-source vector database:', metadata={'source': 'medium.txt'}),\n",
       "  Document(page_content='Wrapping up\\nIn this tutorial, we took a quick tour of vector databases. Specifically, we looked at 1) what features go into a mature vector database, 2) how a vector database differs from vector search libraries, 3) how a vector database differs from vector search plugins in traditional databases or search systems, and 4) the key challenges associated with building a vector database.\\n\\nThis tutorial is not meant to be a deep dive into vector databases, nor is it meant to show how vector databases can be used in applications. Rather, the goal is to provide an overview of vector databases. This is where your journey truly begins!\\n\\nIn the next tutorial, we’ll provide an introduction to Milvus, the world’s most popular open-source vector database:', metadata={'source': 'medium.txt'})]}"
      ]
     },
     "execution_count": 9,
     "metadata": {},
     "output_type": "execute_result"
    }
   ],
   "source": [
    "bot.chat(\"List some vector databases\")"
   ]
  },
  {
   "cell_type": "code",
   "execution_count": 10,
   "id": "c9a4a278",
   "metadata": {},
   "outputs": [
    {
     "name": "stdout",
     "output_type": "stream",
     "text": [
      " Here's a list of some popular vector databases you may find useful:\n",
      "\n",
      "1. Milvus: An open-source vector database developed by NVIDIA that provides efficient indexing and querying for similarity search on large datasets. It supports various similarity measures, including cosine similarity, Euclidean distance, and Hamming distance. Milvus is capable of handling both static and dynamic data and can be deployed in both on-premises and cloud environments. (https://milvus.io/)\n",
      "2. Faiss: An open-source library developed by Facebook AI Research for efficient similarity search and clustering of dense vectors, such as word embeddings or raw feature vectors. It provides multiple indexing structures like IVF, HNSW, and FAISS, along with various similarity measures. (https://faiss.ai/)\n",
      "3. Annoy: A C++ library for efficient large-scale approximate nearest neighbor search on real-valued vectors. It uses a tree-based data structure called Annoy Index to perform fast queries. (https://github.com/spotify/annoy)\n",
      "4. Elasticsearch Vector Search Plugin: An extension to the popular open-source search engine, Elasticsearch, for vector similarity searches using the Faiss library. It provides advanced indexing and query capabilities, such as multimetric queries and dynamic indexing. (https://github.com/elastic/elasticsearch-vector)\n",
      "5. Faiss-NMS: An extension to the open-source Faiss library for managing multiple indices and supporting non-maximum suppression. It's particularly useful in applications where you need to retrieve top-k results with the constraint that each result is unique. (https://github.com/facebookresearch/faiss-nms)\n",
      "6. Hnswlib: A library for efficient indexing and retrieval of approximate nearest neighbors from high-dimensional spaces using the HNSW algorithm. It's known for its flexibility, as it can be used with various distance metrics. (https://github.com/nmsl/hnswlib)\n",
      "7. Pinecone: A managed vector database service that offers REST API and supports dynamic indexing, automatic scaling, and various similarity measures. It's designed to handle massive datasets and high query throughput. (https://www.pinecone.io/)\n",
      "8. Faun: An open-source vector database developed by the German Research Center for Artificial Intelligence that offers a managed vector database service as well. It supports dynamic indexing, multi-tenancy, and various similarity measures. (https://github.com/Fraunhofer-AISEC/faun)\n",
      "9. VectorDB: A distributed vector database developed by the University of California, Berkeley. It offers a scalable solution for large-scale vector search and supports multiple indexing structures and similarity measures. (https://vectordb.org/)\n",
      "10. Weaviate: An open-source vector database with a focus on flexible data models and real-time query support. It allows users to define custom schema and offers various extensions, including text search and time series analysis. (https://weaviate.io/)"
     ]
    },
    {
     "data": {
      "text/plain": [
       "{'query': 'List of vector databases',\n",
       " 'result': \" Here's a list of some popular vector databases you may find useful:\\n\\n1. Milvus: An open-source vector database developed by NVIDIA that provides efficient indexing and querying for similarity search on large datasets. It supports various similarity measures, including cosine similarity, Euclidean distance, and Hamming distance. Milvus is capable of handling both static and dynamic data and can be deployed in both on-premises and cloud environments. (https://milvus.io/)\\n2. Faiss: An open-source library developed by Facebook AI Research for efficient similarity search and clustering of dense vectors, such as word embeddings or raw feature vectors. It provides multiple indexing structures like IVF, HNSW, and FAISS, along with various similarity measures. (https://faiss.ai/)\\n3. Annoy: A C++ library for efficient large-scale approximate nearest neighbor search on real-valued vectors. It uses a tree-based data structure called Annoy Index to perform fast queries. (https://github.com/spotify/annoy)\\n4. Elasticsearch Vector Search Plugin: An extension to the popular open-source search engine, Elasticsearch, for vector similarity searches using the Faiss library. It provides advanced indexing and query capabilities, such as multimetric queries and dynamic indexing. (https://github.com/elastic/elasticsearch-vector)\\n5. Faiss-NMS: An extension to the open-source Faiss library for managing multiple indices and supporting non-maximum suppression. It's particularly useful in applications where you need to retrieve top-k results with the constraint that each result is unique. (https://github.com/facebookresearch/faiss-nms)\\n6. Hnswlib: A library for efficient indexing and retrieval of approximate nearest neighbors from high-dimensional spaces using the HNSW algorithm. It's known for its flexibility, as it can be used with various distance metrics. (https://github.com/nmsl/hnswlib)\\n7. Pinecone: A managed vector database service that offers REST API and supports dynamic indexing, automatic scaling, and various similarity measures. It's designed to handle massive datasets and high query throughput. (https://www.pinecone.io/)\\n8. Faun: An open-source vector database developed by the German Research Center for Artificial Intelligence that offers a managed vector database service as well. It supports dynamic indexing, multi-tenancy, and various similarity measures. (https://github.com/Fraunhofer-AISEC/faun)\\n9. VectorDB: A distributed vector database developed by the University of California, Berkeley. It offers a scalable solution for large-scale vector search and supports multiple indexing structures and similarity measures. (https://vectordb.org/)\\n10. Weaviate: An open-source vector database with a focus on flexible data models and real-time query support. It allows users to define custom schema and offers various extensions, including text search and time series analysis. (https://weaviate.io/)\",\n",
       " 'source_documents': [Document(page_content='Wrapping up\\nIn this tutorial, we took a quick tour of vector databases. Specifically, we looked at 1) what features go into a mature vector database, 2) how a vector database differs from vector search libraries, 3) how a vector database differs from vector search plugins in traditional databases or search systems, and 4) the key challenges associated with building a vector database.\\n\\nThis tutorial is not meant to be a deep dive into vector databases, nor is it meant to show how vector databases can be used in applications. Rather, the goal is to provide an overview of vector databases. This is where your journey truly begins!\\n\\nIn the next tutorial, we’ll provide an introduction to Milvus, the world’s most popular open-source vector database:', metadata={'source': 'medium.txt'}),\n",
       "  Document(page_content='Wrapping up\\nIn this tutorial, we took a quick tour of vector databases. Specifically, we looked at 1) what features go into a mature vector database, 2) how a vector database differs from vector search libraries, 3) how a vector database differs from vector search plugins in traditional databases or search systems, and 4) the key challenges associated with building a vector database.\\n\\nThis tutorial is not meant to be a deep dive into vector databases, nor is it meant to show how vector databases can be used in applications. Rather, the goal is to provide an overview of vector databases. This is where your journey truly begins!\\n\\nIn the next tutorial, we’ll provide an introduction to Milvus, the world’s most popular open-source vector database:', metadata={'source': 'medium.txt'}),\n",
       "  Document(page_content='Wrapping up\\nIn this tutorial, we took a quick tour of vector databases. Specifically, we looked at 1) what features go into a mature vector database, 2) how a vector database differs from vector search libraries, 3) how a vector database differs from vector search plugins in traditional databases or search systems, and 4) the key challenges associated with building a vector database.\\n\\nThis tutorial is not meant to be a deep dive into vector databases, nor is it meant to show how vector databases can be used in applications. Rather, the goal is to provide an overview of vector databases. This is where your journey truly begins!\\n\\nIn the next tutorial, we’ll provide an introduction to Milvus, the world’s most popular open-source vector database:', metadata={'source': 'medium.txt'}),\n",
       "  Document(page_content='Wrapping up\\nIn this tutorial, we took a quick tour of vector databases. Specifically, we looked at 1) what features go into a mature vector database, 2) how a vector database differs from vector search libraries, 3) how a vector database differs from vector search plugins in traditional databases or search systems, and 4) the key challenges associated with building a vector database.\\n\\nThis tutorial is not meant to be a deep dive into vector databases, nor is it meant to show how vector databases can be used in applications. Rather, the goal is to provide an overview of vector databases. This is where your journey truly begins!\\n\\nIn the next tutorial, we’ll provide an introduction to Milvus, the world’s most popular open-source vector database:', metadata={'source': 'medium.txt'})]}"
      ]
     },
     "execution_count": 10,
     "metadata": {},
     "output_type": "execute_result"
    }
   ],
   "source": [
    "bot.chat(\"List of vector databases\")"
   ]
  },
  {
   "cell_type": "code",
   "execution_count": 11,
   "id": "14ce72b4",
   "metadata": {
    "scrolled": false
   },
   "outputs": [
    {
     "name": "stdout",
     "output_type": "stream",
     "text": [
      "Inthe previous tutorial, we took a quick look at the ever-increasing amount of data that is being generated on a daily basis. We then covered how these bits of data can be split into structured/semi-structured and unstructured data, the differences between them, and how modern machine learning can be used to understand unstructured data through embeddings. Finally, we briefly touched upon unstructured data processing via ANN search.\n",
      "\n",
      "Through all of this information, it’s now clear that the ever-increasing amount of unstructured data requires a paradigm shift and a new category of database management system — the vector database.\n",
      "\n",
      "A vector database is a fully managed, no-frills solution for storing, indexing, and searching across a massive dataset of unstructured data that leverages the power of embeddings from machine learning models.\n",
      "\n",
      "Vector databases from 1000 feet\n",
      "Guess how many curators it took to label the now-famous ImageNet dataset. Ready for the answer?\n",
      "\n",
      "25000 people (that’s a lot).\n",
      "\n",
      "Being able to search across images, video, text, audio, and other forms of unstructured data via their content rather than human-generated labels or tags is exactly what vector databases were meant to solve. When combined with powerful machine learning models, vector databases such as Milvus have the ability to revolutionize e-commerce solutions, recommendation systems, computer security, pharmaceuticals, and many other industries.\n",
      "\n",
      "As mentioned in the introduction, a vector database is a fully managed, no-frills solution for storing, indexing, and searching across a massive dataset of unstructured data that leverages the power of embeddings from machine learning models.\n",
      "\n",
      "But let’s think about it from a user perspective. What good is a piece of technology without strong usability and a good user API? In concert with the underlying technology, multi-tenancy and usability are also incredibly important attributes for vector databases. Let’s list out all of the features a mature vector database should have (many of these features overlap with those of databases for structured/semi-structured data):\n",
      "\n",
      "Scalability and tunability: As the number of unstructured data elements stored in a vector database grows into the hundreds of millions or billions, horizontal scaling across multiple nodes becomes paramount (scaling up by manually inserting sticks of RAM into a server rack every 3 months is no fun). Furthermore, differences in insert rate, query rate, and underlying hardware may result in different application needs, making overall system tunability a mandatory feature for vector databases.\n",
      "Multi-tenancy and data isolation: Supporting multiple users is an obvious feature for all database systems. However, going guns blazing and creating a new vector database for every new user will probably turn out poorly for everyone. Parallel to this notion is data isolation — the idea that any inserts, deletes, or queries made to one collection in a database should be invisible to the rest of the system unless the collection owner explicitly wishes to share the information.\n",
      "A complete suite of APIs: A database without a full suite of APIs and SDKs is, frankly speaking, not a real database. For example, Milvus maintains Python, Node, Go, and Java SDKs for communicating with and administering a Milvus database.\n",
      "An intuitive user interface/administrative console: User interfaces can help significantly reduce the learning curve associated with vector databases. These interfaces also expose new vector database features and tools that would otherwise be inaccessible.\n",
      "Phew. That was quite a bit of info, so we’ll summarize it right here: a vector database should have the following features: 1) scalability and tunability, 2) multi-tenancy and data isolation, 3) a complete suite of APIs, and 4) an intuitive user interface/administrative console. In the next two sections, we’ll follow up on this concept by comparing vector databases versus vector search libraries and vector search plugins, respectively.\n",
      "\n",
      "Vector databases vs. vector search libraries\n",
      "A common misconception that I hear around the industry is that vector databases are merely wrappers around ANN search algorithms. This could not be further from the truth!\n",
      "\n",
      "A vector database is, at its core, a full-fledged solution for unstructured data. As we’ve already seen in the previous section, this means that user-friendly features present in today’s database management systems for structured/semi-structured data — cloud-nativity, multi-tenancy, scalability, etc — should also be attributes for a mature vector database as well. All of these features will become clear as we dive deeper into this tutorial.\n",
      "\n",
      "On the other hand, projects such as FAISS, ScaNN, and HNSW are lightweight ANN libraries rather than managed solutions. The intention of these libraries is to aid in the construction of vector indices — data structures designed to significantly speed up nearest neighbor search for multi-dimensional vectors[1]. If your dataset is small and limited, these libraries can prove to be sufficient for unstructured data processing, even for systems running in production. However, as dataset sizes increase and more users are onboarded, the problem of scale becomes increasingly difficult to solve.\n",
      "\n",
      "High-level overview of Milvus’s architecture\n",
      "High-level overview of Milvus’s architecture. It looks confusing, I know, but don’t worry, we’ll dive into each component in the next tutorial.\n",
      "Vector databases also operate in a totally different layer of abstraction from vector search libraries — vector databases are full-fledged services, while ANN libraries are meant to be integrated into the application that you’re developing. In this sense, ANN libraries are one of the many components that vector databases are built on top of, similar to how Elasticsearch is built on top of Apache Lucene.\n",
      "\n",
      "To give an example of why this abstraction is so important, let’s take a look at inserting a new unstructured data element into a vector database. This is super easy in Milvus:\n",
      "\n",
      "from pymilvus import Collection\n",
      "collection = Collection('book')\n",
      "mr = collection.insert(data)\n",
      "It’s really as easy as that — 3 lines of code. With a library such as FAISS or ScaNN, there is unfortunately no easy way of doing this without manually re-creating the entire index at certain checkpoints. Even if you could, vector search libraries still lack scalability and multi-tenancy, two of the most important vector database features.\n",
      "\n",
      "Vector search plugins for traditional databases\n",
      "Great, now that we’ve established the difference between vector search libraries and vector databases, let’s take a look at how vector databases differ from vector search plugins.\n",
      "\n",
      "An increasing number of traditional databases and search systems such as Clickhouse and Elasticsearch are including built-in vector search plugins. Elasticsearch 8.0, for example, includes vector insertion and ANN search functionality that can be called via restful API endpoints. The problem with vector search plugins should be clear as night and day — these solutions do not take a full-stack approach to embedding management and vector search. Instead, these plugins are meant to be enhancements on top of existing architectures, thereby making them limited and unoptimized. Developing an unstructured data application atop a traditional database would be like trying to fit lithium batteries and electric motors inside a the frame of a gas-powered car — not a great idea!\n",
      "\n",
      "To illustrate why this is, let’s go back to the list of features that a vector database should implement (from the first section). Vector search plugins are missing two of these features — tunability and user-friendly APIs/SDKs. I’ll continue to use Elasticsearch’s ANN engine as an example; other vector search plugins operate very similarly so I won’t go too much further into detail. Elasticsearch supports vector storage via the dense_vector data field type and allows for querying via the _knn_search endpoint:\n",
      "\n",
      "PUT index\n",
      "{\n",
      "\"mappings\": {\n",
      "\"properties\": {\n",
      "\"image-vector\": {\n",
      "\"type\": \"dense_vector\",\n",
      "\"dims\": 128,\n",
      "\"index\": true,\n",
      "\"similarity\": \"l2_norm\"\n",
      "}\n",
      "}\n",
      "}\n",
      "}\n",
      "PUT index/_doc\n",
      "{\n",
      "\"image-vector\": [0.12, 1.34, …]\n",
      "}\n",
      "GET index/_knn_search\n",
      "{\n",
      "\"knn\": {\n",
      "\"field\": \"image-vector\",\n",
      "\"query_vector\": [-0.5, 9.4, …],\n",
      "\"k\": 10,\n",
      "\"num_candidates\": 100\n",
      "}\n",
      "}\n",
      "Elasticsearch’s ANN plugin supports only one indexing algorithm: Hierarchical Navigable Small Worlds, also known as HNSW (I like to think that the creator was ahead of Marvel when it came to popularizing the multiverse). On top of that, only L2/Euclidean distance is supported as a distance metric. This is an okay start, but let’s compare it to Milvus, a full-fledged vector database. Using pymilvus:\n",
      "\n",
      ">>> field1 = FieldSchema(name='id', dtype=DataType.INT64, description='int64', is_primary=True)\n",
      ">>> field2 = FieldSchema(name='embedding', dtype=DataType.FLOAT_VECTOR, description='embedding', dim=128, is_primary=False)\n",
      ">>> schema = CollectionSchema(fields=[field1, field2], description='hello world collection')\n",
      ">>> collection = Collection(name='my_collection', data=None, schema=schema)\n",
      ">>> index_params = {\n",
      "'index_type': 'IVF_FLAT',\n",
      "'params': {'nlist': 1024},\n",
      "\"metric_type\": 'L2'}\n",
      ">>> collection.create_index('embedding', index_params)\n",
      ">>> search_param = {\n",
      "'data': vector,\n",
      "'anns_field': 'embedding',\n",
      "'param': {'metric_type': 'L2', 'params': {'nprobe': 16}},\n",
      "'limit': 10,\n",
      "'expr': 'id_field > 0'\n",
      "}\n",
      ">>> results = collection.search(**search_param)\n",
      "While both Elasticsearch and Milvus have methods for creating indexes, inserting embedding vectors, and performing nearest neighbor search, it’s clear from these examples that Milvus has a more intuitive vector search API (better user-facing API) and broader vector index + distance metric support (better tunability). Milvus also plans to support more vector indices and allow for querying via SQL-like statements in the future, further improving both tunability and usability.\n",
      "\n",
      "We just blew through quite a bit of content. This section was admittedly fairly long, so for those of you who skimmed it, here’s a quick tl;dr: Milvus is better than vector search plugins because Milvus was built from the ground-up as a vector database, allowing for a richer set of features and an architecture more suited towards unstructured data.\n",
      "\n",
      "Technical challenges\n",
      "Earlier in this tutorial, I listed the desired features a vector database should implement, before comparing vector databases to vector search libraries and vector search plugins. Now, let’s briefly go over some high-level technical challenges associated with modern vector databases. In future tutorials, we’ll provide an overview of how Milvus tackles each of these, in addition to how these technical decisions improve Milvus’ performance over other open-source vector databases.\n",
      "\n",
      "Picture an airplane. The airplane itself contains a number of interconnected mechanical, electrical, and embedded systems, all working in harmony to provide us with a smooth and pleasurable in-flight experience. Likewise, a vector database is composed of a number of evolving software components. Roughly speaking, these can be broken down into the storage, the index, and the service. Although these three components are tightly integrated[2], companies such as Snowflake have shown the broader storage industry that “shared nothing” database architectures are arguably superior to the traditional “shared storage” cloud database models. Thus, the first technical challenge associated with vector databases is designing a flexible and scalable data model.\n",
      "\n",
      "Great, so we have a data model. What’s next?\n",
      "\n",
      "With data already stored in a vector database, being able to search across that data, i.e. querying and indexing, is the next important component. The compute-heavy nature of machine learning and multi-layer neural networks has allowed GPUs, NPUs/TPUs, FPGAs, and other general purpose compute hardware to flourish. Vector indexing and querying is also compute-heavy, operating at maximum speed and efficiency when run on accelerators. This diverse set of compute resources gives way to the second main technical challenge, developing a heterogeneous computing architecture.\n",
      "\n",
      "With a data model and architecture in place, the last step is making sure your application can, well, read from the database — this ties closely into the API and user interface bullet points mentioned in the first section. While a new category of database necessitates a new architecture in order to extract maximal performance at minimal cost, the majority of vector database users are still acclimated to traditional CRUD operations (e.g. INSERT, SELECT, UPDATE, and DELETE in SQL). Therefore, the final primary challenge is developing a set of APIs and GUIs that leverage existing user interface conventions while maintaining compatibility with the underlying architecture.\n",
      "\n",
      "Note how each of the three components corresponds to a primary technical challenge. With that being said, there is no one-size-fits-all architecture for vector databases. The best vector databases will fulfill all of these technical challenges by focusing on delivering the features mentioned in the first section.\n",
      "\n",
      "Wrapping up\n",
      "In this tutorial, we took a quick tour of vector databases. Specifically, we looked at 1) what features go into a mature vector database, 2) how a vector database differs from vector search libraries, 3) how a vector database differs from vector search plugins in traditional databases or search systems, and 4) the key challenges associated with building a vector database.\n",
      "\n",
      "This tutorial is not meant to be a deep dive into vector databases, nor is it meant to show how vector databases can be used in applications. Rather, the goal is to provide an overview of vector databases. This is where your journey truly begins!\n",
      "\n",
      "In the next tutorial, we’ll provide an introduction to Milvus, the world’s most popular open-source vector database:\n",
      "\n",
      "We’ll provide a brief history of Milvus, including the most important question — where does the name come from!\n",
      "We’ll cover how Milvus 1.0 differs from Milvus 2.0 and where the future of Milvus lies.\n",
      "We’ll discuss the differences between Milvus and other vector databases such as Google Vertex AI’s Matching Engine.\n",
      "We’ll briefly go over some common vector database applications.\n"
     ]
    }
   ],
   "source": [
    "print(document[0].page_content)"
   ]
  },
  {
   "cell_type": "code",
   "execution_count": 13,
   "id": "b329efbb",
   "metadata": {},
   "outputs": [
    {
     "name": "stdout",
     "output_type": "stream",
     "text": [
      " Snowflake is a cloud-based data warehousing platform that uses a \"shared nothing\" architecture, which separates compute resources from storage resources and enables greater scalability and concurrency compared to traditional shared storage database models.\n",
      "\n",
      "In the context of your analogy, Snowflake's architecture can be thought of as a component in the vector database ecosystem that addresses the challenge of designing a flexible and scalable data model for vector databases. By decoupling storage from compute resources, Snowflake allows organizations to store and analyze massive amounts of data without having to worry about the limitations of traditional shared storage architectures. This can be particularly important for vector databases, given the large and complex nature of the data they work with."
     ]
    },
    {
     "data": {
      "text/plain": [
       "{'query': 'What is the info related to snowflake in document',\n",
       " 'result': ' Snowflake is a cloud-based data warehousing platform that uses a \"shared nothing\" architecture, which separates compute resources from storage resources and enables greater scalability and concurrency compared to traditional shared storage database models.\\n\\nIn the context of your analogy, Snowflake\\'s architecture can be thought of as a component in the vector database ecosystem that addresses the challenge of designing a flexible and scalable data model for vector databases. By decoupling storage from compute resources, Snowflake allows organizations to store and analyze massive amounts of data without having to worry about the limitations of traditional shared storage architectures. This can be particularly important for vector databases, given the large and complex nature of the data they work with.',\n",
       " 'source_documents': [Document(page_content='Picture an airplane. The airplane itself contains a number of interconnected mechanical, electrical, and embedded systems, all working in harmony to provide us with a smooth and pleasurable in-flight experience. Likewise, a vector database is composed of a number of evolving software components. Roughly speaking, these can be broken down into the storage, the index, and the service. Although these three components are tightly integrated[2], companies such as Snowflake have shown the broader storage industry that “shared nothing” database architectures are arguably superior to the traditional “shared storage” cloud database models. Thus, the first technical challenge associated with vector databases is designing a flexible and scalable data model.\\n\\nGreat, so we have a data model. What’s next?', metadata={'source': 'medium.txt'}),\n",
       "  Document(page_content='Picture an airplane. The airplane itself contains a number of interconnected mechanical, electrical, and embedded systems, all working in harmony to provide us with a smooth and pleasurable in-flight experience. Likewise, a vector database is composed of a number of evolving software components. Roughly speaking, these can be broken down into the storage, the index, and the service. Although these three components are tightly integrated[2], companies such as Snowflake have shown the broader storage industry that “shared nothing” database architectures are arguably superior to the traditional “shared storage” cloud database models. Thus, the first technical challenge associated with vector databases is designing a flexible and scalable data model.\\n\\nGreat, so we have a data model. What’s next?', metadata={'source': 'medium.txt'}),\n",
       "  Document(page_content='Picture an airplane. The airplane itself contains a number of interconnected mechanical, electrical, and embedded systems, all working in harmony to provide us with a smooth and pleasurable in-flight experience. Likewise, a vector database is composed of a number of evolving software components. Roughly speaking, these can be broken down into the storage, the index, and the service. Although these three components are tightly integrated[2], companies such as Snowflake have shown the broader storage industry that “shared nothing” database architectures are arguably superior to the traditional “shared storage” cloud database models. Thus, the first technical challenge associated with vector databases is designing a flexible and scalable data model.\\n\\nGreat, so we have a data model. What’s next?', metadata={'source': 'medium.txt'}),\n",
       "  Document(page_content='Picture an airplane. The airplane itself contains a number of interconnected mechanical, electrical, and embedded systems, all working in harmony to provide us with a smooth and pleasurable in-flight experience. Likewise, a vector database is composed of a number of evolving software components. Roughly speaking, these can be broken down into the storage, the index, and the service. Although these three components are tightly integrated[2], companies such as Snowflake have shown the broader storage industry that “shared nothing” database architectures are arguably superior to the traditional “shared storage” cloud database models. Thus, the first technical challenge associated with vector databases is designing a flexible and scalable data model.\\n\\nGreat, so we have a data model. What’s next?', metadata={'source': 'medium.txt'})]}"
      ]
     },
     "execution_count": 13,
     "metadata": {},
     "output_type": "execute_result"
    }
   ],
   "source": [
    "bot.chat(\"What is the info related to snowflake in document\")"
   ]
  },
  {
   "cell_type": "code",
   "execution_count": null,
   "id": "a892eb97",
   "metadata": {},
   "outputs": [],
   "source": []
  }
 ],
 "metadata": {
  "kernelspec": {
   "display_name": "Python 3 (ipykernel)",
   "language": "python",
   "name": "python3"
  },
  "language_info": {
   "codemirror_mode": {
    "name": "ipython",
    "version": 3
   },
   "file_extension": ".py",
   "mimetype": "text/x-python",
   "name": "python",
   "nbconvert_exporter": "python",
   "pygments_lexer": "ipython3",
   "version": "3.10.13"
  }
 },
 "nbformat": 4,
 "nbformat_minor": 5
}
