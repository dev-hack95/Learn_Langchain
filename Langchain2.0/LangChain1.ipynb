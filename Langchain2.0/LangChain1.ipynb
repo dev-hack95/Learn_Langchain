{
 "cells": [
  {
   "cell_type": "code",
   "execution_count": 1,
   "id": "667f3fc3",
   "metadata": {},
   "outputs": [],
   "source": [
    "import os\n",
    "import warnings\n",
    "from dotenv import load_dotenv\n",
    "from langchain.chains import LLMChain\n",
    "from langchain.chat_models import ChatOpenAI\n",
    "from langchain.prompts import PromptTemplate, ChatPromptTemplate, SystemMessagePromptTemplate, HumanMessagePromptTemplate\n",
    "\n",
    "# Config\n",
    "load_dotenv(\".env\")\n",
    "warnings.filterwarnings(\"ignore\")\n",
    "api_key = os.environ.get(\"key\")"
   ]
  },
  {
   "cell_type": "code",
   "execution_count": 2,
   "id": "98861d6d",
   "metadata": {},
   "outputs": [],
   "source": [
    "class ChatBot:\n",
    "    def __init__(self) -> None:\n",
    "        self.summary_template = \"\"\"\n",
    "        Given the information {information} about a person I want to create:\n",
    "        1) A short Summary\n",
    "        2) Two interesting facts about them\n",
    "        \"\"\"\n",
    "        self.summary_prompt_template = PromptTemplate(input_variables=[\"information\"], template=self.summary_template)\n",
    "        self.model = ChatOpenAI(api_key=api_key, model=\"gpt-3.5-turbo\", max_tokens=500)\n",
    "        \n",
    "    def Chat(self, information: str) -> str:\n",
    "        chain = LLMChain(llm=self.model, prompt=self.summary_prompt_template)\n",
    "        response = chain.invoke(input={\"information\": information})\n",
    "        return response['text']"
   ]
  },
  {
   "cell_type": "code",
   "execution_count": 3,
   "id": "e4743266",
   "metadata": {},
   "outputs": [],
   "source": [
    "bot = ChatBot()"
   ]
  },
  {
   "cell_type": "code",
   "execution_count": 4,
   "id": "716d1de6",
   "metadata": {},
   "outputs": [],
   "source": [
    "result = bot.Chat(\"Elon Reeve Musk is a businessman and investor. He is the founder, chairman, CEO, and CTO of SpaceX; angel investor, CEO, product architect, and former chairman of Tesla, Inc.; owner, chairman, and CTO of X Corp.; founder of the Boring Company and xAI; co-founder of Neuralink and OpenAI; and president of the Musk Foundation. He is the wealthiest person in the world, with an estimated net worth of US$232 billion as of December 2023, according to the Bloomberg Billionaires Index, and $210.2  billion according to Forbes, primarily from his ownership stakes in Tesla and SpaceX.[5][6]A member of the wealthy South African Musk family, Elon was born in Pretoria and briefly attended the University of Pretoria before immigrating to Canada at age 18, acquiring citizenship through his Canadian-born mother. Two years later, he matriculated at Queen's University at Kingston in Canada. Musk later transferred to the University of Pennsylvania, and received bachelor's degrees in economics and physics. He moved to California in 1995 to attend Stanford University. However, Musk dropped out after two days and, with his brother Kimbal, co-founded online city guide software company Zip2. The startup was acquired by Compaq for $307 million in 1999, and, that same year Musk co-founded X.com, a direct bank. X.com merged with Confinity in 2000 to form PayPal.In October 2002, eBay acquired PayPal for $1.5 billion, and that same year, with $100 million of the money he made, Musk founded SpaceX, a spaceflight services company. In 2004, he became an early investor in electric vehicle manufacturer Tesla Motors, Inc. (now Tesla, Inc.). He became its chairman and product architect, assuming the position of CEO in 2008. In 2006, Musk helped create SolarCity, a solar-energy company that was acquired by Tesla in 2016 and became Tesla Energy. In 2013, he proposed a hyperloop high-speed vactrain transportation system. In 2015, he co-founded OpenAI, a nonprofit artificial intelligence research company. The following year, Musk co-founded Neuralink—a neurotechnology company developing brain–computer interfaces—and the Boring Company, a tunnel construction company. In 2022, he acquired Twitter for $44 billion. He subsequently merged the company into newly created X Corp. and rebranded the service as X the following year. In March 2023, he founded xAI, an artificial intelligence company.\")"
   ]
  },
  {
   "cell_type": "code",
   "execution_count": 5,
   "id": "7cd50304",
   "metadata": {},
   "outputs": [
    {
     "name": "stdout",
     "output_type": "stream",
     "text": [
      "1) Elon Reeve Musk is a South African-born businessman, investor, and entrepreneur known for founding and leading companies such as SpaceX, Tesla, Inc., and the Boring Company. He is currently the wealthiest person in the world with a net worth of over $200 billion.\n",
      "\n",
      "2) Two interesting facts about Elon Musk are:\n",
      "- He dropped out of Stanford University after just two days to pursue entrepreneurship and has since founded multiple successful companies.\n",
      "- Musk is known for his ambitious and innovative projects, such as the development of electric vehicles, space exploration, and artificial intelligence research.\n"
     ]
    }
   ],
   "source": [
    "print(result)"
   ]
  },
  {
   "cell_type": "code",
   "execution_count": null,
   "id": "efb0c952",
   "metadata": {},
   "outputs": [],
   "source": []
  }
 ],
 "metadata": {
  "kernelspec": {
   "display_name": "Python 3 (ipykernel)",
   "language": "python",
   "name": "python3"
  },
  "language_info": {
   "codemirror_mode": {
    "name": "ipython",
    "version": 3
   },
   "file_extension": ".py",
   "mimetype": "text/x-python",
   "name": "python",
   "nbconvert_exporter": "python",
   "pygments_lexer": "ipython3",
   "version": "3.10.13"
  }
 },
 "nbformat": 4,
 "nbformat_minor": 5
}
