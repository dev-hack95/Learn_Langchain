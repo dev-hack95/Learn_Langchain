{
 "cells": [
  {
   "cell_type": "markdown",
   "id": "284767d4-e850-4b54-ab59-da0855d650dd",
   "metadata": {},
   "source": [
    "# Inputs And Outputs (LangChain)"
   ]
  },
  {
   "cell_type": "code",
   "execution_count": 1,
   "id": "bfe97896-e475-41a3-9132-f1c6efc0849c",
   "metadata": {},
   "outputs": [],
   "source": [
    "import os\n",
    "import openai\n",
    "from dotenv import load_dotenv\n",
    "\n",
    "#config\n",
    "load_dotenv(\".env\")\n",
    "openai.api_key = os.environ.get(\"key\")"
   ]
  },
  {
   "cell_type": "code",
   "execution_count": 8,
   "id": "3abfca1b-6673-47a1-ad8e-69de5ab33ac0",
   "metadata": {},
   "outputs": [],
   "source": [
    "class ChatBot:\n",
    "    def __init__(self) -> None:\n",
    "        self.role = 'role'\n",
    "        self.user = 'user'\n",
    "        self.content = 'content'\n",
    "        self.tempreature = 0.8\n",
    "        self.max_tokens = 300\n",
    "        \n",
    "    def chat(self, user_input):\n",
    "        messages = [{self.role: self.user, self.content: user_input}]\n",
    "        response = openai.ChatCompletion.create(\n",
    "            model=\"gpt-3.5-turbo\",\n",
    "            messages=messages,\n",
    "            temperature=0.8,\n",
    "            max_tokens=self.max_tokens,\n",
    "        )\n",
    "        return response.choices[0].message['content']"
   ]
  },
  {
   "cell_type": "code",
   "execution_count": 10,
   "id": "7f32cbed-1131-4611-8d73-c41fd755086f",
   "metadata": {},
   "outputs": [
    {
     "name": "stdout",
     "output_type": "stream",
     "text": [
      "Taxonomy in computer science refers to the practice of organizing and classifying data or information in a hierarchical manner based on similarities and relationships. It involves creating a systematic structure by categorizing items into groups, subgroups, and further subdivisions.\n",
      "\n",
      "In computer science, taxonomy can be applied to various domains like database management, information retrieval, artificial intelligence, and bioinformatics. It is commonly used to organize and classify data in a way that facilitates efficient search, retrieval, and analysis.\n",
      "\n",
      "Taxonomies in computer science are typically represented as trees or directed acyclic graphs, where each node represents a category or class, and the edges represent the relationships or hierarchies between them. The topmost node represents the most general or overarching category, while the leaf nodes represent the most specific classes.\n",
      "\n",
      "For example, in a taxonomy of animals, the top-level category might be \"vertebrates,\" which can be further divided into \"mammals,\" \"birds,\" \"fish,\" and so on. The \"mammals\" category can then be further classified into \"primates,\" \"carnivores,\" \"rodents,\" etc. This hierarchical structure allows for a systematic organization of data, making it easier to navigate, search, and analyze.\n",
      "\n",
      "Taxonomies play a crucial role in various applications, such as organizing vast amounts of information in online databases, facilitating information retrieval and recommendation systems, improving search engine functionality, and enabling more effective data analysis and decision-making processes.\n"
     ]
    }
   ],
   "source": [
    "bot = ChatBot()\n",
    "print(bot.chat(\"Can you explain me the term taxanomy in computer science?\"))"
   ]
  },
  {
   "cell_type": "code",
   "execution_count": 11,
   "id": "d69f4c0e-fe7a-4763-b962-a027f2390465",
   "metadata": {},
   "outputs": [],
   "source": [
    "from langchain.llms import OpenAI"
   ]
  },
  {
   "cell_type": "code",
   "execution_count": 13,
   "id": "d687ce6e-352c-4703-b12f-37e13242e97d",
   "metadata": {},
   "outputs": [],
   "source": [
    "llm = OpenAI(api_key=os.environ.get(\"key\"))"
   ]
  },
  {
   "cell_type": "code",
   "execution_count": 17,
   "id": "d4ab15d3-c733-4ee9-9d23-1143c66990a8",
   "metadata": {},
   "outputs": [
    {
     "name": "stdout",
     "output_type": "stream",
     "text": [
      "?\n",
      "\n",
      "In computer science, the pinecone is a term used to describe a data structure that is an array of linked lists, usually arranged in a binary tree structure. It is often used in databases or other data structures where space and time efficiency are important considerations.\n"
     ]
    }
   ],
   "source": [
    "print(llm(\"What is the pinecone in somputer science world\"))"
   ]
  },
  {
   "cell_type": "code",
   "execution_count": 30,
   "id": "ea628243-83f7-4cdd-8a67-21b46d453264",
   "metadata": {},
   "outputs": [],
   "source": [
    "result_1 = llm.generate(['Is pinecone is a vectorDB', 'What are usecases of it generate a sample code form me in python'])"
   ]
  },
  {
   "cell_type": "code",
   "execution_count": 31,
   "id": "fe16c367-7407-49c8-b85c-9d98bc2ababe",
   "metadata": {},
   "outputs": [
    {
     "data": {
      "text/plain": [
       "{'title': 'LLMResult',\n",
       " 'description': 'Class that contains all results for a batched LLM call.',\n",
       " 'type': 'object',\n",
       " 'properties': {'generations': {'title': 'Generations',\n",
       "   'type': 'array',\n",
       "   'items': {'type': 'array', 'items': {'$ref': '#/definitions/Generation'}}},\n",
       "  'llm_output': {'title': 'Llm Output', 'type': 'object'},\n",
       "  'run': {'title': 'Run',\n",
       "   'type': 'array',\n",
       "   'items': {'$ref': '#/definitions/RunInfo'}}},\n",
       " 'required': ['generations'],\n",
       " 'definitions': {'Generation': {'title': 'Generation',\n",
       "   'description': 'A single text generation output.',\n",
       "   'type': 'object',\n",
       "   'properties': {'text': {'title': 'Text', 'type': 'string'},\n",
       "    'generation_info': {'title': 'Generation Info', 'type': 'object'},\n",
       "    'type': {'title': 'Type',\n",
       "     'default': 'Generation',\n",
       "     'enum': ['Generation'],\n",
       "     'type': 'string'}},\n",
       "   'required': ['text']},\n",
       "  'RunInfo': {'title': 'RunInfo',\n",
       "   'description': 'Class that contains metadata for a single execution of a Chain or model.',\n",
       "   'type': 'object',\n",
       "   'properties': {'run_id': {'title': 'Run Id',\n",
       "     'type': 'string',\n",
       "     'format': 'uuid'}},\n",
       "   'required': ['run_id']}}}"
      ]
     },
     "execution_count": 31,
     "metadata": {},
     "output_type": "execute_result"
    }
   ],
   "source": [
    "result_1.schema()"
   ]
  },
  {
   "cell_type": "code",
   "execution_count": 32,
   "id": "879456c2-61b9-47e2-9182-9931e76fc59a",
   "metadata": {},
   "outputs": [
    {
     "name": "stdout",
     "output_type": "stream",
     "text": [
      "\n",
      "\n",
      "1. Text Summarization: A use case of text summarization is to create a summary of a large document or article.\n",
      "\n",
      "Sample code in Python:\n",
      "\n",
      "import nltk\n",
      "from nltk.tokenize import sent_tokenize\n",
      "\n",
      "# Create a function that will take a text and return a summary\n",
      "def summarize_text(text):\n",
      "    # Tokenize the text into sentences\n",
      "    sentences = sent_tokenize(text)\n",
      "\n",
      "    # Create an empty list to store the summary\n",
      "    summary = []\n",
      "\n",
      "    # Iterate through each sentence\n",
      "    for sentence in sentences:\n",
      "        # Check if the sentence is already present in the summary\n",
      "        if sentence not in summary:\n",
      "            # Add the sentence to the summary\n",
      "            summary.append(sentence)\n",
      "\n",
      "    # Return the summary\n",
      "    return \" \".join(summary)\n",
      "\n",
      "# Test the function\n",
      "text = \"Python is a high-level, interpreted, interactive and object-oriented scripting language. Python is designed to be highly readable. It uses English keywords frequently where as other languages use punctuation, and it has fewer syntactical constructions than other languages. Python is a very simple, friendly and easy to learn programming language\n"
     ]
    }
   ],
   "source": [
    "print(result_1.generations[1][0].text)"
   ]
  },
  {
   "cell_type": "code",
   "execution_count": 33,
   "id": "5a2b2fdc-d3e1-4d78-ae4c-4361d2419f4e",
   "metadata": {},
   "outputs": [
    {
     "data": {
      "text/plain": [
       "{'token_usage': {'completion_tokens': 285,\n",
       "  'prompt_tokens': 21,\n",
       "  'total_tokens': 306},\n",
       " 'model_name': 'text-davinci-003'}"
      ]
     },
     "execution_count": 33,
     "metadata": {},
     "output_type": "execute_result"
    }
   ],
   "source": [
    "result_1.llm_output"
   ]
  },
  {
   "cell_type": "code",
   "execution_count": null,
   "id": "8e0d9634-4970-440d-845e-602b2f0aaf22",
   "metadata": {},
   "outputs": [],
   "source": []
  }
 ],
 "metadata": {
  "kernelspec": {
   "display_name": "Python 3 (ipykernel)",
   "language": "python",
   "name": "python3"
  },
  "language_info": {
   "codemirror_mode": {
    "name": "ipython",
    "version": 3
   },
   "file_extension": ".py",
   "mimetype": "text/x-python",
   "name": "python",
   "nbconvert_exporter": "python",
   "pygments_lexer": "ipython3",
   "version": "3.11.4"
  }
 },
 "nbformat": 4,
 "nbformat_minor": 5
}
