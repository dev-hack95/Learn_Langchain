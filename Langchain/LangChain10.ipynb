{
 "cells": [
  {
   "cell_type": "code",
   "execution_count": 1,
   "id": "952fbc8b-9f11-481a-9e0a-a32fba1e18a0",
   "metadata": {},
   "outputs": [],
   "source": [
    "import os\n",
    "import langchain\n",
    "from dotenv import load_dotenv\n",
    "from pydantic import BaseModel, Field\n",
    "from langchain.cache import InMemoryCache\n",
    "from langchain.chat_models import ChatOpenAI\n",
    "from langchain.output_parsers import OutputFixingParser, PydanticOutputParser, DatetimeOutputParser\n",
    "from langchain.schema.output_parser import BaseLLMOutputParser\n",
    "from langchain.prompts import SystemMessagePromptTemplate, HumanMessagePromptTemplate, ChatPromptTemplate, PromptTemplate\n",
    "\n",
    "# Config\n",
    "load_dotenv(\".env\")\n",
    "api_key = os.environ.get(\"key\")"
   ]
  },
  {
   "cell_type": "code",
   "execution_count": 2,
   "id": "baf9a8b3-22a4-416f-9de6-1a883d20edaf",
   "metadata": {},
   "outputs": [],
   "source": [
    "langchain.llm_cache = InMemoryCache()\n",
    "chat = ChatOpenAI(api_key=api_key, model='gpt-3.5-turbo')"
   ]
  },
  {
   "cell_type": "code",
   "execution_count": 3,
   "id": "1548e63b-183e-4d32-840c-f8896c2e9ab5",
   "metadata": {},
   "outputs": [],
   "source": [
    "class Quiz:\n",
    "    def __init__(self) -> None:\n",
    "        self.system_template = \"You are AI assistant that specialize in creating multiple choice questions on {topic} and only return question and its options\" \n",
    "        self.human_template = \"{request_prompt}\"\n",
    "        self.datetime_parser = DatetimeOutputParser()\n",
    "        \n",
    "    def createQuiz(self, topic, user_prompt):\n",
    "        \"\"\"\n",
    "        Info:\n",
    "          A chatBot that create quiz based on topic given to it\n",
    "        Args:\n",
    "          topic --> Enter Topic\n",
    "        Returns:\n",
    "          Questions with options\n",
    "        \"\"\"\n",
    "        system_prompt = SystemMessagePromptTemplate.from_template(self.system_template)\n",
    "        human_prompt = HumanMessagePromptTemplate.from_template(self.human_template)\n",
    "        chat_promt = ChatPromptTemplate.from_messages([system_prompt, human_prompt])\n",
    "        prompt = chat_promt.format_prompt(topic=topic, request_prompt=user_prompt).to_messages()\n",
    "        return chat(prompt).content\n",
    "        \n",
    "    def Answer(self, question):\n",
    "        system_template = \"Answer the question by returning correction option\"\n",
    "        system_prompt = SystemMessagePromptTemplate.from_template(system_template)\n",
    "        human_template = \"\"\"Answer the user's questions:\n",
    "        {question}\"\"\"\n",
    "        human_prompt = HumanMessagePromptTemplate.from_template(human_template)\n",
    "        chat_prompt = ChatPromptTemplate.from_messages([system_prompt, human_prompt])\n",
    "        prompt = chat_prompt.format_prompt(question=question).to_messages()\n",
    "        return chat(prompt).content"
   ]
  },
  {
   "cell_type": "code",
   "execution_count": null,
   "id": "a9eab5ea-54af-4ea0-bba6-5d9b6da8ee4e",
   "metadata": {},
   "outputs": [],
   "source": []
  },
  {
   "cell_type": "code",
   "execution_count": null,
   "id": "96c109f0-868d-4cf0-b57f-0acdc8ba071b",
   "metadata": {},
   "outputs": [],
   "source": []
  },
  {
   "cell_type": "code",
   "execution_count": 4,
   "id": "f2f131b0-75d1-4827-95c3-d5ef37054454",
   "metadata": {},
   "outputs": [
    {
     "name": "stdout",
     "output_type": "stream",
     "text": [
      "Question: What is an artificial neural network?\n",
      "\n",
      "Options:\n",
      "a) A computational model inspired by the structure and functions of the human brain\n",
      "b) A type of algorithm used for data clustering\n",
      "c) A statistical method used for linear regression\n",
      "d) A technique for feature extraction in computer vision\n"
     ]
    }
   ],
   "source": [
    "bot = Quiz()\n",
    "print(bot.createQuiz(\"machine learning\", \"Give on question on machine learning\"))"
   ]
  },
  {
   "cell_type": "code",
   "execution_count": 5,
   "id": "e7610ecf-aa9c-4375-b58c-bc9c12c76b60",
   "metadata": {},
   "outputs": [
    {
     "data": {
      "text/plain": [
       "'a) A computational model inspired by the structure and functions of the human brain'"
      ]
     },
     "execution_count": 5,
     "metadata": {},
     "output_type": "execute_result"
    }
   ],
   "source": [
    "bot.Answer(bot.createQuiz(\"machine learning\", \"Give on question on machine learning\"))"
   ]
  },
  {
   "cell_type": "code",
   "execution_count": null,
   "id": "e46237e5-f51c-4232-84b9-7a4cabd901c5",
   "metadata": {},
   "outputs": [],
   "source": []
  }
 ],
 "metadata": {
  "kernelspec": {
   "display_name": "Python 3 (ipykernel)",
   "language": "python",
   "name": "python3"
  },
  "language_info": {
   "codemirror_mode": {
    "name": "ipython",
    "version": 3
   },
   "file_extension": ".py",
   "mimetype": "text/x-python",
   "name": "python",
   "nbconvert_exporter": "python",
   "pygments_lexer": "ipython3",
   "version": "3.11.4"
  }
 },
 "nbformat": 4,
 "nbformat_minor": 5
}
