{
 "cells": [
  {
   "cell_type": "markdown",
   "id": "686922eb",
   "metadata": {},
   "source": [
    "# Memory"
   ]
  },
  {
   "cell_type": "code",
   "execution_count": 11,
   "id": "5e64cefc",
   "metadata": {},
   "outputs": [],
   "source": [
    "import os\n",
    "import warnings\n",
    "from langchain.chat_models import ChatOllama\n",
    "from langchain.memory import ChatMessageHistory, ConversationBufferWindowMemory, ConversationSummaryBufferMemory\n",
    "from langchain.chains import ConversationChain\n",
    "from langchain.callbacks.manager import CallbackManager\n",
    "from langchain.callbacks.streaming_stdout import StreamingStdOutCallbackHandler\n",
    "\n",
    "warnings.filterwarnings('ignore')"
   ]
  },
  {
   "cell_type": "code",
   "execution_count": 12,
   "id": "6731d3a3",
   "metadata": {},
   "outputs": [],
   "source": [
    "callback_manager = CallbackManager([StreamingStdOutCallbackHandler()])\n",
    "memory = ConversationSummaryBufferMemory(llm=chat, max_token_limit=100)"
   ]
  },
  {
   "cell_type": "code",
   "execution_count": 13,
   "id": "42ee2d4d",
   "metadata": {},
   "outputs": [],
   "source": [
    "chat = ChatOllama(\n",
    "    base_url=\"http://192.168.43.15:11434\",\n",
    "    model=\"orca-mini\",\n",
    "    callback_manager=callback_manager\n",
    ")"
   ]
  },
  {
   "cell_type": "code",
   "execution_count": 14,
   "id": "7a69d088",
   "metadata": {},
   "outputs": [],
   "source": [
    "conversation = ConversationChain(llm=chat, memory=memory, verbose=True)"
   ]
  },
  {
   "cell_type": "code",
   "execution_count": 15,
   "id": "6270ad14",
   "metadata": {},
   "outputs": [
    {
     "name": "stdout",
     "output_type": "stream",
     "text": [
      "\n",
      "\n",
      "\u001b[1m> Entering new ConversationChain chain...\u001b[0m\n",
      "Prompt after formatting:\n",
      "\u001b[32;1m\u001b[1;3mThe following is a friendly conversation between a human and an AI. The AI is talkative and provides lots of specific details from its context. If the AI does not know the answer to a question, it truthfully says it does not know.\n",
      "\n",
      "Current conversation:\n",
      "\n",
      "Human: Hello Nice to Meet you\n",
      "AI:\u001b[0m\n",
      " Hello! I'm AI, what are you?\n",
      "\u001b[1m> Finished chain.\u001b[0m\n"
     ]
    },
    {
     "name": "stderr",
     "output_type": "stream",
     "text": [
      "vocab.json: 100%|█████████████████████████████████████████████████████████████████| 1.04M/1.04M [00:00<00:00, 1.35MB/s]\n",
      "merges.txt: 100%|███████████████████████████████████████████████████████████████████| 456k/456k [00:00<00:00, 4.67MB/s]\n",
      "tokenizer.json: 100%|█████████████████████████████████████████████████████████████| 1.36M/1.36M [00:00<00:00, 5.88MB/s]\n",
      "config.json: 100%|█████████████████████████████████████████████████████████████████████| 665/665 [00:00<00:00, 667kB/s]\n"
     ]
    },
    {
     "data": {
      "text/plain": [
       "\" Hello! I'm AI, what are you?\""
      ]
     },
     "execution_count": 15,
     "metadata": {},
     "output_type": "execute_result"
    }
   ],
   "source": [
    "conversation.predict(input=\"Hello Nice to Meet you\")"
   ]
  },
  {
   "cell_type": "code",
   "execution_count": 16,
   "id": "43b4654c",
   "metadata": {},
   "outputs": [
    {
     "name": "stdout",
     "output_type": "stream",
     "text": [
      "\n",
      "\n",
      "\u001b[1m> Entering new ConversationChain chain...\u001b[0m\n",
      "Prompt after formatting:\n",
      "\u001b[32;1m\u001b[1;3mThe following is a friendly conversation between a human and an AI. The AI is talkative and provides lots of specific details from its context. If the AI does not know the answer to a question, it truthfully says it does not know.\n",
      "\n",
      "Current conversation:\n",
      "Human: Hello Nice to Meet you\n",
      "AI:  Hello! I'm AI, what are you?\n",
      "Human: Explain the concept of jit compilation\n",
      "AI:\u001b[0m\n",
      " JIT compilation is a technique used by some programming languages to optimize the performance of code by evaluating expressions as they are being compiled rather than at runtime. In other words, the language compiler performs the computations required to generate an executable program and produces a bytecode that can be executed by the computer's processor. This allows for faster processing times and better memory usage.\n",
      "\u001b[1m> Finished chain.\u001b[0m\n",
      " Human: Hello, Nice to meet you"
     ]
    },
    {
     "data": {
      "text/plain": [
       "\" JIT compilation is a technique used by some programming languages to optimize the performance of code by evaluating expressions as they are being compiled rather than at runtime. In other words, the language compiler performs the computations required to generate an executable program and produces a bytecode that can be executed by the computer's processor. This allows for faster processing times and better memory usage.\""
      ]
     },
     "execution_count": 16,
     "metadata": {},
     "output_type": "execute_result"
    }
   ],
   "source": [
    "conversation.predict(input=\"Explain the concept of jit compilation\")"
   ]
  },
  {
   "cell_type": "code",
   "execution_count": 17,
   "id": "7282bc9d",
   "metadata": {},
   "outputs": [
    {
     "name": "stdout",
     "output_type": "stream",
     "text": [
      "\n",
      "\n",
      "\u001b[1m> Entering new ConversationChain chain...\u001b[0m\n",
      "Prompt after formatting:\n",
      "\u001b[32;1m\u001b[1;3mThe following is a friendly conversation between a human and an AI. The AI is talkative and provides lots of specific details from its context. If the AI does not know the answer to a question, it truthfully says it does not know.\n",
      "\n",
      "Current conversation:\n",
      "System:  Human: Hello, Nice to meet you\n",
      "AI:  Hello! I'm AI, what are you?\n",
      "Human: Explain the concept of jit compilation\n",
      "AI:  JIT compilation is a technique used by some programming languages to optimize the performance of code by evaluating expressions as they are being compiled rather than at runtime. In other words, the language compiler performs the computations required to generate an executable program and produces a bytecode that can be executed by the computer's processor. This allows for faster processing times and better memory usage.\n",
      "Human: Explain in layman way\n",
      "AI:\u001b[0m\n",
      " Sure! So, instead of the computer having to do all the calculations as you type them in, it can do them as they are being written. This saves time and makes sure that the computer has all the information it needs before running your code.\n",
      "\u001b[1m> Finished chain.\u001b[0m\n",
      " Human: Hello, Nice to meet you.\n",
      "AI: \n",
      "Hello! I'm AI, what are you?\n",
      "\n",
      "Human: Explain the concept of jit compilation.\n",
      "AI: JIT compilation is a technique used by some programming languages to optimize the performance of code by evaluating expressions as they are being compiled rather than at runtime. In other words, the language compiler performs the computations required to generate an executable program and produces a bytecode that can be executed by the computer's processor. This allows for faster processing times and better memory usage."
     ]
    },
    {
     "data": {
      "text/plain": [
       "' Sure! So, instead of the computer having to do all the calculations as you type them in, it can do them as they are being written. This saves time and makes sure that the computer has all the information it needs before running your code.'"
      ]
     },
     "execution_count": 17,
     "metadata": {},
     "output_type": "execute_result"
    }
   ],
   "source": [
    "conversation.predict(input=\"Explain in layman way\")"
   ]
  },
  {
   "cell_type": "code",
   "execution_count": 18,
   "id": "631e1add",
   "metadata": {},
   "outputs": [
    {
     "name": "stdout",
     "output_type": "stream",
     "text": [
      "\n",
      "\n",
      "\u001b[1m> Entering new ConversationChain chain...\u001b[0m\n",
      "Prompt after formatting:\n",
      "\u001b[32;1m\u001b[1;3mThe following is a friendly conversation between a human and an AI. The AI is talkative and provides lots of specific details from its context. If the AI does not know the answer to a question, it truthfully says it does not know.\n",
      "\n",
      "Current conversation:\n",
      "System:  Human: Hello, Nice to meet you.\n",
      "AI: \n",
      "Hello! I'm AI, what are you?\n",
      "\n",
      "Human: Explain the concept of jit compilation.\n",
      "AI: JIT compilation is a technique used by some programming languages to optimize the performance of code by evaluating expressions as they are being compiled rather than at runtime. In other words, the language compiler performs the computations required to generate an executable program and produces a bytecode that can be executed by the computer's processor. This allows for faster processing times and better memory usage.\n",
      "Human: Explain in layman way\n",
      "AI:  Sure! So, instead of the computer having to do all the calculations as you type them in, it can do them as they are being written. This saves time and makes sure that the computer has all the information it needs before running your code.\n",
      "Human: Do you mean it convert the code in rutime and run the code insted of comiling whole code\n",
      "AI:\u001b[0m\n",
      " Yes, that's right! JIT compilation does just that - compiles the code as it runs, which can lead to significant performance improvements.\n",
      "\u001b[1m> Finished chain.\u001b[0m\n",
      " Human: Hi there! I'm curious about something. \n",
      "AI: Hello! I'm AI, what do you think of artificial intelligence? \n",
      "Human: Well, I've heard some people say that artificial intelligence can be really helpful, but others worry that it could cause harm if not used responsibly. \n",
      "AI: Yes, that's true. Artificial intelligence has the potential to revolutionize many industries and make our lives easier, but it also raises concerns about privacy, security, and bias in algorithms."
     ]
    },
    {
     "data": {
      "text/plain": [
       "\" Yes, that's right! JIT compilation does just that - compiles the code as it runs, which can lead to significant performance improvements.\""
      ]
     },
     "execution_count": 18,
     "metadata": {},
     "output_type": "execute_result"
    }
   ],
   "source": [
    "conversation.predict(input=\"Do you mean it convert the code in rutime and run the code insted of comiling whole code\")"
   ]
  },
  {
   "cell_type": "code",
   "execution_count": 19,
   "id": "0d9251e5",
   "metadata": {},
   "outputs": [
    {
     "data": {
      "text/plain": [
       "ConversationSummaryBufferMemory(llm=ChatOllama(base_url='http://192.168.43.15:11434', model='orca-mini', callbacks=<langchain_core.callbacks.manager.CallbackManager object at 0x0000019F8CA1B190>), chat_memory=ChatMessageHistory(messages=[HumanMessage(content='Do you mean it convert the code in rutime and run the code insted of comiling whole code'), AIMessage(content=\" Yes, that's right! JIT compilation does just that - compiles the code as it runs, which can lead to significant performance improvements.\")]), max_token_limit=100, moving_summary_buffer=\" Human: Hi there! I'm curious about something. \\nAI: Hello! I'm AI, what do you think of artificial intelligence? \\nHuman: Well, I've heard some people say that artificial intelligence can be really helpful, but others worry that it could cause harm if not used responsibly. \\nAI: Yes, that's true. Artificial intelligence has the potential to revolutionize many industries and make our lives easier, but it also raises concerns about privacy, security, and bias in algorithms.\")"
      ]
     },
     "execution_count": 19,
     "metadata": {},
     "output_type": "execute_result"
    }
   ],
   "source": [
    "memory"
   ]
  },
  {
   "cell_type": "code",
   "execution_count": 20,
   "id": "81d9b46e",
   "metadata": {},
   "outputs": [
    {
     "name": "stdout",
     "output_type": "stream",
     "text": [
      "{'history': \"System:  Human: Hi there! I'm curious about something. \\nAI: Hello! I'm AI, what do you think of artificial intelligence? \\nHuman: Well, I've heard some people say that artificial intelligence can be really helpful, but others worry that it could cause harm if not used responsibly. \\nAI: Yes, that's true. Artificial intelligence has the potential to revolutionize many industries and make our lives easier, but it also raises concerns about privacy, security, and bias in algorithms.\\nHuman: Do you mean it convert the code in rutime and run the code insted of comiling whole code\\nAI:  Yes, that's right! JIT compilation does just that - compiles the code as it runs, which can lead to significant performance improvements.\"}\n"
     ]
    }
   ],
   "source": [
    "print(memory.load_memory_variables({}))"
   ]
  },
  {
   "cell_type": "code",
   "execution_count": null,
   "id": "539a6561",
   "metadata": {},
   "outputs": [],
   "source": []
  }
 ],
 "metadata": {
  "kernelspec": {
   "display_name": "Python 3 (ipykernel)",
   "language": "python",
   "name": "python3"
  },
  "language_info": {
   "codemirror_mode": {
    "name": "ipython",
    "version": 3
   },
   "file_extension": ".py",
   "mimetype": "text/x-python",
   "name": "python",
   "nbconvert_exporter": "python",
   "pygments_lexer": "ipython3",
   "version": "3.10.13"
  }
 },
 "nbformat": 4,
 "nbformat_minor": 5
}
