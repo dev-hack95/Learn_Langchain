{
 "cells": [
  {
   "cell_type": "markdown",
   "id": "55224879",
   "metadata": {},
   "source": [
    "# Chains"
   ]
  },
  {
   "cell_type": "code",
   "execution_count": 1,
   "id": "09fa8539",
   "metadata": {},
   "outputs": [],
   "source": [
    "import os\n",
    "import warnings\n",
    "from dotenv import load_dotenv\n",
    "from pydantic import BaseModel, BaseConfig\n",
    "from langchain.chat_models import ChatOpenAI\n",
    "from langchain.chains import LLMChain\n",
    "from langchain.prompts import ChatPromptTemplate, SystemMessagePromptTemplate, HumanMessagePromptTemplate\n",
    "\n",
    "warnings.filterwarnings(\"ignore\")"
   ]
  },
  {
   "cell_type": "code",
   "execution_count": 2,
   "id": "648bd5df",
   "metadata": {},
   "outputs": [],
   "source": [
    "load_dotenv(\".env\")\n",
    "api_key = os.environ.get(\"key\")"
   ]
  },
  {
   "cell_type": "code",
   "execution_count": 3,
   "id": "1eaf98cb",
   "metadata": {},
   "outputs": [],
   "source": [
    "chat = ChatOpenAI(api_key=api_key, model='gpt-3.5-turbo', max_tokens=500)"
   ]
  },
  {
   "cell_type": "code",
   "execution_count": 4,
   "id": "4aa9a7af",
   "metadata": {},
   "outputs": [],
   "source": [
    "human_template = \"{question}\"\n",
    "humna_prompt = HumanMessagePromptTemplate.from_template(human_template)\n",
    "chat_prompt = ChatPromptTemplate.from_messages([human_template])"
   ]
  },
  {
   "cell_type": "code",
   "execution_count": 5,
   "id": "94ae80dc",
   "metadata": {},
   "outputs": [],
   "source": [
    "chain = LLMChain(llm=chat, prompt=chat_prompt)"
   ]
  },
  {
   "cell_type": "code",
   "execution_count": 6,
   "id": "6905ecf4",
   "metadata": {},
   "outputs": [
    {
     "data": {
      "text/plain": [
       "'Bit quantization is a process in which a continuous signal is converted into a digital representation by reducing the number of bits used to represent each sample of the signal. It involves dividing the amplitude range of the signal into discrete levels and assigning a specific digital code to each level. The number of bits used for quantization determines the resolution and accuracy of the digital representation. A higher number of bits allows for a finer level of detail and a more accurate representation of the original signal, while a lower number of bits results in a coarser representation with less detail and accuracy. Bit quantization is commonly used in digital audio and video processing, as well as in various other applications involving digitization of analog signals.'"
      ]
     },
     "execution_count": 6,
     "metadata": {},
     "output_type": "execute_result"
    }
   ],
   "source": [
    "chain.run(\"What is bit quantization\")"
   ]
  },
  {
   "cell_type": "markdown",
   "id": "a515e830",
   "metadata": {},
   "source": [
    "# Simple Sequential Chains"
   ]
  },
  {
   "cell_type": "markdown",
   "id": "5492b8f5",
   "metadata": {},
   "source": [
    "```bash\n",
    "          --------------------------------------\n",
    "Input -> |  LLMChain  |  LLMchain  |  LLMchain  | -> Output\n",
    "          --------------------------------------\n",
    "```"
   ]
  },
  {
   "cell_type": "code",
   "execution_count": 7,
   "id": "bb5c852d",
   "metadata": {},
   "outputs": [],
   "source": [
    "from langchain.chains import SimpleSequentialChain"
   ]
  },
  {
   "cell_type": "code",
   "execution_count": 8,
   "id": "92da6036",
   "metadata": {},
   "outputs": [],
   "source": [
    "template1 = \"Give me a simple bullet point outline for a blog post on {topic}\"\n",
    "first_prompt = ChatPromptTemplate.from_template(template1)\n",
    "chain_one = LLMChain(llm=chat, prompt=first_prompt)"
   ]
  },
  {
   "cell_type": "code",
   "execution_count": 9,
   "id": "e10fef98",
   "metadata": {},
   "outputs": [],
   "source": [
    "template2 = \"Write a blog post tusing this outline {outline}\"\n",
    "second_prompt = ChatPromptTemplate.from_template(template2)\n",
    "chain_two = LLMChain(llm = chat, prompt=second_prompt)"
   ]
  },
  {
   "cell_type": "code",
   "execution_count": 10,
   "id": "ce243e62",
   "metadata": {},
   "outputs": [],
   "source": [
    "full_chain = SimpleSequentialChain(chains=[chain_one, chain_two], verbose=True)"
   ]
  },
  {
   "cell_type": "code",
   "execution_count": 11,
   "id": "0be62e53",
   "metadata": {},
   "outputs": [
    {
     "name": "stdout",
     "output_type": "stream",
     "text": [
      "\n",
      "\n",
      "\u001b[1m> Entering new SimpleSequentialChain chain...\u001b[0m\n",
      "\u001b[36;1m\u001b[1;3m- Introduction to skew data\n",
      "- Definition of skewness and its importance in data analysis\n",
      "- Explanation of positive and negative skew\n",
      "- Examples of skewed data in real-world datasets\n",
      "- How to identify skewness in data using statistical methods\n",
      "- Impact of skewness on data analysis and interpretation of results\n",
      "- Techniques to deal with skewness, such as data transformations and outlier removal\n",
      "- Discussion on the limitations and considerations when handling skew data\n",
      "- Conclusion emphasizing the importance of understanding and addressing skewness in data analysis.\u001b[0m\n",
      "\u001b[33;1m\u001b[1;3mIntroduction to Skew Data\n",
      "\n",
      "Data analysis is an integral part of various fields, from finance and marketing to healthcare and scientific research. It involves examining, interpreting, and drawing meaningful insights from datasets. However, not all datasets are created equal, and some exhibit a phenomenon known as skewness. In this blog post, we will explore the concept of skewness, its importance in data analysis, methods to identify and deal with skewness, and the impact it can have on the interpretation of results.\n",
      "\n",
      "Definition of Skewness and Its Importance in Data Analysis\n",
      "\n",
      "Skewness is a statistical measure that describes the asymmetry or lack of symmetry in a dataset's distribution. It provides insights into the shape and behavior of the data. Understanding skewness is crucial because it can significantly affect the validity of statistical analyses and the interpretation of results. Skewness helps us assess whether the data is normally distributed or if there are any underlying patterns or anomalies.\n",
      "\n",
      "Explanation of Positive and Negative Skew\n",
      "\n",
      "Skewness can be classified as positive or negative, depending on the direction of the skew. Positive skewness occurs when the tail of the distribution extends towards higher values, indicating an abundance of low values or outliers on the left side. Negative skewness, on the other hand, occurs when the tail extends towards lower values, indicating an abundance of high values or outliers on the right side. The magnitude of skewness indicates the extent of the deviation from symmetry.\n",
      "\n",
      "Examples of Skewed Data in Real-World Datasets\n",
      "\n",
      "Skewed data can be observed in various real-world datasets. For instance, consider a dataset representing the income of individuals in a given population. It is likely to exhibit positive skewness, as most people earn relatively lower incomes, but a few individuals earn significantly higher incomes. Another example is the distribution of housing prices, which often displays positive skewness due to the presence of expensive luxury properties.\n",
      "\n",
      "How to Identify Skewness in Data Using Statistical Methods\n",
      "\n",
      "Several statistical methods can be used to identify skewness in data. One common method is calculating the skewness coefficient, which measures the third standardized moment of the dataset. A skewness coefficient of zero indicates a symmetrical distribution, while positive and negative values indicate positive and negative skewness, respectively. Additionally, graphical tools, such as histogram plots and box plots, can provide visual cues about skewness.\n",
      "\n",
      "Impact of Skewness on Data Analysis and Interpretation of Results\n",
      "\n",
      "Skewness can have a significant impact on data analysis and the interpretation of results\u001b[0m\n",
      "\n",
      "\u001b[1m> Finished chain.\u001b[0m\n"
     ]
    },
    {
     "data": {
      "text/plain": [
       "\"Introduction to Skew Data\\n\\nData analysis is an integral part of various fields, from finance and marketing to healthcare and scientific research. It involves examining, interpreting, and drawing meaningful insights from datasets. However, not all datasets are created equal, and some exhibit a phenomenon known as skewness. In this blog post, we will explore the concept of skewness, its importance in data analysis, methods to identify and deal with skewness, and the impact it can have on the interpretation of results.\\n\\nDefinition of Skewness and Its Importance in Data Analysis\\n\\nSkewness is a statistical measure that describes the asymmetry or lack of symmetry in a dataset's distribution. It provides insights into the shape and behavior of the data. Understanding skewness is crucial because it can significantly affect the validity of statistical analyses and the interpretation of results. Skewness helps us assess whether the data is normally distributed or if there are any underlying patterns or anomalies.\\n\\nExplanation of Positive and Negative Skew\\n\\nSkewness can be classified as positive or negative, depending on the direction of the skew. Positive skewness occurs when the tail of the distribution extends towards higher values, indicating an abundance of low values or outliers on the left side. Negative skewness, on the other hand, occurs when the tail extends towards lower values, indicating an abundance of high values or outliers on the right side. The magnitude of skewness indicates the extent of the deviation from symmetry.\\n\\nExamples of Skewed Data in Real-World Datasets\\n\\nSkewed data can be observed in various real-world datasets. For instance, consider a dataset representing the income of individuals in a given population. It is likely to exhibit positive skewness, as most people earn relatively lower incomes, but a few individuals earn significantly higher incomes. Another example is the distribution of housing prices, which often displays positive skewness due to the presence of expensive luxury properties.\\n\\nHow to Identify Skewness in Data Using Statistical Methods\\n\\nSeveral statistical methods can be used to identify skewness in data. One common method is calculating the skewness coefficient, which measures the third standardized moment of the dataset. A skewness coefficient of zero indicates a symmetrical distribution, while positive and negative values indicate positive and negative skewness, respectively. Additionally, graphical tools, such as histogram plots and box plots, can provide visual cues about skewness.\\n\\nImpact of Skewness on Data Analysis and Interpretation of Results\\n\\nSkewness can have a significant impact on data analysis and the interpretation of results\""
      ]
     },
     "execution_count": 11,
     "metadata": {},
     "output_type": "execute_result"
    }
   ],
   "source": [
    "full_chain.run('Skew Data')"
   ]
  },
  {
   "cell_type": "markdown",
   "id": "0a9f99e4",
   "metadata": {},
   "source": [
    "# Sequential Chains"
   ]
  },
  {
   "cell_type": "code",
   "execution_count": 12,
   "id": "fa41cbc0",
   "metadata": {},
   "outputs": [],
   "source": [
    "from langchain.chains import SequentialChain"
   ]
  },
  {
   "cell_type": "code",
   "execution_count": 13,
   "id": "cb220fe1",
   "metadata": {},
   "outputs": [],
   "source": [
    "template1 = \"Give a summary of this employee's performance review:\\n{review}\"\n",
    "prompt1 = ChatPromptTemplate.from_template(template1)\n",
    "chain_1 = LLMChain(llm=chat,\n",
    "                     prompt=prompt1,\n",
    "                     output_key=\"review_summary\")"
   ]
  },
  {
   "cell_type": "code",
   "execution_count": 14,
   "id": "d033fef4",
   "metadata": {},
   "outputs": [],
   "source": [
    "template2 = \"Identify key employee weaknesses in this review summary:\\n{review_summary}\"\n",
    "prompt2 = ChatPromptTemplate.from_template(template2)\n",
    "chain_2 = LLMChain(llm=chat,\n",
    "                     prompt=prompt2,\n",
    "                     output_key=\"weaknesses\")"
   ]
  },
  {
   "cell_type": "code",
   "execution_count": 15,
   "id": "209ca23e",
   "metadata": {},
   "outputs": [],
   "source": [
    "template3 = \"Create a personalized plan to help address and fix these weaknesses:\\n{weaknesses}\"\n",
    "prompt3 = ChatPromptTemplate.from_template(template3)\n",
    "chain_3 = LLMChain(llm=chat,\n",
    "                     prompt=prompt3,\n",
    "                     output_key=\"final_plan\")"
   ]
  },
  {
   "cell_type": "code",
   "execution_count": 16,
   "id": "a5810593",
   "metadata": {},
   "outputs": [],
   "source": [
    "seq_chain = SequentialChain(chains=[chain_1,chain_2,chain_3],\n",
    "                            input_variables=['review'],\n",
    "                            output_variables=['review_summary','weaknesses','final_plan'],\n",
    "                            verbose=True)"
   ]
  },
  {
   "cell_type": "code",
   "execution_count": 17,
   "id": "268c27c5",
   "metadata": {},
   "outputs": [],
   "source": [
    "employee_review = '''\n",
    "Employee Information:\n",
    "Name: Joe Schmo\n",
    "Position: Software Engineer\n",
    "Date of Review: July 14, 2023\n",
    "\n",
    "Strengths:\n",
    "Joe is a highly skilled software engineer with a deep understanding of programming languages, algorithms, and software development best practices. His technical expertise shines through in his ability to efficiently solve complex problems and deliver high-quality code.\n",
    "\n",
    "One of Joe's greatest strengths is his collaborative nature. He actively engages with cross-functional teams, contributing valuable insights and seeking input from others. His open-mindedness and willingness to learn from colleagues make him a true team player.\n",
    "\n",
    "Joe consistently demonstrates initiative and self-motivation. He takes the lead in seeking out new projects and challenges, and his proactive attitude has led to significant improvements in existing processes and systems. His dedication to self-improvement and growth is commendable.\n",
    "\n",
    "Another notable strength is Joe's adaptability. He has shown great flexibility in handling changing project requirements and learning new technologies. This adaptability allows him to seamlessly transition between different projects and tasks, making him a valuable asset to the team.\n",
    "\n",
    "Joe's problem-solving skills are exceptional. He approaches issues with a logical mindset and consistently finds effective solutions, often thinking outside the box. His ability to break down complex problems into manageable parts is key to his success in resolving issues efficiently.\n",
    "\n",
    "Weaknesses:\n",
    "While Joe possesses numerous strengths, there are a few areas where he could benefit from improvement. One such area is time management. Occasionally, Joe struggles with effectively managing his time, resulting in missed deadlines or the need for additional support to complete tasks on time. Developing better prioritization and time management techniques would greatly enhance his efficiency.\n",
    "\n",
    "Another area for improvement is Joe's written communication skills. While he communicates well verbally, there have been instances where his written documentation lacked clarity, leading to confusion among team members. Focusing on enhancing his written communication abilities will help him effectively convey ideas and instructions.\n",
    "\n",
    "Additionally, Joe tends to take on too many responsibilities and hesitates to delegate tasks to others. This can result in an excessive workload and potential burnout. Encouraging him to delegate tasks appropriately will not only alleviate his own workload but also foster a more balanced and productive team environment.\n",
    "'''"
   ]
  },
  {
   "cell_type": "code",
   "execution_count": 19,
   "id": "811c1b98",
   "metadata": {},
   "outputs": [
    {
     "name": "stdout",
     "output_type": "stream",
     "text": [
      "\n",
      "\n",
      "\u001b[1m> Entering new SequentialChain chain...\u001b[0m\n",
      "\n",
      "\u001b[1m> Finished chain.\u001b[0m\n"
     ]
    }
   ],
   "source": [
    "results = seq_chain(employee_review)"
   ]
  },
  {
   "cell_type": "code",
   "execution_count": 23,
   "id": "19fae9df",
   "metadata": {},
   "outputs": [
    {
     "name": "stdout",
     "output_type": "stream",
     "text": [
      "\n",
      "Employee Information:\n",
      "Name: Joe Schmo\n",
      "Position: Software Engineer\n",
      "Date of Review: July 14, 2023\n",
      "\n",
      "Strengths:\n",
      "Joe is a highly skilled software engineer with a deep understanding of programming languages, algorithms, and software development best practices. His technical expertise shines through in his ability to efficiently solve complex problems and deliver high-quality code.\n",
      "\n",
      "One of Joe's greatest strengths is his collaborative nature. He actively engages with cross-functional teams, contributing valuable insights and seeking input from others. His open-mindedness and willingness to learn from colleagues make him a true team player.\n",
      "\n",
      "Joe consistently demonstrates initiative and self-motivation. He takes the lead in seeking out new projects and challenges, and his proactive attitude has led to significant improvements in existing processes and systems. His dedication to self-improvement and growth is commendable.\n",
      "\n",
      "Another notable strength is Joe's adaptability. He has shown great flexibility in handling changing project requirements and learning new technologies. This adaptability allows him to seamlessly transition between different projects and tasks, making him a valuable asset to the team.\n",
      "\n",
      "Joe's problem-solving skills are exceptional. He approaches issues with a logical mindset and consistently finds effective solutions, often thinking outside the box. His ability to break down complex problems into manageable parts is key to his success in resolving issues efficiently.\n",
      "\n",
      "Weaknesses:\n",
      "While Joe possesses numerous strengths, there are a few areas where he could benefit from improvement. One such area is time management. Occasionally, Joe struggles with effectively managing his time, resulting in missed deadlines or the need for additional support to complete tasks on time. Developing better prioritization and time management techniques would greatly enhance his efficiency.\n",
      "\n",
      "Another area for improvement is Joe's written communication skills. While he communicates well verbally, there have been instances where his written documentation lacked clarity, leading to confusion among team members. Focusing on enhancing his written communication abilities will help him effectively convey ideas and instructions.\n",
      "\n",
      "Additionally, Joe tends to take on too many responsibilities and hesitates to delegate tasks to others. This can result in an excessive workload and potential burnout. Encouraging him to delegate tasks appropriately will not only alleviate his own workload but also foster a more balanced and productive team environment.\n",
      "\n"
     ]
    }
   ],
   "source": [
    "print(results['review'])"
   ]
  },
  {
   "cell_type": "code",
   "execution_count": 24,
   "id": "5b023f7f",
   "metadata": {},
   "outputs": [
    {
     "name": "stdout",
     "output_type": "stream",
     "text": [
      "Joe Schmo, a Software Engineer, has received a positive performance review. He is praised for his technical expertise, problem-solving skills, collaborative nature, initiative, adaptability, and dedication to self-improvement. However, there are areas for improvement, including time management, written communication skills, and delegation of tasks. Overall, Joe is a highly skilled and valuable team player who would benefit from enhancing these specific areas.\n"
     ]
    }
   ],
   "source": [
    "print(results['review_summary'])"
   ]
  },
  {
   "cell_type": "code",
   "execution_count": 25,
   "id": "71ac3b05",
   "metadata": {},
   "outputs": [
    {
     "name": "stdout",
     "output_type": "stream",
     "text": [
      "Key employee weaknesses identified in this review summary are time management, written communication skills, and delegation of tasks.\n"
     ]
    }
   ],
   "source": [
    "print(results['weaknesses'])"
   ]
  },
  {
   "cell_type": "code",
   "execution_count": 26,
   "id": "5556f50c",
   "metadata": {},
   "outputs": [
    {
     "name": "stdout",
     "output_type": "stream",
     "text": [
      "Personalized Plan to Address and Fix Key Employee Weaknesses:\n",
      "\n",
      "1. Time Management:\n",
      "- Provide time management training: Offer workshops or seminars to improve employee's time management skills. This can include techniques such as prioritizing tasks, setting realistic deadlines, and creating a daily schedule.\n",
      "- Set clear expectations: Clearly communicate deadlines and expectations for each task or project. This will help the employee understand the importance of effective time management and the consequences of not meeting deadlines.\n",
      "- Encourage the use of productivity tools: Introduce and encourage the use of time management tools, such as project management software or task management apps. These tools can help the employee stay organized, track progress, and manage their time more efficiently.\n",
      "\n",
      "2. Written Communication Skills:\n",
      "- Offer writing workshops or courses: Provide opportunities for the employee to enhance their written communication skills through workshops or online courses. These can focus on grammar, punctuation, sentence structure, and effective writing techniques.\n",
      "- Assign writing tasks: Assign regular writing tasks to the employee to practice and improve their skills. Provide constructive feedback and guidance to help them develop better written communication.\n",
      "- Encourage reading and writing outside of work: Encourage the employee to read books, articles, and blogs to expand their vocabulary and expose them to different writing styles. Additionally, encourage them to practice writing outside of work, such as journaling or maintaining a personal blog.\n",
      "\n",
      "3. Delegation of Tasks:\n",
      "- Provide delegation training: Offer training programs on effective delegation techniques. Teach the employee how to identify tasks suitable for delegation, select the right person for the job, and provide clear instructions and expectations.\n",
      "- Gradually increase delegation responsibilities: Start by assigning smaller tasks or projects to the employee and gradually increase the complexity or importance of the delegated tasks. This will help build their confidence and ability to delegate effectively.\n",
      "- Provide ongoing support and feedback: Regularly check in with the employee to assess their progress and offer guidance and support when needed. Provide feedback on their delegation skills, highlighting areas of improvement and acknowledging successful instances of delegation.\n",
      "\n",
      "Overall, it's important to create a supportive and encouraging environment where the employee feels comfortable addressing their weaknesses. Regularly communicate the importance of self-improvement and offer resources and opportunities for growth. By implementing this personalized plan, the employee can gradually enhance their time management, written communication, and delegation skills, ultimately becoming a more effective and valuable team member.\n"
     ]
    }
   ],
   "source": [
    "print(results['final_plan'])"
   ]
  },
  {
   "cell_type": "code",
   "execution_count": null,
   "id": "bc8862ef",
   "metadata": {},
   "outputs": [],
   "source": []
  }
 ],
 "metadata": {
  "kernelspec": {
   "display_name": "Python 3 (ipykernel)",
   "language": "python",
   "name": "python3"
  },
  "language_info": {
   "codemirror_mode": {
    "name": "ipython",
    "version": 3
   },
   "file_extension": ".py",
   "mimetype": "text/x-python",
   "name": "python",
   "nbconvert_exporter": "python",
   "pygments_lexer": "ipython3",
   "version": "3.10.13"
  }
 },
 "nbformat": 4,
 "nbformat_minor": 5
}
