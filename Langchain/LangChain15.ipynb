{
 "cells": [
  {
   "cell_type": "markdown",
   "id": "55224879",
   "metadata": {},
   "source": [
    "# Chains"
   ]
  },
  {
   "cell_type": "code",
   "execution_count": 1,
   "id": "09fa8539",
   "metadata": {},
   "outputs": [],
   "source": [
    "import os\n",
    "import warnings\n",
    "from dotenv import load_dotenv\n",
    "from pydantic import BaseModel, BaseConfig\n",
    "from langchain.chat_models import ChatOpenAI\n",
    "from langchain.chains import LLMChain\n",
    "from langchain.prompts import ChatPromptTemplate, SystemMessagePromptTemplate, HumanMessagePromptTemplate, PromptTemplate\n",
    "\n",
    "warnings.filterwarnings(\"ignore\")"
   ]
  },
  {
   "cell_type": "code",
   "execution_count": 2,
   "id": "648bd5df",
   "metadata": {},
   "outputs": [],
   "source": [
    "load_dotenv(\".env\")\n",
    "api_key = os.environ.get(\"key\")"
   ]
  },
  {
   "cell_type": "code",
   "execution_count": 3,
   "id": "1eaf98cb",
   "metadata": {},
   "outputs": [],
   "source": [
    "chat = ChatOpenAI(api_key=api_key, model='gpt-3.5-turbo', max_tokens=500)"
   ]
  },
  {
   "cell_type": "code",
   "execution_count": 4,
   "id": "4aa9a7af",
   "metadata": {},
   "outputs": [],
   "source": [
    "human_template = \"{question}\"\n",
    "humna_prompt = HumanMessagePromptTemplate.from_template(human_template)\n",
    "chat_prompt = ChatPromptTemplate.from_messages([human_template])"
   ]
  },
  {
   "cell_type": "code",
   "execution_count": 5,
   "id": "94ae80dc",
   "metadata": {},
   "outputs": [],
   "source": [
    "chain = LLMChain(llm=chat, prompt=chat_prompt)"
   ]
  },
  {
   "cell_type": "code",
   "execution_count": 6,
   "id": "6905ecf4",
   "metadata": {},
   "outputs": [
    {
     "data": {
      "text/plain": [
       "'Bit quantization is a process of reducing the number of bits used to represent a signal or data. It involves the conversion of continuous analog signals or high-resolution digital signals into a discrete set of values with a limited number of bits. This process is commonly used in digital signal processing and data compression techniques to reduce the storage space or transmission bandwidth required for the signal or data. Bit quantization can result in a loss of detail and accuracy in the representation of the original signal, as the quantization levels are limited by the number of bits used.'"
      ]
     },
     "execution_count": 6,
     "metadata": {},
     "output_type": "execute_result"
    }
   ],
   "source": [
    "chain.run(\"What is bit quantization\")"
   ]
  },
  {
   "cell_type": "markdown",
   "id": "a515e830",
   "metadata": {},
   "source": [
    "# Simple Sequential Chains"
   ]
  },
  {
   "cell_type": "markdown",
   "id": "5492b8f5",
   "metadata": {},
   "source": [
    "```bash\n",
    "          --------------------------------------\n",
    "Input -> |  LLMChain  |  LLMchain  |  LLMchain  | -> Output\n",
    "          --------------------------------------\n",
    "```"
   ]
  },
  {
   "cell_type": "code",
   "execution_count": 7,
   "id": "bb5c852d",
   "metadata": {},
   "outputs": [],
   "source": [
    "from langchain.chains import SimpleSequentialChain"
   ]
  },
  {
   "cell_type": "code",
   "execution_count": 8,
   "id": "92da6036",
   "metadata": {},
   "outputs": [],
   "source": [
    "template1 = \"Give me a simple bullet point outline for a blog post on {topic}\"\n",
    "first_prompt = ChatPromptTemplate.from_template(template1)\n",
    "chain_one = LLMChain(llm=chat, prompt=first_prompt)"
   ]
  },
  {
   "cell_type": "code",
   "execution_count": 9,
   "id": "e10fef98",
   "metadata": {},
   "outputs": [],
   "source": [
    "template2 = \"Write a blog post tusing this outline {outline}\"\n",
    "second_prompt = ChatPromptTemplate.from_template(template2)\n",
    "chain_two = LLMChain(llm = chat, prompt=second_prompt)"
   ]
  },
  {
   "cell_type": "code",
   "execution_count": 10,
   "id": "ce243e62",
   "metadata": {},
   "outputs": [],
   "source": [
    "full_chain = SimpleSequentialChain(chains=[chain_one, chain_two], verbose=True)"
   ]
  },
  {
   "cell_type": "code",
   "execution_count": 11,
   "id": "0be62e53",
   "metadata": {},
   "outputs": [
    {
     "name": "stdout",
     "output_type": "stream",
     "text": [
      "\n",
      "\n",
      "\u001b[1m> Entering new SimpleSequentialChain chain...\u001b[0m\n",
      "\u001b[36;1m\u001b[1;3m- Introduction to skew data and its significance in data analysis\n",
      "- Definition of skewness and how it is calculated\n",
      "- Understanding the different types of skewness: positive skewness, negative skewness, and zero skewness\n",
      "- Examples of real-life data distributions exhibiting skewness\n",
      "- Exploring the impact of skewness on statistical measures such as mean, median, and mode\n",
      "- Techniques for detecting skewness in data through graphical methods (histograms, box plots, etc.)\n",
      "- Discussing the implications of skewness on statistical analysis and interpretation\n",
      "- Strategies for handling skewness, including data transformation techniques (logarithmic, square root, etc.)\n",
      "- Highlighting the importance of addressing skewness before performing certain statistical tests\n",
      "- Conclusion emphasizing the significance of recognizing and dealing with skewness in data analysis.\u001b[0m\n",
      "\u001b[33;1m\u001b[1;3mIntroduction to Skew Data and its Significance in Data Analysis\n",
      "\n",
      "Data analysis is a crucial component of any research or decision-making process. It helps us derive meaningful insights and make informed decisions. However, not all data is created equal. Some datasets exhibit a particular pattern known as skewness, which can significantly impact the analysis and interpretation of the data. In this blog post, we will explore the concept of skewness, its calculation, types, impact on statistical measures, detection techniques, implications on analysis, strategies for handling skewness, and the importance of recognizing and dealing with skewness in data analysis.\n",
      "\n",
      "Definition of Skewness and How it is Calculated\n",
      "\n",
      "Skewness refers to the measure of the asymmetry or lack of symmetry in a dataset's distribution. A symmetrical distribution has equal amounts of data on both sides of the mean, while a skewed distribution has more data concentrated on one side. Skewness can be positive, negative, or zero, indicating the direction and extent of the skew.\n",
      "\n",
      "To calculate skewness, we use a mathematical formula that compares the differences between the data values and the mean, to the standard deviation. The formula can be a bit complex, but statistical software packages can easily calculate it for us.\n",
      "\n",
      "Understanding the Different Types of Skewness: Positive Skewness, Negative Skewness, and Zero Skewness\n",
      "\n",
      "Positive skewness occurs when the tail of the distribution extends towards the right, indicating that the majority of the data is concentrated on the left side. Negative skewness, on the other hand, occurs when the tail extends towards the left, indicating that the majority of the data is concentrated on the right side. Zero skewness signifies a perfectly symmetrical distribution.\n",
      "\n",
      "Examples of Real-Life Data Distributions Exhibiting Skewness\n",
      "\n",
      "Skewness can be observed in various real-life datasets. For instance, in income distributions, we often find a positive skewness, as a few individuals may have significantly higher incomes compared to the majority. Similarly, exam scores may exhibit negative skewness when a few students perform extremely poorly, while most perform reasonably well.\n",
      "\n",
      "Exploring the Impact of Skewness on Statistical Measures\n",
      "\n",
      "Skewness can have a profound impact on statistical measures such as the mean, median, and mode. In a symmetrical distribution, these measures are approximately equal. However, in skewed distributions, they can differ significantly. Positive skewness tends to pull the mean towards the right, making it greater than the median. Conversely, negative\u001b[0m\n",
      "\n",
      "\u001b[1m> Finished chain.\u001b[0m\n"
     ]
    },
    {
     "data": {
      "text/plain": [
       "\"Introduction to Skew Data and its Significance in Data Analysis\\n\\nData analysis is a crucial component of any research or decision-making process. It helps us derive meaningful insights and make informed decisions. However, not all data is created equal. Some datasets exhibit a particular pattern known as skewness, which can significantly impact the analysis and interpretation of the data. In this blog post, we will explore the concept of skewness, its calculation, types, impact on statistical measures, detection techniques, implications on analysis, strategies for handling skewness, and the importance of recognizing and dealing with skewness in data analysis.\\n\\nDefinition of Skewness and How it is Calculated\\n\\nSkewness refers to the measure of the asymmetry or lack of symmetry in a dataset's distribution. A symmetrical distribution has equal amounts of data on both sides of the mean, while a skewed distribution has more data concentrated on one side. Skewness can be positive, negative, or zero, indicating the direction and extent of the skew.\\n\\nTo calculate skewness, we use a mathematical formula that compares the differences between the data values and the mean, to the standard deviation. The formula can be a bit complex, but statistical software packages can easily calculate it for us.\\n\\nUnderstanding the Different Types of Skewness: Positive Skewness, Negative Skewness, and Zero Skewness\\n\\nPositive skewness occurs when the tail of the distribution extends towards the right, indicating that the majority of the data is concentrated on the left side. Negative skewness, on the other hand, occurs when the tail extends towards the left, indicating that the majority of the data is concentrated on the right side. Zero skewness signifies a perfectly symmetrical distribution.\\n\\nExamples of Real-Life Data Distributions Exhibiting Skewness\\n\\nSkewness can be observed in various real-life datasets. For instance, in income distributions, we often find a positive skewness, as a few individuals may have significantly higher incomes compared to the majority. Similarly, exam scores may exhibit negative skewness when a few students perform extremely poorly, while most perform reasonably well.\\n\\nExploring the Impact of Skewness on Statistical Measures\\n\\nSkewness can have a profound impact on statistical measures such as the mean, median, and mode. In a symmetrical distribution, these measures are approximately equal. However, in skewed distributions, they can differ significantly. Positive skewness tends to pull the mean towards the right, making it greater than the median. Conversely, negative\""
      ]
     },
     "execution_count": 11,
     "metadata": {},
     "output_type": "execute_result"
    }
   ],
   "source": [
    "full_chain.run('Skew Data')"
   ]
  },
  {
   "cell_type": "markdown",
   "id": "0a9f99e4",
   "metadata": {},
   "source": [
    "# Sequential Chains"
   ]
  },
  {
   "cell_type": "code",
   "execution_count": 12,
   "id": "fa41cbc0",
   "metadata": {},
   "outputs": [],
   "source": [
    "from langchain.chains import SequentialChain"
   ]
  },
  {
   "cell_type": "code",
   "execution_count": 13,
   "id": "cb220fe1",
   "metadata": {},
   "outputs": [],
   "source": [
    "template1 = \"Give a summary of this employee's performance review:\\n{review}\"\n",
    "prompt1 = ChatPromptTemplate.from_template(template1)\n",
    "chain_1 = LLMChain(llm=chat,\n",
    "                     prompt=prompt1,\n",
    "                     output_key=\"review_summary\")"
   ]
  },
  {
   "cell_type": "code",
   "execution_count": 14,
   "id": "d033fef4",
   "metadata": {},
   "outputs": [],
   "source": [
    "template2 = \"Identify key employee weaknesses in this review summary:\\n{review_summary}\"\n",
    "prompt2 = ChatPromptTemplate.from_template(template2)\n",
    "chain_2 = LLMChain(llm=chat,\n",
    "                     prompt=prompt2,\n",
    "                     output_key=\"weaknesses\")"
   ]
  },
  {
   "cell_type": "code",
   "execution_count": 15,
   "id": "209ca23e",
   "metadata": {},
   "outputs": [],
   "source": [
    "template3 = \"Create a personalized plan to help address and fix these weaknesses:\\n{weaknesses}\"\n",
    "prompt3 = ChatPromptTemplate.from_template(template3)\n",
    "chain_3 = LLMChain(llm=chat,\n",
    "                     prompt=prompt3,\n",
    "                     output_key=\"final_plan\")"
   ]
  },
  {
   "cell_type": "code",
   "execution_count": 16,
   "id": "a5810593",
   "metadata": {},
   "outputs": [],
   "source": [
    "seq_chain = SequentialChain(chains=[chain_1,chain_2,chain_3],\n",
    "                            input_variables=['review'],\n",
    "                            output_variables=['review_summary','weaknesses','final_plan'],\n",
    "                            verbose=True)"
   ]
  },
  {
   "cell_type": "code",
   "execution_count": 17,
   "id": "268c27c5",
   "metadata": {},
   "outputs": [],
   "source": [
    "employee_review = '''\n",
    "Employee Information:\n",
    "Name: Joe Schmo\n",
    "Position: Software Engineer\n",
    "Date of Review: July 14, 2023\n",
    "\n",
    "Strengths:\n",
    "Joe is a highly skilled software engineer with a deep understanding of programming languages, algorithms, and software development best practices. His technical expertise shines through in his ability to efficiently solve complex problems and deliver high-quality code.\n",
    "\n",
    "One of Joe's greatest strengths is his collaborative nature. He actively engages with cross-functional teams, contributing valuable insights and seeking input from others. His open-mindedness and willingness to learn from colleagues make him a true team player.\n",
    "\n",
    "Joe consistently demonstrates initiative and self-motivation. He takes the lead in seeking out new projects and challenges, and his proactive attitude has led to significant improvements in existing processes and systems. His dedication to self-improvement and growth is commendable.\n",
    "\n",
    "Another notable strength is Joe's adaptability. He has shown great flexibility in handling changing project requirements and learning new technologies. This adaptability allows him to seamlessly transition between different projects and tasks, making him a valuable asset to the team.\n",
    "\n",
    "Joe's problem-solving skills are exceptional. He approaches issues with a logical mindset and consistently finds effective solutions, often thinking outside the box. His ability to break down complex problems into manageable parts is key to his success in resolving issues efficiently.\n",
    "\n",
    "Weaknesses:\n",
    "While Joe possesses numerous strengths, there are a few areas where he could benefit from improvement. One such area is time management. Occasionally, Joe struggles with effectively managing his time, resulting in missed deadlines or the need for additional support to complete tasks on time. Developing better prioritization and time management techniques would greatly enhance his efficiency.\n",
    "\n",
    "Another area for improvement is Joe's written communication skills. While he communicates well verbally, there have been instances where his written documentation lacked clarity, leading to confusion among team members. Focusing on enhancing his written communication abilities will help him effectively convey ideas and instructions.\n",
    "\n",
    "Additionally, Joe tends to take on too many responsibilities and hesitates to delegate tasks to others. This can result in an excessive workload and potential burnout. Encouraging him to delegate tasks appropriately will not only alleviate his own workload but also foster a more balanced and productive team environment.\n",
    "'''"
   ]
  },
  {
   "cell_type": "code",
   "execution_count": 18,
   "id": "811c1b98",
   "metadata": {},
   "outputs": [
    {
     "name": "stdout",
     "output_type": "stream",
     "text": [
      "\n",
      "\n",
      "\u001b[1m> Entering new SequentialChain chain...\u001b[0m\n",
      "\n",
      "\u001b[1m> Finished chain.\u001b[0m\n"
     ]
    }
   ],
   "source": [
    "results = seq_chain(employee_review)"
   ]
  },
  {
   "cell_type": "code",
   "execution_count": 19,
   "id": "19fae9df",
   "metadata": {},
   "outputs": [
    {
     "name": "stdout",
     "output_type": "stream",
     "text": [
      "\n",
      "Employee Information:\n",
      "Name: Joe Schmo\n",
      "Position: Software Engineer\n",
      "Date of Review: July 14, 2023\n",
      "\n",
      "Strengths:\n",
      "Joe is a highly skilled software engineer with a deep understanding of programming languages, algorithms, and software development best practices. His technical expertise shines through in his ability to efficiently solve complex problems and deliver high-quality code.\n",
      "\n",
      "One of Joe's greatest strengths is his collaborative nature. He actively engages with cross-functional teams, contributing valuable insights and seeking input from others. His open-mindedness and willingness to learn from colleagues make him a true team player.\n",
      "\n",
      "Joe consistently demonstrates initiative and self-motivation. He takes the lead in seeking out new projects and challenges, and his proactive attitude has led to significant improvements in existing processes and systems. His dedication to self-improvement and growth is commendable.\n",
      "\n",
      "Another notable strength is Joe's adaptability. He has shown great flexibility in handling changing project requirements and learning new technologies. This adaptability allows him to seamlessly transition between different projects and tasks, making him a valuable asset to the team.\n",
      "\n",
      "Joe's problem-solving skills are exceptional. He approaches issues with a logical mindset and consistently finds effective solutions, often thinking outside the box. His ability to break down complex problems into manageable parts is key to his success in resolving issues efficiently.\n",
      "\n",
      "Weaknesses:\n",
      "While Joe possesses numerous strengths, there are a few areas where he could benefit from improvement. One such area is time management. Occasionally, Joe struggles with effectively managing his time, resulting in missed deadlines or the need for additional support to complete tasks on time. Developing better prioritization and time management techniques would greatly enhance his efficiency.\n",
      "\n",
      "Another area for improvement is Joe's written communication skills. While he communicates well verbally, there have been instances where his written documentation lacked clarity, leading to confusion among team members. Focusing on enhancing his written communication abilities will help him effectively convey ideas and instructions.\n",
      "\n",
      "Additionally, Joe tends to take on too many responsibilities and hesitates to delegate tasks to others. This can result in an excessive workload and potential burnout. Encouraging him to delegate tasks appropriately will not only alleviate his own workload but also foster a more balanced and productive team environment.\n",
      "\n"
     ]
    }
   ],
   "source": [
    "print(results['review'])"
   ]
  },
  {
   "cell_type": "code",
   "execution_count": 20,
   "id": "5b023f7f",
   "metadata": {},
   "outputs": [
    {
     "name": "stdout",
     "output_type": "stream",
     "text": [
      "Summary:\n",
      "\n",
      "Joe Schmo, a software engineer, received a positive performance review. He is highly skilled and knowledgeable in programming languages, algorithms, and software development best practices. Joe collaborates well with cross-functional teams, actively seeking input and contributing valuable insights. He demonstrates initiative and self-motivation, taking the lead in seeking out new projects and making significant improvements in existing processes. Joe is adaptable, handling changing project requirements and learning new technologies seamlessly. His problem-solving skills are exceptional, approaching issues with a logical mindset and finding effective solutions. \n",
      "\n",
      "However, there are areas for improvement. Joe struggles with time management at times, resulting in missed deadlines or the need for additional support. Enhancing prioritization and time management techniques would increase efficiency. His written communication skills could also be improved to ensure clarity and avoid confusion among team members. Joe tends to take on too many responsibilities and hesitates to delegate tasks, potentially leading to an excessive workload and burnout. Encouraging appropriate delegation would create a more balanced and productive team environment.\n"
     ]
    }
   ],
   "source": [
    "print(results['review_summary'])"
   ]
  },
  {
   "cell_type": "code",
   "execution_count": 21,
   "id": "71ac3b05",
   "metadata": {},
   "outputs": [
    {
     "name": "stdout",
     "output_type": "stream",
     "text": [
      "Key employee weaknesses identified in this review summary:\n",
      "\n",
      "1. Time management: Joe struggles with time management, leading to missed deadlines or the need for additional support. This suggests that he may not be effectively prioritizing tasks or managing his workload efficiently.\n",
      "\n",
      "2. Written communication skills: Joe's written communication skills could be improved to ensure clarity and avoid confusion among team members. This weakness may indicate that he needs to work on effectively conveying his ideas and instructions in writing.\n",
      "\n",
      "3. Delegation: Joe tends to take on too many responsibilities and hesitates to delegate tasks. This may result in an excessive workload and potential burnout. Encouraging appropriate delegation would help create a more balanced and productive team environment.\n"
     ]
    }
   ],
   "source": [
    "print(results['weaknesses'])"
   ]
  },
  {
   "cell_type": "code",
   "execution_count": 22,
   "id": "5556f50c",
   "metadata": {},
   "outputs": [
    {
     "name": "stdout",
     "output_type": "stream",
     "text": [
      "Personalized Plan to Address and Fix the Identified Weaknesses:\n",
      "\n",
      "1. Time Management:\n",
      "\n",
      "a. Set Clear Goals and Priorities: Work with Joe to establish clear goals and priorities for each project or task. This will help him understand what needs to be done and prioritize his time accordingly.\n",
      "\n",
      "b. Create a Schedule: Help Joe create a detailed schedule or to-do list that outlines specific tasks, deadlines, and estimated time required for completion. This will assist him in organizing his time effectively and ensure that he meets deadlines.\n",
      "\n",
      "c. Time Blocking: Encourage Joe to allocate specific blocks of time for different tasks or activities. This will help him focus on one task at a time and avoid multitasking, which can lead to inefficiency.\n",
      "\n",
      "d. Time Tracking: Have Joe track his time spent on different tasks for a week or two. This will provide insight into how he is currently allocating his time and identify areas where he can improve.\n",
      "\n",
      "2. Written Communication Skills:\n",
      "\n",
      "a. Provide Training or Workshops: Offer training sessions or workshops focusing on written communication skills. This can include topics such as writing clear and concise emails, creating effective reports, and improving grammar and punctuation.\n",
      "\n",
      "b. Role-Playing Exercises: Conduct role-playing exercises where Joe can practice writing emails, memos, or other written communication materials. Provide feedback and guidance to help him improve his writing skills.\n",
      "\n",
      "c. Encourage Proofreading and Editing: Emphasize the importance of proofreading and editing before sending any written communication. Encourage Joe to review his work for clarity, grammar, and spelling errors.\n",
      "\n",
      "d. Mentorship: Pair Joe with a mentor who excels in written communication skills. This mentor can provide guidance, review Joe's work, and offer advice on how to improve his written communication.\n",
      "\n",
      "3. Delegation:\n",
      "\n",
      "a. Identify Strengths and Weaknesses: Work with Joe to identify his strengths and weaknesses in terms of tasks and responsibilities. Help him understand that delegating tasks to others who are more skilled or experienced can lead to better outcomes.\n",
      "\n",
      "b. Provide Training or Support: If Joe lacks confidence in delegating tasks, offer training or support to help him develop the necessary skills. This can include training on how to effectively assign tasks, provide clear instructions, and monitor progress.\n",
      "\n",
      "c. Encourage Team Collaboration: Foster a team environment where collaboration is encouraged. This can help Joe understand the benefits of delegating tasks and working together to achieve common goals.\n",
      "\n",
      "d. Recognize and Reward Delegation: Acknowledge and\n"
     ]
    }
   ],
   "source": [
    "print(results['final_plan'])"
   ]
  },
  {
   "cell_type": "markdown",
   "id": "5207e1f6",
   "metadata": {},
   "source": [
    "# LLMRouterChains"
   ]
  },
  {
   "cell_type": "code",
   "execution_count": 23,
   "id": "bc8862ef",
   "metadata": {},
   "outputs": [],
   "source": [
    "from langchain.chains import LLMRouterChain"
   ]
  },
  {
   "cell_type": "markdown",
   "id": "4eee2716",
   "metadata": {},
   "source": [
    "```bash\n",
    "           ------------------------------------\n",
    "Input --> | Router | LLM Decides Chain | Chain | ---> Output\n",
    "           ------------------------------------\n",
    "```"
   ]
  },
  {
   "cell_type": "markdown",
   "id": "1fbd0ac8",
   "metadata": {},
   "source": [
    "### Router Templates"
   ]
  },
  {
   "cell_type": "code",
   "execution_count": 38,
   "id": "a4e1df4d",
   "metadata": {},
   "outputs": [],
   "source": [
    "beginner_template = \"\"\"You are a physics teachers who is really focused on beginners and explaining comples in simple to understand terms.\n",
    "You assume no prior knowledge. Here is Question:\\n{input}\"\"\""
   ]
  },
  {
   "cell_type": "code",
   "execution_count": 39,
   "id": "20de9e46",
   "metadata": {},
   "outputs": [],
   "source": [
    "expert_template = \"\"\"You are a physics professor who explains physics topics to advanced audience members.\n",
    "You can assume anyone you answer has a PhD in Physics. Here is a question:\\n{input}\"\"\""
   ]
  },
  {
   "cell_type": "code",
   "execution_count": 40,
   "id": "70be6af7",
   "metadata": {},
   "outputs": [],
   "source": [
    "# Route Prompt Information\n",
    "# [] Name, Description, Template"
   ]
  },
  {
   "cell_type": "code",
   "execution_count": 52,
   "id": "f34836a7",
   "metadata": {},
   "outputs": [],
   "source": [
    "prompt_infos = [\n",
    "    {\n",
    "        'name': 'beginner physics',\n",
    "        'description': 'Answers basic physics questions',\n",
    "        'template': beginner_template,\n",
    "    },\n",
    "    {\n",
    "        'name': 'advanced Physics',\n",
    "        'description': 'Answers advanced physics questions',\n",
    "        'template': expert_template,\n",
    "    }\n",
    "]"
   ]
  },
  {
   "cell_type": "code",
   "execution_count": 53,
   "id": "cceae492",
   "metadata": {},
   "outputs": [],
   "source": [
    "destination_chains = dict()\n",
    "for p_info in prompt_infos:\n",
    "    name = p_info[\"name\"]\n",
    "    prompt_template = p_info[\"template\"]\n",
    "    prompt = ChatPromptTemplate.from_template(template=prompt_template)\n",
    "    chain = LLMChain(llm=chat, prompt=prompt)\n",
    "    destination_chains[name] = chain"
   ]
  },
  {
   "cell_type": "code",
   "execution_count": 54,
   "id": "6cb99f80",
   "metadata": {},
   "outputs": [],
   "source": [
    "default_prompt = ChatPromptTemplate.from_template(\"{input}\")\n",
    "default_chain = LLMChain(llm=chat,prompt=default_prompt)"
   ]
  },
  {
   "cell_type": "code",
   "execution_count": 55,
   "id": "7e72872a",
   "metadata": {},
   "outputs": [],
   "source": [
    "from langchain.chains.router import MultiPromptChain\n",
    "from langchain.chains.router.llm_router import LLMRouterChain,RouterOutputParser\n",
    "from langchain.chains.router.multi_prompt_prompt import MULTI_PROMPT_ROUTER_TEMPLATE"
   ]
  },
  {
   "cell_type": "code",
   "execution_count": 56,
   "id": "f2e01227",
   "metadata": {},
   "outputs": [],
   "source": [
    "destinations = [f\"{p['name']}: {p['description']}\" for p in prompt_infos]\n",
    "destinations_str = \"\\n\".join(destinations)"
   ]
  },
  {
   "cell_type": "code",
   "execution_count": 57,
   "id": "3d45ecdd",
   "metadata": {},
   "outputs": [
    {
     "data": {
      "text/plain": [
       "'beginner physics: Answers basic physics questions\\nadvanced Physics: Answers advanced physics questions'"
      ]
     },
     "execution_count": 57,
     "metadata": {},
     "output_type": "execute_result"
    }
   ],
   "source": [
    "destinations_str"
   ]
  },
  {
   "cell_type": "code",
   "execution_count": 58,
   "id": "2d13fad3",
   "metadata": {},
   "outputs": [],
   "source": [
    "router_template = MULTI_PROMPT_ROUTER_TEMPLATE.format(\n",
    "    destinations=destinations_str\n",
    ")\n",
    "router_prompt = PromptTemplate(\n",
    "    template=router_template,\n",
    "    input_variables=[\"question\"],\n",
    "    output_parser=RouterOutputParser(),\n",
    ")"
   ]
  },
  {
   "cell_type": "code",
   "execution_count": 59,
   "id": "8e9abe80",
   "metadata": {},
   "outputs": [
    {
     "name": "stdout",
     "output_type": "stream",
     "text": [
      "Given a raw text input to a language model select the model prompt best suited for the input. You will be given the names of the available prompts and a description of what the prompt is best suited for. You may also revise the original input if you think that revising it will ultimately lead to a better response from the language model.\n",
      "\n",
      "<< FORMATTING >>\n",
      "Return a markdown code snippet with a JSON object formatted to look like:\n",
      "```json\n",
      "{{\n",
      "    \"destination\": string \\ name of the prompt to use or \"DEFAULT\"\n",
      "    \"next_inputs\": string \\ a potentially modified version of the original input\n",
      "}}\n",
      "```\n",
      "\n",
      "REMEMBER: \"destination\" MUST be one of the candidate prompt names specified below OR it can be \"DEFAULT\" if the input is not well suited for any of the candidate prompts.\n",
      "REMEMBER: \"next_inputs\" can just be the original input if you don't think any modifications are needed.\n",
      "\n",
      "<< CANDIDATE PROMPTS >>\n",
      "beginner physics: Answers basic physics questions\n",
      "advanced Physics: Answers advanced physics questions\n",
      "\n",
      "<< INPUT >>\n",
      "{input}\n",
      "\n",
      "<< OUTPUT (must include ```json at the start of the response) >>\n",
      "<< OUTPUT (must end with ```) >>\n",
      "\n"
     ]
    }
   ],
   "source": [
    "print(router_template)"
   ]
  },
  {
   "cell_type": "code",
   "execution_count": 60,
   "id": "518d9d92",
   "metadata": {},
   "outputs": [],
   "source": [
    "router_chain = LLMRouterChain.from_llm(chat, router_prompt)"
   ]
  },
  {
   "cell_type": "code",
   "execution_count": 61,
   "id": "0afdc6f0",
   "metadata": {},
   "outputs": [],
   "source": [
    "chain = MultiPromptChain(router_chain=router_chain, \n",
    "                         destination_chains=destination_chains, \n",
    "                         default_chain=default_chain, verbose=True\n",
    "                        )"
   ]
  },
  {
   "cell_type": "code",
   "execution_count": 62,
   "id": "7ef2150a",
   "metadata": {},
   "outputs": [
    {
     "name": "stdout",
     "output_type": "stream",
     "text": [
      "\n",
      "\n",
      "\u001b[1m> Entering new MultiPromptChain chain...\u001b[0m\n",
      "beginner physics: {'input': 'How do magnets work?'}\n",
      "\u001b[1m> Finished chain.\u001b[0m\n"
     ]
    },
    {
     "data": {
      "text/plain": [
       "'Great question! Let\\'s dive into the fascinating world of magnets and understand how they work.\\n\\nMagnets are objects that produce a magnetic field, which is an invisible force field that surrounds them. This magnetic field is what allows magnets to attract or repel certain materials.\\n\\nNow, to understand how magnets work, we need to talk about tiny particles called electrons. Electrons are negatively charged particles that orbit around the nucleus of an atom. Every electron behaves like a tiny magnet, having a property called \"spin.\"\\n\\nIn most materials, like wood or plastic, the electrons are oriented randomly, canceling out each other\\'s magnetic effects. However, in certain materials like iron, nickel, and cobalt, the electrons tend to align in the same direction, creating tiny regions called magnetic domains.\\n\\nWhen you bring a magnet near an object made of one of these magnetic materials, the magnetic field of the magnet interacts with the magnetic domains in the material. If the domains align in the same direction as the magnet\\'s field, they will attract each other. On the other hand, if the domains align in the opposite direction, they will repel each other.\\n\\nThis attraction or repulsion between magnets and magnetic materials is what makes magnets useful and interesting. It\\'s the reason magnets can stick to your refrigerator or attract metal objects.\\n\\nNow, you might wonder, how can magnets attract things that are not made of magnetic materials? Well, when a magnet is brought close to a non-magnetic material like plastic or wood, it doesn\\'t create an attraction or repulsion like it does with magnetic materials. However, it can still exert a force on the electrons in those materials.\\n\\nAs the magnet gets close, it causes the electrons in the non-magnetic material to move slightly. This movement of electrons creates a tiny electric current. And as we know from the fundamentals of physics, when there is an electric current, there\\'s a magnetic field created around it. So, this induced magnetic field in the non-magnetic material interacts with the magnet\\'s field and can cause a force of attraction, even though the material itself is not magnetic.\\n\\nIn summary, magnets work because of the alignment of electrons in certain materials, creating magnetic domains. When magnets come close to each other or to certain materials, their magnetic fields interact, resulting in either attraction or repulsion. Additionally, magnets can also induce tiny electric currents in non-magnetic materials, creating a magnetic field that can cause a force of attraction.\\n\\nI hope this explanation helps you understand how'"
      ]
     },
     "execution_count": 62,
     "metadata": {},
     "output_type": "execute_result"
    }
   ],
   "source": [
    "chain.run(\"How do magnets work?\")"
   ]
  },
  {
   "cell_type": "code",
   "execution_count": 63,
   "id": "0170e3d7",
   "metadata": {},
   "outputs": [
    {
     "name": "stdout",
     "output_type": "stream",
     "text": [
      "\n",
      "\n",
      "\u001b[1m> Entering new MultiPromptChain chain...\u001b[0m\n",
      "beginner physics: {'input': 'what is the Zeno effect?'}\n",
      "\u001b[1m> Finished chain.\u001b[0m\n"
     ]
    },
    {
     "data": {
      "text/plain": [
       "'The Zeno effect, also known as the quantum Zeno effect, is a fascinating concept in quantum mechanics. To understand it, let\\'s first talk about a basic principle in quantum mechanics called the wave-particle duality.\\n\\nIn the quantum world, particles such as electrons or photons can behave both as particles and as waves. This means they can exist in multiple states simultaneously, which we call a superposition. However, when we observe or measure a particle, it \"collapses\" into a single state or position.\\n\\nNow, let\\'s dive into the Zeno effect. Named after the ancient Greek philosopher Zeno of Elea, who posed paradoxes involving motion, the Zeno effect is a phenomenon where repeated measurements or observations can prevent a quantum system from evolving or changing its state.\\n\\nImagine you have a quantum system, like an atom, that is initially in a superposition of two states, let\\'s say state A and state B. According to the laws of quantum mechanics, this system would naturally evolve over time, with the superposition oscillating back and forth between A and B.\\n\\nHowever, if you constantly measure the system to check its state, something interesting happens. Each time you measure it, the wavefunction collapses into either state A or B. If you measure it frequently enough, the system doesn\\'t have enough time to evolve and remains \"stuck\" in the state you keep observing.\\n\\nThis phenomenon is similar to the Greek philosopher Zeno\\'s paradoxes, where motion could be seen as an illusion due to an infinite number of smaller steps. In the case of the Zeno effect, the system appears to be frozen in time due to the continuous measurement interruptions.\\n\\nIt\\'s important to note that the Zeno effect is a theoretical concept and has not been observed in macroscopic objects. It primarily applies to microscopic quantum systems, where the delicate balance between superposition and measurement comes into play.\\n\\nThe Zeno effect has significant implications in quantum computing and quantum information theory. By carefully controlling and manipulating measurements, scientists can exploit the Zeno effect to protect fragile quantum states from decoherence, which is the loss of quantum information due to interactions with the environment.\\n\\nIn summary, the Zeno effect refers to the phenomenon where frequent measurements or observations can halt the natural evolution of a quantum system, effectively freezing it in its current state. It showcases the intricate relationship between superposition and measurement in the quantum world.'"
      ]
     },
     "execution_count": 63,
     "metadata": {},
     "output_type": "execute_result"
    }
   ],
   "source": [
    "chain.run(\"what is zeno effect?\")"
   ]
  },
  {
   "cell_type": "code",
   "execution_count": 64,
   "id": "a52efe0d",
   "metadata": {},
   "outputs": [
    {
     "name": "stdout",
     "output_type": "stream",
     "text": [
      "\n",
      "\n",
      "\u001b[1m> Entering new MultiPromptChain chain...\u001b[0m\n",
      "advanced Physics: {'input': 'How do Feynman Diagrams work?'}\n",
      "\u001b[1m> Finished chain.\u001b[0m\n"
     ]
    },
    {
     "data": {
      "text/plain": [
       "\"Ah, Feynman diagrams, an elegant and powerful tool in the realm of quantum field theory. To understand how they work, let's dive into the fascinating world of particle interactions.\\n\\nFirst introduced by the renowned physicist Richard Feynman, Feynman diagrams provide a pictorial representation of particle interactions, specifically within the framework of quantum electrodynamics (QED) and quantum chromodynamics (QCD). They help us calculate the probabilities of various particle processes occurring.\\n\\nAt the heart of Feynman diagrams lies the concept of virtual particles. In quantum field theory, empty space is not really empty but is teeming with virtual particles spontaneously appearing and disappearing due to quantum fluctuations. These virtual particles are responsible for mediating the forces between real particles.\\n\\nEach Feynman diagram represents a specific interaction or process involving particles. The diagram consists of lines representing the particles involved, along with various vertices where these lines meet. The lines can be either solid (fermions) or wavy (bosons), depending on the type of particle they represent.\\n\\nThe fundamental rule of constructing Feynman diagrams is that they must conserve energy, momentum, and all other relevant quantities. The lines in the diagram depict the flow of momentum and energy from one particle to another during an interaction. The vertices represent the points where the particles interact and exchange momentum.\\n\\nThe probability amplitude associated with a Feynman diagram is calculated by assigning mathematical terms to each line and vertex based on the rules of quantum field theory. These terms involve propagators, which describe the behavior of particles, and coupling constants that quantify the strength of the interaction.\\n\\nTo compute the probability of a specific process occurring, we sum up the probability amplitudes of all possible Feynman diagrams that contribute to that process. This summation accounts for the interference effects between different diagrams, a characteristic feature of quantum mechanics.\\n\\nRemarkably, Feynman diagrams allow us to visualize complex particle interactions and facilitate calculations that would otherwise be extremely challenging. They provide a powerful tool for studying and predicting particle behavior in high-energy physics experiments.\\n\\nIt's worth noting that while Feynman diagrams find extensive applications in QED and QCD, they are not the only way to represent particle interactions. Other formalisms, such as the S-matrix and path integrals, also contribute to our understanding of quantum field theory. Nevertheless, Feynman diagrams offer a particularly intuitive and accessible approach to grappling with the intricacies of particle physics.\\n\\nI hope this explanation sheds some light on\""
      ]
     },
     "execution_count": 64,
     "metadata": {},
     "output_type": "execute_result"
    }
   ],
   "source": [
    "chain.run(\"How do Feynman Diagrams work?\")"
   ]
  },
  {
   "cell_type": "code",
   "execution_count": null,
   "id": "89772d49",
   "metadata": {},
   "outputs": [],
   "source": []
  }
 ],
 "metadata": {
  "kernelspec": {
   "display_name": "Python 3 (ipykernel)",
   "language": "python",
   "name": "python3"
  },
  "language_info": {
   "codemirror_mode": {
    "name": "ipython",
    "version": 3
   },
   "file_extension": ".py",
   "mimetype": "text/x-python",
   "name": "python",
   "nbconvert_exporter": "python",
   "pygments_lexer": "ipython3",
   "version": "3.10.13"
  }
 },
 "nbformat": 4,
 "nbformat_minor": 5
}
