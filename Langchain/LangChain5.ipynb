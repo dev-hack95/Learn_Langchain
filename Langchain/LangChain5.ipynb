{
 "cells": [
  {
   "cell_type": "markdown",
   "id": "cc04d860-6058-435b-ba90-3a3eaf04f57b",
   "metadata": {},
   "source": [
    "# More on Templates"
   ]
  },
  {
   "cell_type": "code",
   "execution_count": 8,
   "id": "70a056b5-14ab-413b-8603-cfa9281baedd",
   "metadata": {},
   "outputs": [],
   "source": [
    "import os\n",
    "import langchain\n",
    "from dotenv import load_dotenv\n",
    "from langchain.chat_models import ChatOpenAI\n",
    "from langchain.cache import InMemoryCache\n",
    "from langchain.prompts import SystemMessagePromptTemplate, AIMessagePromptTemplate, HumanMessagePromptTemplate, PromptTemplate, ChatPromptTemplate\n",
    "\n",
    "# Config\n",
    "load_dotenv(\".env\")\n",
    "api_key = os.environ.get(\"key\")"
   ]
  },
  {
   "cell_type": "code",
   "execution_count": 2,
   "id": "c2dd99bf-d7e2-45c8-8918-758af5d81e63",
   "metadata": {},
   "outputs": [],
   "source": [
    "langchain.llm_cache = InMemoryCache()\n",
    "chat = ChatOpenAI(api_key=api_key, model='gpt-3.5-turbo', max_tokens=500)"
   ]
  },
  {
   "cell_type": "code",
   "execution_count": 3,
   "id": "3a0fba7f-5931-4e80-9d04-b6e9abd0dbc3",
   "metadata": {},
   "outputs": [],
   "source": [
    "class TravelIdea:\n",
    "    def __init__(self):\n",
    "        self.system_template = \"You are an AI agent that will plan trips for the peoples using their {generes} and {budget}\"\n",
    "        self.human_template = \"{request_prompt}\"\n",
    "        \n",
    "    def Travel(self, prompt: str, generes: str, budget: str):\n",
    "        sys_message_prompt = SystemMessagePromptTemplate.from_template(self.system_template)\n",
    "        human_message_prompt = HumanMessagePromptTemplate.from_template(self.human_template)\n",
    "        chat_prompt  = ChatPromptTemplate.from_messages([sys_message_prompt, human_message_prompt])\n",
    "        prompt = chat_prompt.format_prompt(request_prompt=prompt, generes=generes, budget=budget).to_messages()\n",
    "        return chat(prompt).content"
   ]
  },
  {
   "cell_type": "code",
   "execution_count": 4,
   "id": "2c788f69-4a56-4901-ab5b-70669c7cbb8b",
   "metadata": {},
   "outputs": [
    {
     "name": "stdout",
     "output_type": "stream",
     "text": [
      "Great! Going on a mountain trip with off-road biking sounds like an exciting adventure. With a budget of 10,000 Rupees, here's a suggested itinerary for your trip:\n",
      "\n",
      "Day 1:\n",
      "- Start your journey early in the morning to make the most of the day.\n",
      "- Head towards a popular mountain destination such as Manali, Shimla, or McLeod Ganj, depending on your location.\n",
      "- Enjoy the scenic views on the way and stop for photo opportunities.\n",
      "- Reach your destination and check into a budget-friendly guesthouse or hostel.\n",
      "- Spend the evening exploring the local market and trying some local cuisine.\n",
      "- Total estimated cost: Accommodation (guesthouse/hostel) - 1,500 Rupees.\n",
      "\n",
      "Day 2:\n",
      "- Rent an off-road bike for the day. Prices can vary, but expect to spend around 2,000 Rupees.\n",
      "- Start your day early and set off to explore the nearby mountains and trails.\n",
      "- Visit popular attractions like Rohtang Pass, Solang Valley, or Kufri, depending on your destination.\n",
      "- Enjoy the beautiful landscapes, take photos, and make sure to bring some snacks and water for the journey.\n",
      "- Return to your accommodation in the evening and have a well-deserved rest.\n",
      "- Total estimated cost: Off-road bike rental - 2,000 Rupees, Snacks and water - 500 Rupees.\n",
      "\n",
      "Day 3:\n",
      "- After breakfast, set off on another off-road biking adventure.\n",
      "- Explore different trails and paths, and if possible, visit lesser-known areas to experience the tranquility of the mountains.\n",
      "- Stop for a picnic lunch and enjoy the breathtaking views.\n",
      "- Return to your accommodation in the evening.\n",
      "- Total estimated cost: Picnic lunch - 500 Rupees.\n",
      "\n",
      "Day 4:\n",
      "- Check out of your accommodation and start your journey back home.\n",
      "- Take your time, enjoy the scenic routes, and capture some last memories.\n",
      "- Stop for breaks and meals along the way, budgeting around 1,500 Rupees for food and fuel.\n",
      "- Arrive back home in the evening, ending your mountain biking adventure.\n",
      "\n",
      "Please note that the estimated costs are approximate and can vary depending on your choices and location. It's also essential to budget for any additional expenses like bike maintenance, entrance fees, or unexpected costs.\n",
      "\n",
      "Remember to prioritize safety during your off-road biking trip, wear appropriate gear, and follow local regulations. Enjoy your mountain adventure!\n"
     ]
    }
   ],
   "source": [
    "travel = TravelIdea()\n",
    "print(travel.Travel(\"I want to go on mountains\", \"OffRode biking\", \"10000 Rupees\"))"
   ]
  },
  {
   "cell_type": "code",
   "execution_count": null,
   "id": "b556d455-f89a-4c53-a182-8d73fa7ffbb9",
   "metadata": {},
   "outputs": [],
   "source": []
  },
  {
   "cell_type": "code",
   "execution_count": null,
   "id": "99cb2be3-2cba-4053-84cb-a12206533ba6",
   "metadata": {},
   "outputs": [],
   "source": []
  }
 ],
 "metadata": {
  "kernelspec": {
   "display_name": "Python 3 (ipykernel)",
   "language": "python",
   "name": "python3"
  },
  "language_info": {
   "codemirror_mode": {
    "name": "ipython",
    "version": 3
   },
   "file_extension": ".py",
   "mimetype": "text/x-python",
   "name": "python",
   "nbconvert_exporter": "python",
   "pygments_lexer": "ipython3",
   "version": "3.11.4"
  }
 },
 "nbformat": 4,
 "nbformat_minor": 5
}
