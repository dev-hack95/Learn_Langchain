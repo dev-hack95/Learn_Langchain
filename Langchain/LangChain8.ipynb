{
 "cells": [
  {
   "cell_type": "code",
   "execution_count": 4,
   "id": "4a30b631-0b01-4c32-b434-3efc554ef500",
   "metadata": {},
   "outputs": [],
   "source": [
    "import os\n",
    "import langchain\n",
    "from dotenv import load_dotenv\n",
    "from datetime import datetime\n",
    "from pydantic import BaseModel, BaseConfig, Field\n",
    "from langchain.chat_models import ChatOpenAI\n",
    "from langchain.cache import InMemoryCache\n",
    "from langchain.output_parsers import OutputFixingParser, PydanticOutputParser\n",
    "from langchain.prompts import SystemMessagePromptTemplate, HumanMessagePromptTemplate, ChatPromptTemplate, PromptTemplate\n",
    "\n",
    "#Config\n",
    "load_dotenv(\".env\")\n",
    "api_key = os.environ.get(\"key\")"
   ]
  },
  {
   "cell_type": "code",
   "execution_count": 3,
   "id": "60e3a9e3-0b4c-4181-b5a9-e1b34fd8065f",
   "metadata": {},
   "outputs": [],
   "source": [
    "langchain.llm_cache = InMemoryCache()\n",
    "chat = ChatOpenAI(api_key=api_key, model='gpt-3.5-turbo', max_tokens=500)"
   ]
  },
  {
   "cell_type": "code",
   "execution_count": 9,
   "id": "727dc192-8c9b-4262-9285-41eebb6ae1e8",
   "metadata": {},
   "outputs": [],
   "source": [
    "class Scientist(BaseModel):\n",
    "    name: str = Field(description='Name of a Scientist')\n",
    "    discoveries: list = Field(description=\"Diffusion model list of discoveries in deep learning\")"
   ]
  },
  {
   "cell_type": "code",
   "execution_count": 10,
   "id": "6199625e-cb4d-4f49-a65a-bf431b838d30",
   "metadata": {},
   "outputs": [],
   "source": [
    "parser = PydanticOutputParser(pydantic_object=Scientist)"
   ]
  },
  {
   "cell_type": "code",
   "execution_count": 11,
   "id": "dfc8e090-eac9-499d-b78c-3cfc3f978ffa",
   "metadata": {},
   "outputs": [
    {
     "name": "stdout",
     "output_type": "stream",
     "text": [
      "The output should be formatted as a JSON instance that conforms to the JSON schema below.\n",
      "\n",
      "As an example, for the schema {\"properties\": {\"foo\": {\"title\": \"Foo\", \"description\": \"a list of strings\", \"type\": \"array\", \"items\": {\"type\": \"string\"}}}, \"required\": [\"foo\"]}\n",
      "the object {\"foo\": [\"bar\", \"baz\"]} is a well-formatted instance of the schema. The object {\"properties\": {\"foo\": [\"bar\", \"baz\"]}} is not well-formatted.\n",
      "\n",
      "Here is the output schema:\n",
      "```\n",
      "{\"properties\": {\"name\": {\"title\": \"Name\", \"description\": \"Name of a Scientist\", \"type\": \"string\"}, \"discoveries\": {\"title\": \"Discoveries\", \"description\": \"Diffusion model list of discoveries in deep learning\", \"type\": \"array\", \"items\": {}}}, \"required\": [\"name\", \"discoveries\"]}\n",
      "```\n"
     ]
    }
   ],
   "source": [
    "print(parser.get_format_instructions())"
   ]
  },
  {
   "cell_type": "code",
   "execution_count": 20,
   "id": "e6025651-9a1b-4a7f-ae43-d5cf495afdba",
   "metadata": {},
   "outputs": [],
   "source": [
    "human_prompt = HumanMessagePromptTemplate.from_template(\"{request_prompt}\\n{format_instructions}\")\n",
    "chat_prompt = ChatPromptTemplate.from_messages([human_prompt])\n",
    "prompt = chat_prompt.format_prompt(request_prompt = \"Tell me about the scientists\", format_instructions = parser.get_format_instructions()).to_messages()\n",
    "result = chat(prompt)"
   ]
  },
  {
   "cell_type": "code",
   "execution_count": 22,
   "id": "dfe3932c-7f19-49b4-aeaf-113f7bfed349",
   "metadata": {},
   "outputs": [
    {
     "data": {
      "text/plain": [
       "'{\\n  \"name\": \"Albert Einstein\",\\n  \"discoveries\": [\\n    \"Theory of Relativity\",\\n    \"Photoelectric Effect\",\\n    \"Brownian Motion\"\\n  ]\\n}'"
      ]
     },
     "execution_count": 22,
     "metadata": {},
     "output_type": "execute_result"
    }
   ],
   "source": [
    "result.content"
   ]
  },
  {
   "cell_type": "code",
   "execution_count": 24,
   "id": "44b3a611-3013-49df-b103-69bbbc624c0f",
   "metadata": {},
   "outputs": [
    {
     "name": "stdout",
     "output_type": "stream",
     "text": [
      "name='Albert Einstein' discoveries=['Theory of Relativity', 'Photoelectric Effect', 'Brownian Motion']\n"
     ]
    }
   ],
   "source": [
    "print(parser.parse(result.content))"
   ]
  },
  {
   "cell_type": "code",
   "execution_count": null,
   "id": "6d834966-741b-4b10-b7d5-0b5950a9181a",
   "metadata": {},
   "outputs": [],
   "source": []
  }
 ],
 "metadata": {
  "kernelspec": {
   "display_name": "Python 3 (ipykernel)",
   "language": "python",
   "name": "python3"
  },
  "language_info": {
   "codemirror_mode": {
    "name": "ipython",
    "version": 3
   },
   "file_extension": ".py",
   "mimetype": "text/x-python",
   "name": "python",
   "nbconvert_exporter": "python",
   "pygments_lexer": "ipython3",
   "version": "3.10.13"
  }
 },
 "nbformat": 4,
 "nbformat_minor": 5
}
