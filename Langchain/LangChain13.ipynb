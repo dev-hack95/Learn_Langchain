{
 "cells": [
  {
   "cell_type": "markdown",
   "id": "e468d28d-4c3d-496b-b8fa-32af9d9b0ec7",
   "metadata": {},
   "source": [
    "# Text Embeddings"
   ]
  },
  {
   "cell_type": "code",
   "execution_count": 1,
   "id": "51671f4a-777a-420c-ab1d-be437abfecd0",
   "metadata": {},
   "outputs": [],
   "source": [
    "import os\n",
    "from dotenv import load_dotenv\n",
    "from langchain.embeddings import OpenAIEmbeddings\n",
    "\n",
    "# Config\n",
    "load_dotenv(\".env\")\n",
    "api_key = os.environ.get(\"key\")"
   ]
  },
  {
   "cell_type": "code",
   "execution_count": 2,
   "id": "4aaa3049-d1d0-46dd-afc1-f2c512befe15",
   "metadata": {},
   "outputs": [],
   "source": [
    "embeddings = OpenAIEmbeddings(api_key=api_key)"
   ]
  },
  {
   "cell_type": "code",
   "execution_count": 3,
   "id": "ad832050-b4f1-4fab-941f-5726c681c2fd",
   "metadata": {},
   "outputs": [],
   "source": [
    "text = \"I am creating my first openai embedding\""
   ]
  },
  {
   "cell_type": "code",
   "execution_count": 4,
   "id": "9edfc550-d4dc-4d61-a3c7-d46d01a5b282",
   "metadata": {},
   "outputs": [],
   "source": [
    "text_embeddings = embeddings.embed_query(text)"
   ]
  },
  {
   "cell_type": "code",
   "execution_count": 7,
   "id": "f8e33209-fecb-4049-8d27-9fef2116b009",
   "metadata": {},
   "outputs": [
    {
     "data": {
      "text/plain": [
       "1536"
      ]
     },
     "execution_count": 7,
     "metadata": {},
     "output_type": "execute_result"
    }
   ],
   "source": [
    "len(text_embeddings)"
   ]
  },
  {
   "cell_type": "code",
   "execution_count": 8,
   "id": "bd37f06b-ace4-4e84-8421-f84e5b1336bf",
   "metadata": {},
   "outputs": [],
   "source": [
    "from langchain.document_loaders import CSVLoader"
   ]
  },
  {
   "cell_type": "code",
   "execution_count": 9,
   "id": "6cc30573-b2d9-41a3-923d-d9398a6d97e1",
   "metadata": {},
   "outputs": [],
   "source": [
    "loder = CSVLoader(\"CourseMaterial/LangChainNotebooks-UNZIP-ME/01-Data-Connections/some_data/penguins.csv\")"
   ]
  },
  {
   "cell_type": "code",
   "execution_count": 10,
   "id": "9b31d16d-a1f4-4639-afc8-58df5c0a44a2",
   "metadata": {},
   "outputs": [],
   "source": [
    "data = loder.load()"
   ]
  },
  {
   "cell_type": "code",
   "execution_count": 14,
   "id": "609aa8db-e982-4897-8b39-56ab4e320b5a",
   "metadata": {},
   "outputs": [
    {
     "name": "stdout",
     "output_type": "stream",
     "text": [
      "species: Adelie\n",
      "island: Torgersen\n",
      "bill_length_mm: 39.1\n",
      "bill_depth_mm: 18.7\n",
      "flipper_length_mm: 181\n",
      "body_mass_g: 3750\n",
      "sex: MALE\n"
     ]
    }
   ],
   "source": [
    "print(data[0].page_content)"
   ]
  },
  {
   "cell_type": "code",
   "execution_count": 17,
   "id": "f5afbda7-0852-40f8-a623-68287eebdd97",
   "metadata": {},
   "outputs": [],
   "source": [
    "embedded_docs = embeddings.embed_documents([text.page_content for text in data])"
   ]
  },
  {
   "cell_type": "code",
   "execution_count": 21,
   "id": "2168087b-700f-4791-8728-17ee4538a965",
   "metadata": {},
   "outputs": [
    {
     "data": {
      "text/plain": [
       "344"
      ]
     },
     "execution_count": 21,
     "metadata": {},
     "output_type": "execute_result"
    }
   ],
   "source": [
    "len(embedded_docs)"
   ]
  },
  {
   "cell_type": "code",
   "execution_count": null,
   "id": "83907388-a2db-4af1-95f0-a2954061c4ca",
   "metadata": {},
   "outputs": [],
   "source": []
  }
 ],
 "metadata": {
  "kernelspec": {
   "display_name": "Python 3 (ipykernel)",
   "language": "python",
   "name": "python3"
  },
  "language_info": {
   "codemirror_mode": {
    "name": "ipython",
    "version": 3
   },
   "file_extension": ".py",
   "mimetype": "text/x-python",
   "name": "python",
   "nbconvert_exporter": "python",
   "pygments_lexer": "ipython3",
   "version": "3.10.13"
  }
 },
 "nbformat": 4,
 "nbformat_minor": 5
}
