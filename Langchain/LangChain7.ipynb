{
 "cells": [
  {
   "cell_type": "markdown",
   "id": "fcdd71bf-8ef1-4d85-baca-a573e1373bcc",
   "metadata": {},
   "source": [
    "# Parsing Outputs (LangChain)"
   ]
  },
  {
   "cell_type": "code",
   "execution_count": 14,
   "id": "645ba54a-3722-4229-aa01-ea3c5c32b4ff",
   "metadata": {},
   "outputs": [],
   "source": [
    "import os\n",
    "import langchain\n",
    "from dotenv import load_dotenv\n",
    "from langchain.llms import OpenAI\n",
    "from langchain.cache import InMemoryCache\n",
    "from langchain.chat_models import ChatOpenAI\n",
    "from langchain.schema.output_parser import BaseLLMOutputParser\n",
    "from langchain.output_parsers import CommaSeparatedListOutputParser, DatetimeOutputParser, OutputFixingParser\n",
    "from langchain.prompts import SystemMessagePromptTemplate, HumanMessagePromptTemplate, ChatPromptTemplate, PromptTemplate\n",
    "\n",
    "#Config\n",
    "load_dotenv(\".env\")\n",
    "api_key = os.environ.get(\"key\")"
   ]
  },
  {
   "cell_type": "code",
   "execution_count": 2,
   "id": "a2820d1c-ece6-4aa2-8ca6-8d589750cc34",
   "metadata": {},
   "outputs": [],
   "source": [
    "langchain.llm_cache = InMemoryCache()\n",
    "chat = ChatOpenAI(api_key=api_key, model='gpt-3.5-turbo', max_tokens=500)"
   ]
  },
  {
   "cell_type": "code",
   "execution_count": 5,
   "id": "c388ede1-95c8-4137-959f-c964533f1e59",
   "metadata": {},
   "outputs": [],
   "source": [
    "class BotV1:\n",
    "    def __init__(self) -> None:\n",
    "        self.output_parser = CommaSeparatedListOutputParser()\n",
    "        self.human_template = \"{request_prompt}{format_instructions}\"\n",
    "        \n",
    "    def Chat(self, prompt: str):\n",
    "        \"\"\"\n",
    "        Info:\n",
    "          Parsers are basic information formats that will return output in speicfic format\n",
    "        Args:\n",
    "          prompt --> Input prompt\n",
    "          format_instructions --> Set instruction to formatter\n",
    "        Returns:\n",
    "          Formatted output\n",
    "        \"\"\"\n",
    "        human_prompt = HumanMessagePromptTemplate.from_template(self.human_template)\n",
    "        chat_prompt = ChatPromptTemplate.from_messages([human_prompt])\n",
    "        prompt = chat_prompt.format_prompt(request_prompt = prompt, format_instructions = self.output_parser.get_format_instructions()).to_messages()\n",
    "        return chat(prompt).content"
   ]
  },
  {
   "cell_type": "code",
   "execution_count": 6,
   "id": "f7bf6d72-fff9-48f4-9275-12a37435d39a",
   "metadata": {},
   "outputs": [
    {
     "name": "stdout",
     "output_type": "stream",
     "text": [
      "Hadimba Temple, Solang Valley, Rohtang Pass, Manu Temple, Tibetan Monastery\n"
     ]
    }
   ],
   "source": [
    "bot = BotV1()\n",
    "print(bot.Chat(\"Five places to visit in manali\"))"
   ]
  },
  {
   "cell_type": "code",
   "execution_count": 7,
   "id": "e2a7b181-b002-44c0-8a9e-1e5ca28bafd5",
   "metadata": {},
   "outputs": [
    {
     "data": {
      "text/plain": [
       "['Hadimba Temple',\n",
       " 'Solang Valley',\n",
       " 'Rohtang Pass',\n",
       " 'Manu Temple',\n",
       " 'Tibetan Monastery']"
      ]
     },
     "execution_count": 7,
     "metadata": {},
     "output_type": "execute_result"
    }
   ],
   "source": [
    "CommaSeparatedListOutputParser().parse(bot.Chat(\"Five places to visit in manali\"))"
   ]
  },
  {
   "cell_type": "code",
   "execution_count": 8,
   "id": "f6c849d0-b3d3-4cfc-afea-56d8ededf666",
   "metadata": {},
   "outputs": [
    {
     "data": {
      "text/plain": [
       "['cat', 'hat', 'mat', 'rat', 'sat', 'chat', 'flat', 'pat', 'spat', 'vat']"
      ]
     },
     "execution_count": 8,
     "metadata": {},
     "output_type": "execute_result"
    }
   ],
   "source": [
    "CommaSeparatedListOutputParser().parse(bot.Chat(\"Give me 10 rhymes\"))"
   ]
  },
  {
   "cell_type": "code",
   "execution_count": 11,
   "id": "93b0c145-092e-42e2-a455-2f8316d2564c",
   "metadata": {},
   "outputs": [],
   "source": [
    "#class NewLineSeperaterOutputParser(BaseLLMOutputParser):\n",
    "#    def __init__(self) -> None:\n",
    "#        super().__init__()\n",
    "#    def custom_parse(self, data):\n",
    "#        \"\"\"\n",
    "#        Info:\n",
    "#          Here goes your custom parser logic\n",
    "#        \"\"\"\n",
    "#        pass"
   ]
  },
  {
   "cell_type": "code",
   "execution_count": 13,
   "id": "9c56059f-d507-4365-b459-b93574819ddc",
   "metadata": {},
   "outputs": [],
   "source": [
    "class BotV2:\n",
    "    def __init__(self) -> None:\n",
    "        self.datetime_parser = DatetimeOutputParser()\n",
    "        self.human_template = \"{request_prompt}{format_instructions}\"\n",
    "        \n",
    "    def Chat(self, user_prompt):\n",
    "        human_prompt = HumanMessagePromptTemplate.from_template(self.human_template)\n",
    "        chat_prompt = ChatPromptTemplate.from_messages([human_prompt])\n",
    "        prompt = chat_prompt.format_prompt(request_prompt = user_prompt, format_instructions = self.datetime_parser.get_format_instructions()).to_messages()\n",
    "        return chat(prompt).content"
   ]
  },
  {
   "cell_type": "code",
   "execution_count": null,
   "id": "55737d43-4ca0-4f7d-83ed-6f5031266b15",
   "metadata": {},
   "outputs": [],
   "source": [
    "OutputFixingParser()"
   ]
  },
  {
   "cell_type": "code",
   "execution_count": null,
   "id": "eb13afb0-0426-4da6-a172-7c500e0d4cf9",
   "metadata": {},
   "outputs": [],
   "source": []
  }
 ],
 "metadata": {
  "kernelspec": {
   "display_name": "Python 3 (ipykernel)",
   "language": "python",
   "name": "python3"
  },
  "language_info": {
   "codemirror_mode": {
    "name": "ipython",
    "version": 3
   },
   "file_extension": ".py",
   "mimetype": "text/x-python",
   "name": "python",
   "nbconvert_exporter": "python",
   "pygments_lexer": "ipython3",
   "version": "3.10.13"
  }
 },
 "nbformat": 4,
 "nbformat_minor": 5
}
