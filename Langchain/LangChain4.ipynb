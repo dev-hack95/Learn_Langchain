{
 "cells": [
  {
   "cell_type": "markdown",
   "id": "76df9ac5-7923-460f-8de0-9cfbaa4c52c0",
   "metadata": {},
   "source": [
    "# Templates"
   ]
  },
  {
   "cell_type": "code",
   "execution_count": 25,
   "id": "ea564edd-2df0-4b57-b547-b4e37523a1eb",
   "metadata": {},
   "outputs": [],
   "source": [
    "import os\n",
    "import langchain\n",
    "from dotenv import load_dotenv\n",
    "from langchain.llms import OpenAI\n",
    "from langchain.chat_models import ChatOpenAI\n",
    "from langchain import PromptTemplate\n",
    "from langchain.prompts import ChatPromptTemplate, SystemMessagePromptTemplate, AIMessagePromptTemplate, HumanMessagePromptTemplate\n",
    "from langchain.schema import SystemMessage, AIMessage, HumanMessage\n",
    "from langchain.cache import InMemoryCache\n",
    "\n",
    "# Config\n",
    "load_dotenv('.env')\n",
    "api_key = os.environ.get(\"key\")"
   ]
  },
  {
   "cell_type": "code",
   "execution_count": 5,
   "id": "e8160a6c-439a-4e11-aa82-c11dae9164fc",
   "metadata": {},
   "outputs": [],
   "source": [
    "langchain.llm_cache = InMemoryCache()\n",
    "llm = OpenAI(api_key=api_key, max_tokens=300)"
   ]
  },
  {
   "cell_type": "code",
   "execution_count": 26,
   "id": "64bd0b08-e170-4ec3-acbf-505a652df019",
   "metadata": {},
   "outputs": [
    {
     "data": {
      "text/plain": [
       "'\\n\\n1. Mars is the fourth planet from the Sun.\\n\\n2. Mars is named after the Roman god of war.\\n\\n3. Mars has two moons, Phobos and Deimos.\\n\\n4. Mars is about half the size of Earth.\\n\\n5. Mars has the tallest mountain in the Solar System, Olympus Mons.\\n\\n6. Mars has the largest dust storms in the Solar System.\\n\\n7. Mars is home to the largest canyon in the Solar System, Valles Marineris.\\n\\n8. Mars has an average temperature of -81 degrees Fahrenheit (-63 degrees Celsius).\\n\\n9. Mars has a thin atmosphere made mostly of carbon dioxide.\\n\\n10. Mars has the longest day of any planet in the Solar System, lasting 24 hours and 39 minutes.'"
      ]
     },
     "execution_count": 26,
     "metadata": {},
     "output_type": "execute_result"
    }
   ],
   "source": [
    "llm(\"Facts about mars\")"
   ]
  },
  {
   "cell_type": "code",
   "execution_count": 8,
   "id": "898989dc-60e9-4df0-a58b-27c218a9fe15",
   "metadata": {},
   "outputs": [],
   "source": [
    "from langchain import PromptTemplate\n",
    "\n",
    "no_input_prompt = PromptTemplate(input_variables=[], template=\"Tell me a fact\")"
   ]
  },
  {
   "cell_type": "code",
   "execution_count": 10,
   "id": "9f64ea67-fced-4b70-95b1-58030fc85ff8",
   "metadata": {},
   "outputs": [
    {
     "data": {
      "text/plain": [
       "PromptTemplate(input_variables=[], template='Tell me a fact')"
      ]
     },
     "execution_count": 10,
     "metadata": {},
     "output_type": "execute_result"
    }
   ],
   "source": [
    "no_input_prompt"
   ]
  },
  {
   "cell_type": "code",
   "execution_count": 11,
   "id": "075d5a52-0bd8-4b24-8097-d0474c0cedf4",
   "metadata": {},
   "outputs": [
    {
     "data": {
      "text/plain": [
       "'Tell me a fact'"
      ]
     },
     "execution_count": 11,
     "metadata": {},
     "output_type": "execute_result"
    }
   ],
   "source": [
    "no_input_prompt.format()"
   ]
  },
  {
   "cell_type": "code",
   "execution_count": 12,
   "id": "f53c63ce-5e72-4024-a18c-c0d8193a98d2",
   "metadata": {},
   "outputs": [
    {
     "data": {
      "text/plain": [
       "\" about the moon\\n\\nThe Moon is Earth's only natural satellite. It is the fifth largest natural satellite in the Solar System.\""
      ]
     },
     "execution_count": 12,
     "metadata": {},
     "output_type": "execute_result"
    }
   ],
   "source": [
    "llm(no_input_prompt.format())"
   ]
  },
  {
   "cell_type": "code",
   "execution_count": 16,
   "id": "038d2753-366a-4f4b-a2c3-b09a3a812ff7",
   "metadata": {},
   "outputs": [],
   "source": [
    "single_input_prompt = PromptTemplate(input_variables=[\"topic\"], template=\"Tell some info about {topic}\")"
   ]
  },
  {
   "cell_type": "code",
   "execution_count": 17,
   "id": "175ee72f-18e8-4e51-8751-b96ea6bd2a5d",
   "metadata": {},
   "outputs": [
    {
     "data": {
      "text/plain": [
       "PromptTemplate(input_variables=['topic'], template='Tell some info about {topic}')"
      ]
     },
     "execution_count": 17,
     "metadata": {},
     "output_type": "execute_result"
    }
   ],
   "source": [
    "single_input_prompt"
   ]
  },
  {
   "cell_type": "code",
   "execution_count": 19,
   "id": "6d1739e6-f91c-4f65-80cd-b6c446c2a52f",
   "metadata": {},
   "outputs": [
    {
     "data": {
      "text/plain": [
       "'\\n\\nApache Kafka is an open-source stream-processing software platform developed by the Apache Software Foundation, written in Scala and Java. The project aims to provide a unified, high-throughput, low-latency platform for handling real-time data feeds. Kafka can connect to external systems (for data import/export) via Kafka Connect and provides Kafka Streams, a Java stream processing library. It is a popular choice among the Big Data community and is used by many companies for real-time streaming applications.'"
      ]
     },
     "execution_count": 19,
     "metadata": {},
     "output_type": "execute_result"
    }
   ],
   "source": [
    "llm(single_input_prompt.format(topic = \"apache kafka\"))"
   ]
  },
  {
   "cell_type": "code",
   "execution_count": 22,
   "id": "e18ad5e0-99c1-485e-ab13-2fa1eed1d167",
   "metadata": {},
   "outputs": [],
   "source": [
    "multiple_input_prompt = PromptTemplate(input_variables=[\"platform\", \"input_prompt\"], template=\"Generation captions for {platform} post with {input_prompt}\")"
   ]
  },
  {
   "cell_type": "code",
   "execution_count": 24,
   "id": "9837427b-1252-4246-84d9-f821bfc41599",
   "metadata": {},
   "outputs": [
    {
     "name": "stdout",
     "output_type": "stream",
     "text": [
      "\n",
      "\n",
      "1. Apache Kafka is an amazing queue tool that makes asynchronous operations a breeze! #async #Kafka #queuetool\n",
      "\n",
      "2. Streamline your operations with Apache Kafka - the perfect queue tool for asynchronous processes! #async #Kafka #queuetool\n",
      "\n",
      "3. Make your operations more efficient with Apache Kafka - the ideal queue tool for managing asynchronous operations! #async #Kafka #queuetool\n",
      "\n",
      "4. Get the job done faster with Apache Kafka - the perfect queue tool for asynchronous operations! #async #Kafka #queuetool\n"
     ]
    }
   ],
   "source": [
    "print(llm(multiple_input_prompt.format(platform=\"linkedin\", input_prompt=\"Apache kafka is great queue tool it is very useful to maintain asyncronicity\")))"
   ]
  },
  {
   "cell_type": "code",
   "execution_count": 27,
   "id": "d0e8d30f-791b-433a-813a-347b9962ccb1",
   "metadata": {},
   "outputs": [],
   "source": [
    "system_template = \"You are an AI recipe assistant that specialize in {brunch} dishes that can be prepared in {time}\""
   ]
  },
  {
   "cell_type": "code",
   "execution_count": 28,
   "id": "24444812-06dc-4b14-82cc-bb3eba57eb21",
   "metadata": {},
   "outputs": [],
   "source": [
    "sys_message_prompt = SystemMessagePromptTemplate.from_template(system_template)\n",
    "human_template = \"{recipie_request}\"\n",
    "human_message_prompt = HumanMessagePromptTemplate.from_template(human_template)"
   ]
  },
  {
   "cell_type": "code",
   "execution_count": 29,
   "id": "733b5145-1c92-4242-8cc6-816a932be0a8",
   "metadata": {},
   "outputs": [],
   "source": [
    "chat_prompt = ChatPromptTemplate.from_messages([sys_message_prompt, human_message_prompt])"
   ]
  },
  {
   "cell_type": "code",
   "execution_count": 30,
   "id": "9ea26845-29c3-41e3-adaf-1a3dab90385e",
   "metadata": {},
   "outputs": [
    {
     "data": {
      "text/plain": [
       "['brunch', 'recipie_request', 'time']"
      ]
     },
     "execution_count": 30,
     "metadata": {},
     "output_type": "execute_result"
    }
   ],
   "source": [
    "chat_prompt.input_variables"
   ]
  },
  {
   "cell_type": "code",
   "execution_count": 34,
   "id": "b4cece17-ebdb-4a42-b1eb-f4f9b6c6aa79",
   "metadata": {},
   "outputs": [],
   "source": [
    "prompt = chat_prompt.format_prompt(time = \"60 min\",\n",
    "                         recipie_request = \"Less carbs and high protiens\",\n",
    "                         brunch=\"Vegan\").to_messages()"
   ]
  },
  {
   "cell_type": "code",
   "execution_count": 32,
   "id": "4f922a84-5314-44c1-b621-cc479e9641d4",
   "metadata": {},
   "outputs": [],
   "source": [
    "chat = ChatOpenAI(api_key=api_key, max_tokens=300, model = \"gpt-3.5-turbo\")"
   ]
  },
  {
   "cell_type": "code",
   "execution_count": 35,
   "id": "660f8c8b-3c80-4cc0-a97b-b79429a1887c",
   "metadata": {},
   "outputs": [],
   "source": [
    "result = chat(prompt)"
   ]
  },
  {
   "cell_type": "code",
   "execution_count": 37,
   "id": "741da42e-836c-4d57-9646-a9d1f1319e1b",
   "metadata": {},
   "outputs": [
    {
     "name": "stdout",
     "output_type": "stream",
     "text": [
      "Here's a vegan recipe that is low in carbs and high in protein:\n",
      "\n",
      "Vegan Lentil and Vegetable Stir-Fry\n",
      "\n",
      "Ingredients:\n",
      "- 1 cup lentils, cooked\n",
      "- 1 cup broccoli florets\n",
      "- 1 cup sliced mushrooms\n",
      "- 1 cup sliced bell peppers\n",
      "- 1 cup sliced zucchini\n",
      "- 1 cup snap peas\n",
      "- 2 cloves garlic, minced\n",
      "- 1 tablespoon soy sauce\n",
      "- 1 tablespoon sesame oil\n",
      "- 1 tablespoon nutritional yeast (optional)\n",
      "- Salt and pepper to taste\n",
      "- Fresh cilantro for garnish\n",
      "\n",
      "Instructions:\n",
      "1. In a large skillet or wok, heat the sesame oil over medium heat.\n",
      "2. Add the minced garlic and sauté for about 1 minute until fragrant.\n",
      "3. Add the broccoli florets, mushrooms, bell peppers, zucchini, and snap peas to the skillet. Stir-fry for about 5-7 minutes until the vegetables are tender-crisp.\n",
      "4. Stir in the cooked lentils and soy sauce. Cook for another 2-3 minutes until everything is well combined and heated through.\n",
      "5. Season with salt, pepper, and nutritional yeast (if using) to taste.\n",
      "6. Garnish with fresh cilantro and serve hot.\n",
      "\n",
      "This stir-fry is packed with plant-based protein from the lentils and vegetables, while being low in carbohydrates. It's a quick and nutritious meal that can be prepared in just 60 minutes.\n"
     ]
    }
   ],
   "source": [
    "print(result.content)"
   ]
  },
  {
   "cell_type": "code",
   "execution_count": null,
   "id": "153cf52f-e7f9-428d-8ba7-aed541459c6d",
   "metadata": {},
   "outputs": [],
   "source": []
  }
 ],
 "metadata": {
  "kernelspec": {
   "display_name": "Python 3 (ipykernel)",
   "language": "python",
   "name": "python3"
  },
  "language_info": {
   "codemirror_mode": {
    "name": "ipython",
    "version": 3
   },
   "file_extension": ".py",
   "mimetype": "text/x-python",
   "name": "python",
   "nbconvert_exporter": "python",
   "pygments_lexer": "ipython3",
   "version": "3.11.4"
  }
 },
 "nbformat": 4,
 "nbformat_minor": 5
}
