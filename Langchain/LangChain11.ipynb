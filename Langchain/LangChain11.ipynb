{
 "cells": [
  {
   "cell_type": "markdown",
   "id": "8c893ede-cbfa-4aaa-bc4a-26d52d5aa4e0",
   "metadata": {},
   "source": [
    "# Document Loder"
   ]
  },
  {
   "cell_type": "code",
   "execution_count": 1,
   "id": "069c92f2-f82d-4db7-aef2-af5b05fe3b0f",
   "metadata": {},
   "outputs": [],
   "source": [
    "from langchain.document_loaders import CSVLoader"
   ]
  },
  {
   "cell_type": "code",
   "execution_count": 2,
   "id": "f764d4fc-f65a-46f4-8b8a-666f6dc7de5e",
   "metadata": {},
   "outputs": [],
   "source": [
    "loder = CSVLoader(\"../data/Myntra Fasion Clothing_Myntra Fasion Clothing.csv\")"
   ]
  },
  {
   "cell_type": "code",
   "execution_count": 4,
   "id": "d7135dd7-2bf0-4656-8df1-b0d0848ec47a",
   "metadata": {},
   "outputs": [],
   "source": [
    "data = loder.load()"
   ]
  },
  {
   "cell_type": "code",
   "execution_count": 5,
   "id": "027afbb9-7bbb-4bad-be7f-6381467c48b3",
   "metadata": {},
   "outputs": [
    {
     "data": {
      "text/plain": [
       "list"
      ]
     },
     "execution_count": 5,
     "metadata": {},
     "output_type": "execute_result"
    }
   ],
   "source": [
    "type(data)"
   ]
  },
  {
   "cell_type": "code",
   "execution_count": 6,
   "id": "984463b4-adb0-47f5-bb47-c0701385db3b",
   "metadata": {},
   "outputs": [
    {
     "data": {
      "text/plain": [
       "langchain.schema.document.Document"
      ]
     },
     "execution_count": 6,
     "metadata": {},
     "output_type": "execute_result"
    }
   ],
   "source": [
    "type(data[0])"
   ]
  },
  {
   "cell_type": "code",
   "execution_count": 7,
   "id": "0126359e-8123-43a2-806b-913e032a9205",
   "metadata": {},
   "outputs": [
    {
     "data": {
      "text/plain": [
       "Document(page_content='ï»¿Brand Name: AD By Arvind\\nCategory: Bottom Wear\\ncategory by Gender: Men\\nDescription: ad by arvind men blue slim fit rinsed jeans\\nDiscount Offer: \\nIndividual category: jeans\\nProduct id: 18349516\\nSize Option: 30, 32, 34, 36, 38\\nURL: https://www.myntra.com/jeans/ad-by-arvind/ad-by-arvind-men-blue-slim-fit-rinsed-jeans/18349516/buy\\nDiscount: \\nDiscountPrice (in Rs): \\nOriginalPrice (in Rs): 2399\\nRatings: \\nReviews: ', metadata={'source': '../data/Myntra Fasion Clothing_Myntra Fasion Clothing.csv', 'row': 0})"
      ]
     },
     "execution_count": 7,
     "metadata": {},
     "output_type": "execute_result"
    }
   ],
   "source": [
    "data[0]"
   ]
  },
  {
   "cell_type": "code",
   "execution_count": 8,
   "id": "1fa50b48-f712-4f0e-97d2-8a87b7eed660",
   "metadata": {},
   "outputs": [
    {
     "data": {
      "text/plain": [
       "'ï»¿Brand Name: AD By Arvind\\nCategory: Bottom Wear\\ncategory by Gender: Men\\nDescription: ad by arvind men blue slim fit rinsed jeans\\nDiscount Offer: \\nIndividual category: jeans\\nProduct id: 18349516\\nSize Option: 30, 32, 34, 36, 38\\nURL: https://www.myntra.com/jeans/ad-by-arvind/ad-by-arvind-men-blue-slim-fit-rinsed-jeans/18349516/buy\\nDiscount: \\nDiscountPrice (in Rs): \\nOriginalPrice (in Rs): 2399\\nRatings: \\nReviews: '"
      ]
     },
     "execution_count": 8,
     "metadata": {},
     "output_type": "execute_result"
    }
   ],
   "source": [
    "data[0].page_content"
   ]
  },
  {
   "cell_type": "code",
   "execution_count": 10,
   "id": "5b1811a4-b583-4e71-aa99-ed8473a9d078",
   "metadata": {},
   "outputs": [
    {
     "name": "stdout",
     "output_type": "stream",
     "text": [
      "ï»¿Brand Name: AMERICAN EAGLE OUTFITTERS\n",
      "Category: Bottom Wear\n",
      "category by Gender: Men\n",
      "Description: american eagle outfitters men grey regular fit highly distressed stretchable jeans\n",
      "Discount Offer: \n",
      "Individual category: jeans\n",
      "Product id: 12908016\n",
      "Size Option: 28, 29, 30, 31, 32, 33, 34, 36, 38\n",
      "URL: https://www.myntra.com/jeans/american-eagle-outfitters/american-eagle-outfitters-men-grey-regular-fit-highly-distressed-stretchable-jeans/12908016/buy\n",
      "Discount: \n",
      "DiscountPrice (in Rs): \n",
      "OriginalPrice (in Rs): 4999\n",
      "Ratings: \n",
      "Reviews: \n"
     ]
    }
   ],
   "source": [
    "print(data[1].page_content)"
   ]
  },
  {
   "cell_type": "code",
   "execution_count": 11,
   "id": "bc300835-8a54-41f7-a8ef-444c87281cf9",
   "metadata": {},
   "outputs": [
    {
     "data": {
      "text/plain": [
       "{'source': '../data/Myntra Fasion Clothing_Myntra Fasion Clothing.csv',\n",
       " 'row': 1}"
      ]
     },
     "execution_count": 11,
     "metadata": {},
     "output_type": "execute_result"
    }
   ],
   "source": [
    "data[1].metadata"
   ]
  },
  {
   "cell_type": "code",
   "execution_count": 1,
   "id": "af069da2-cac8-4071-8c1c-771cfdb6ac0f",
   "metadata": {},
   "outputs": [],
   "source": [
    "from langchain.document_loaders import PyMuPDFLoader"
   ]
  },
  {
   "cell_type": "code",
   "execution_count": 2,
   "id": "742d04d5-6219-4db3-8258-f78ff8737ba1",
   "metadata": {},
   "outputs": [],
   "source": [
    "pdfLoder = PyMuPDFLoader(\"../data/Saiprasad Toshatwad.pdf\")"
   ]
  },
  {
   "cell_type": "code",
   "execution_count": 3,
   "id": "710a0e70-01be-4696-86ea-93a64c73e9f9",
   "metadata": {},
   "outputs": [],
   "source": [
    "pages = pdfLoder.load()"
   ]
  },
  {
   "cell_type": "code",
   "execution_count": 5,
   "id": "c9958a6e-c1cf-4a2e-84b5-3cdd95ba6992",
   "metadata": {},
   "outputs": [
    {
     "name": "stdout",
     "output_type": "stream",
     "text": [
      "Data Scientist / LLM Developer \n",
      "Saiprasad Toshatwad \n",
      "About Me \n",
      "+91 9307400536 | saiprasadtoshatwad@gmail.com \n",
      "https://www.linkedin.com/in/saiprasad-toshatwad-a75449206/ \n",
      "https://github.com/dev-hack95 \n",
      "Pune, Maharashtra \n",
      " \n",
      "Highly motivated and skilled Data Scientist, Freelance and Python-Golang Developer with expertise in SQL, Python, Golang,  \n",
      "MLOps, and backend development. Passionate about leveraging data and machine learning to solve complex problems and \n",
      "deliver impactful solutions. Proficient in building and deploying ML models, using data version control tools, and creating \n",
      "efficient backend applications. Seeking opportunities to contribute my skills and experience to a dynamic team. \n",
      " \n",
      "Skills \n",
      "• \n",
      "SQL (MySQL, PostgreSQL), VectorDB’s \n",
      "• \n",
      "Python, LangChain (Pandas, Tensorflow, \n",
      "Yellowbrick, Shap, NumPy, Scikit-learn, API, \n",
      "ORM.. etc.) \n",
      "• \n",
      "Golang, ORM \n",
      " \n",
      " \n",
      "• \n",
      "MLOps: Linux, Kedro, Docker, Git, DVC, MLflow, \n",
      "AWS, EC2, S3, botot3, AWS lambda, Github Actions \n",
      "• \n",
      "PowerBI \n",
      " \n",
      "Work Experience \n",
      "Awesomesuite - Golang Developer \n",
      "04-2023 - Current \n",
      "As a Golang Backend Engineer at AwesomeSuite, spearheading the development of cutting-edge APIs for SaaS applications. \n",
      "Leveraged AWS for seamless deployment across multiple development environments. Led the charge in API creation, backend \n",
      "optimization, and proficiently deployed services on AWS Lambda, while seamlessly integrating OpenAI and Docker services to deliver \n",
      "exceptional results \n",
      "Eaton -  Data Scientist 08-2023 To 11-2023 \n",
      "As Core team member in the Generative Design project at Eaton during my internship. Led various image-focused projects including \n",
      "Mask RCNN, Taxonomy, Dxf automation, demonstrating a profound dedication to innovation and effective problem-solving. \n",
      "Digilytics Systems LLP - Data Science Intern \n",
      "06-2022 To 12-2022 \n",
      "The development of an AutoML platform aimed at simplifying the creation and deployment of machine learning models. I played a \n",
      "key role in building automated pipelines for tasks like hyperparameter tuning, model selection, and training. Dockerized the \n",
      "applications for efficient deployment. \n",
      " \n",
      "Projects \n",
      " \n",
      "TextFlow – Personal Project \n",
      "● \n",
      "TextFLow is advanced video-to-text summarization with chat with context data project using RabbitMQ, Docker, \n",
      "MongoDB, SQL and 3-tier architecture. Overcame intricate challenges in text summarization and SaaS models, delivering a \n",
      "seamless, scalable solution. Result: Innovative system embodying cutting-edge tech within a robust framework and you can \n",
      "ask question to the output data With LLM’S \n",
      "E-commerce cart backend – Personal Project \n",
      "•   Engineered a robust e-commerce backend application with JWT authentication and advanced CRUD operations, including Login, \n",
      "Signup, and Products searching; optimized database queries that resulted in a 50 percent faster page load time. \n",
      " • Technical Skills: Golang, Githubactions, Docker, Databases..etc \n",
      "Haze Remover. – Personal Project \n",
      "● \n",
      "Haze Remover is a powerful OpenCV and CNN based dehazing application designed for satellite imagery. \n",
      "● \n",
      "It addresses challenges in analyzing satellite images and provides a user friendly tool with Streamlit UI. \n",
      "   Intent Analysis - Personal Project \n",
      "   •     Applied LSTM and deep learning to predict customer satisfaction and product ratings for an E-commerce platform. \n",
      "   •     Utilized Kedro for streamlined data processing and pipelines and  docker for model deployment \n",
      "   •     Incorporated RFM (Recency, Frequency, Monetary) analysis to enhance customer segmentation \n",
      "Hospital Consolidated KPI Report – Virtual Client Project (Freelance) \n",
      "● Utilized PowerBI to analyze hospital Revenue data and gain insights on revenue of hospital \n",
      "● \n",
      "Implemented DAX techniques to calculate data from various format \n",
      "● \n",
      "Aggregated and visualized the data by using powerful DAX Quaries and Created 6 Tables \n",
      "\n"
     ]
    }
   ],
   "source": [
    "print(pages[0].page_content)"
   ]
  },
  {
   "cell_type": "code",
   "execution_count": 23,
   "id": "65fa35a2-b3a6-4ebd-aa20-44fb66242f41",
   "metadata": {},
   "outputs": [],
   "source": [
    "from langchain.document_loaders import Docx2txtLoader"
   ]
  },
  {
   "cell_type": "code",
   "execution_count": 24,
   "id": "bc60c841-9bcc-4c0c-ad36-be2a32a1ec02",
   "metadata": {},
   "outputs": [],
   "source": [
    "word = Docx2txtLoader(\"../data/docs/471067_assign3.docx\")"
   ]
  },
  {
   "cell_type": "code",
   "execution_count": 26,
   "id": "6b80d793-df06-408e-aa10-20a77f62049a",
   "metadata": {},
   "outputs": [],
   "source": [
    "word = word.load()"
   ]
  },
  {
   "cell_type": "code",
   "execution_count": 29,
   "id": "106274da-a355-4a8f-8e96-ed4fabc7a6a1",
   "metadata": {},
   "outputs": [
    {
     "name": "stdout",
     "output_type": "stream",
     "text": [
      "Bansilal Ramnath Agarwal Charitable Trust's Vishwakarma Institute of Information Technology\n",
      "\n",
      "\n",
      "\n",
      "Department of\n",
      "\n",
      "Artificial Intelligence and Data Science\n",
      "\n",
      "Student Name: Saiprasad Ramdas Toshatwad \n",
      "\n",
      "Class: Btech\n",
      "\n",
      "Division: A\n",
      "\n",
      "Roll No: 471067\n",
      "\n",
      "Semester: 7th \n",
      "\n",
      "Academic Year:2023-24\n",
      "\n",
      "Subject Name: Computational Linguistics\n",
      "\n",
      "Title of Assignment: Assignment 3: Apply Hidden Markov model for PoS Tagging.\n",
      "\n",
      "Date of Performance: 20/11/2023\n",
      "\n",
      "Date of Submission: 20/11/2023\n",
      "\n",
      "\n",
      "\n",
      "Aim: Apply Hidden Markov model for PoS Tagging.\n",
      "\n",
      "\n",
      "\n",
      "Problem Statement: Apply Hidden Markov model for PoS Tagging.\n",
      "\n",
      "\n",
      "\n",
      "Background Information:\n",
      "\n",
      "HMM (Hidden Markov Model) is a Stochastic technique for POS tagging. Hidden Markov models are known for their applications to reinforcement learning and temporal pattern recognition such as speech, handwriting, gesture recognition, musical score following, partial discharges, and bioinformatics.\n",
      "\n",
      "There are various techniques that can be used for POS tagging such as: \n",
      "\n",
      "Rule-based POS tagging: The rule-based POS tagging models apply a set of handwritten rules and use contextual information to assign POS tags to words. These rules are often known as context frame rules. One such rule might be: “If an ambiguous/unknown word ends with the suffix ‘ing’ and is preceded by a Verb, label it as a Verb”.\n",
      "\n",
      "Transformation Based Tagging:  The transformation-based approaches use a pre-defined set of handcrafted rules as well as automatically induced rules that are generated during training.\n",
      "\n",
      "Deep learning models: Various Deep learning models have been used for POS tagging such as Meta-BiLSTM which have shown an impressive accuracy of around 97 percent.\n",
      "\n",
      "Stochastic (Probabilistic) tagging: A stochastic approach includes frequency, probability or statistics. The simplest stochastic approach finds out the most frequently used tag for a specific word in the annotated training data and uses this information to tag that word in the unannotated text. \n",
      "\n",
      "\n",
      "\n",
      "The Viterbi algorithm is a dynamic programming algorithm for finding the most likely sequence of hidden states—called the Viterbi path—that results in a sequence of observed events, especially in the context of Markov information sources and hidden Markov models (HMM).\n",
      "\n",
      "Let’s delve into the practical applications of HMM-based POS tagging:\n",
      "\n",
      "Speech Recognition: When we use voice assistants like Siri or Google Assistant to dictate “I’m reading a lead story,” it’s crucial for the system to correctly identify “lead” as a noun (a primary news article) rather than its verb form (to guide). Here, HMM-based POS tagging plays a pivotal role in ensuring such distinctions.\n",
      "\n",
      "Machine Translation: Let’s say we’re translating the English phrase “I read books” into French. It becomes essential for tools like Google Translate to figure out if “read” is present or past tense. By employing HMM-based POS tagging, we aid the system in making this crucial determination.\n",
      "\n",
      "Text-to-Speech Systems: Let’s picture an app that vocalizes written content. In a sentence like “The wind is too intense to wind the clock,” the role of HMMs in POS tagging becomes evident as they help the system pronounce the two instances of “wind” appropriately.\n",
      "\n",
      "Code & Output:\n",
      "\n",
      "\n",
      "\n",
      "\n",
      "\n",
      "\n",
      "\n",
      "\n",
      "\n",
      "\n",
      "\n",
      "\n",
      "\n",
      "\n",
      "\n",
      "\n",
      "\n",
      "\n",
      "\n",
      "\n",
      "\n",
      "\n",
      "\n",
      "\n",
      "\n",
      "\n",
      "\n",
      "Conclusion: \n",
      "\n",
      "Successfully implemented the PoS tagging using HMM – Viterbi algorithm. As seen above, using the Viterbi algorithm along with rules can yield us better results.\n"
     ]
    }
   ],
   "source": [
    "print(word[0].page_content)"
   ]
  },
  {
   "cell_type": "code",
   "execution_count": null,
   "id": "d4cf55da-aba9-4068-9bbb-84df5691e7e2",
   "metadata": {},
   "outputs": [],
   "source": []
  }
 ],
 "metadata": {
  "kernelspec": {
   "display_name": "Python 3 (ipykernel)",
   "language": "python",
   "name": "python3"
  },
  "language_info": {
   "codemirror_mode": {
    "name": "ipython",
    "version": 3
   },
   "file_extension": ".py",
   "mimetype": "text/x-python",
   "name": "python",
   "nbconvert_exporter": "python",
   "pygments_lexer": "ipython3",
   "version": "3.11.4"
  }
 },
 "nbformat": 4,
 "nbformat_minor": 5
}
