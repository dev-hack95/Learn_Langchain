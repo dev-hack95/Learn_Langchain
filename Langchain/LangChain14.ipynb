{
 "cells": [
  {
   "cell_type": "markdown",
   "id": "6a28739b",
   "metadata": {},
   "source": [
    "# Multi-Query Retriver"
   ]
  },
  {
   "cell_type": "code",
   "execution_count": 2,
   "id": "3190ec2c",
   "metadata": {},
   "outputs": [],
   "source": [
    "import os\n",
    "import warnings\n",
    "from dotenv import load_dotenv\n",
    "from typing import Dict, List\n",
    "from langchain.text_splitter import CharacterTextSplitter\n",
    "from langchain.document_loaders import WikipediaLoader\n",
    "from langchain_community.document_loaders import TextLoader\n",
    "from langchain.chat_models import ChatOpenAI\n",
    "from langchain.retrievers.multi_query import MultiQueryRetriever\n",
    "from langchain_community.embeddings.sentence_transformer import SentenceTransformerEmbeddings\n",
    "from langchain.vectorstores import Milvus\n",
    "\n",
    "warnings.filterwarnings(\"ignore\")"
   ]
  },
  {
   "cell_type": "code",
   "execution_count": 3,
   "id": "d5bcf977",
   "metadata": {},
   "outputs": [],
   "source": [
    "# Init Config\n",
    "load_dotenv(\".env\")\n",
    "api_key = os.environ.get(\"key\")"
   ]
  },
  {
   "cell_type": "code",
   "execution_count": 4,
   "id": "066ba026",
   "metadata": {},
   "outputs": [],
   "source": [
    "loder = WikipediaLoader(query='MKUltra')\n",
    "documents = loder.load()"
   ]
  },
  {
   "cell_type": "code",
   "execution_count": 5,
   "id": "a325b2e5",
   "metadata": {},
   "outputs": [
    {
     "data": {
      "text/plain": [
       "24"
      ]
     },
     "execution_count": 5,
     "metadata": {},
     "output_type": "execute_result"
    }
   ],
   "source": [
    "len(documents)"
   ]
  },
  {
   "cell_type": "code",
   "execution_count": 6,
   "id": "8d28cab0",
   "metadata": {},
   "outputs": [
    {
     "name": "stderr",
     "output_type": "stream",
     "text": [
      "Created a chunk of size 526, which is longer than the specified 500\n"
     ]
    }
   ],
   "source": [
    "text_splitter = CharacterTextSplitter.from_tiktoken_encoder(chunk_size = 500)\n",
    "docs = text_splitter.split_documents(documents)"
   ]
  },
  {
   "cell_type": "code",
   "execution_count": 7,
   "id": "2aec307a",
   "metadata": {},
   "outputs": [
    {
     "data": {
      "text/plain": [
       "53"
      ]
     },
     "execution_count": 7,
     "metadata": {},
     "output_type": "execute_result"
    }
   ],
   "source": [
    "len(docs)"
   ]
  },
  {
   "cell_type": "code",
   "execution_count": 8,
   "id": "f36a28f9",
   "metadata": {},
   "outputs": [],
   "source": [
    "embeddingModel = SentenceTransformerEmbeddings(model_name=\"all-MiniLM-L6-V2\")"
   ]
  },
  {
   "cell_type": "code",
   "execution_count": 9,
   "id": "547ce46f",
   "metadata": {},
   "outputs": [
    {
     "data": {
      "text/plain": [
       "HuggingFaceEmbeddings(client=SentenceTransformer(\n",
       "  (0): Transformer({'max_seq_length': 256, 'do_lower_case': False}) with Transformer model: BertModel \n",
       "  (1): Pooling({'word_embedding_dimension': 384, 'pooling_mode_cls_token': False, 'pooling_mode_mean_tokens': True, 'pooling_mode_max_tokens': False, 'pooling_mode_mean_sqrt_len_tokens': False})\n",
       "  (2): Normalize()\n",
       "), model_name='all-MiniLM-L6-V2', cache_folder=None, model_kwargs={}, encode_kwargs={}, multi_process=False)"
      ]
     },
     "execution_count": 9,
     "metadata": {},
     "output_type": "execute_result"
    }
   ],
   "source": [
    "embeddingModel"
   ]
  },
  {
   "cell_type": "code",
   "execution_count": 10,
   "id": "b20e1c8f",
   "metadata": {},
   "outputs": [],
   "source": [
    "db = Milvus.from_documents(\n",
    "    docs,\n",
    "    embeddingModel,\n",
    "    connection_args = {\n",
    "        \"host\": \"192.168.43.163\",\n",
    "        \"port\": \"19530\"\n",
    "    },\n",
    "    collection_name = 'wikipedia'\n",
    ")"
   ]
  },
  {
   "cell_type": "code",
   "execution_count": 11,
   "id": "ad5e0ba3",
   "metadata": {},
   "outputs": [
    {
     "data": {
      "text/plain": [
       "'\"Truth serum\" is a colloquial name for any of a range of psychoactive drugs used in an effort to obtain information from subjects who are unable or unwilling to provide it otherwise. These include ethanol, scopolamine, 3-quinuclidinyl benzilate, midazolam, flunitrazepam, sodium thiopental, and amobarbital, among others.\\nAlthough a variety of such substances have been tested, serious issues have been raised about their use scientifically, ethically and legally. There is currently no drug proven to cause consistent or predictable enhancement of truth-telling. Subjects questioned under the influence of such substances have been found to be suggestible and their memories subject to reconstruction and fabrication. When such drugs have been used in the course of investigating civil and criminal cases, they have not been accepted by Western legal systems and legal experts as genuine investigative tools. In the United States, it has been suggested that their use is a potential violation of the Fifth Amendment of the U.S. Constitution (the right to remain silent). Concerns have also been raised through\\nthe European Court of Human Rights arguing that use of a truth serum could be considered a violation of a human right to be free from degrading treatment, or could be considered a form of torture. It has been noted to be a violation of the Inter-American Convention to Prevent and Punish Torture.\"Truth serum\" was abused against psychotic patients as part of old, discredited practices of psychiatry and is no longer used. In a therapeutic context, the controlled administration of intravenous hypnotic medications is called \"narcosynthesis\" or \"narcoanalysis\". Such application was first documented by Dr. William Bleckwenn. Reliability and suggestibility of patients are concerns, and the practice of chemically inducing an involuntary mental state is now widely considered to be a form of torture.\\n\\n\\n== Active chemical substances ==\\nSedatives or hypnotics that alter higher cognitive function include ethanol, scopolamine, 3-quinuclidinyl benzilate, potent short or intermediate acting hypnotic benzodiazepines such as midazolam, flunitrazepam, and various short and ultra-short acting barbiturates, including sodium thiopental (commonly known by the brand name Pentothal) and amobarbital (formerly known as sodium amytal).'"
      ]
     },
     "execution_count": 11,
     "metadata": {},
     "output_type": "execute_result"
    }
   ],
   "source": [
    "db.similarity_search(\"What is decalssified\", k = 1)[0].page_content"
   ]
  },
  {
   "cell_type": "code",
   "execution_count": 16,
   "id": "f381fbb1",
   "metadata": {},
   "outputs": [],
   "source": [
    "llm = ChatOpenAI(api_key=api_key)"
   ]
  },
  {
   "cell_type": "code",
   "execution_count": 17,
   "id": "69c722bb",
   "metadata": {},
   "outputs": [],
   "source": [
    "retriver_from_llm = MultiQueryRetriever.from_llm(retriever=db.as_retriever(), llm = llm)"
   ]
  },
  {
   "cell_type": "code",
   "execution_count": 18,
   "id": "4388b918",
   "metadata": {},
   "outputs": [],
   "source": [
    "import logging\n",
    "logging.basicConfig()\n",
    "logging.getLogger('langchain.retrievers.multi_query').setLevel(logging.INFO)"
   ]
  },
  {
   "cell_type": "code",
   "execution_count": 19,
   "id": "69ec30d6",
   "metadata": {
    "scrolled": true
   },
   "outputs": [
    {
     "name": "stderr",
     "output_type": "stream",
     "text": [
      "INFO:langchain.retrievers.multi_query:Generated queries: ['1. Can you provide information on the process of declassification?', '2. What does the term \"declassified\" mean and how does it relate to classified information?', '3. Could you explain the significance of declassifying information and its impact on transparency and historical understanding?']\n"
     ]
    },
    {
     "data": {
      "text/plain": [
       "[Document(page_content='Unethical human experimentation is human experimentation that violates the principles of medical ethics. Such practices have included denying patients the right to informed consent, using pseudoscientific frameworks such as race science, and torturing people under the guise of research. Around World War II, Imperial Japan and Nazi Germany carried out brutal experiments on prisoners and civilians through groups like Unit 731 or individuals like Josef Mengele; the Nuremberg Code was developed after the war in response to the Nazi experiments. Countries have carried out brutal experiments on marginalized populations. Examples include American abuses during Project MKUltra and the Tuskegee syphilis experiments, and the mistreatment of indigenous populations in Canada and Australia. The Declaration of Helsinki, developed by the World Medical Association (WMA), is widely regarded as the cornerstone document on human research ethics.\\n\\n\\n== Nazi Germany ==', metadata={'title': 'Unethical human experimentation', 'summary': 'Unethical human experimentation is human experimentation that violates the principles of medical ethics. Such practices have included denying patients the right to informed consent, using pseudoscientific frameworks such as race science, and torturing people under the guise of research. Around World War II, Imperial Japan and Nazi Germany carried out brutal experiments on prisoners and civilians through groups like Unit 731 or individuals like Josef Mengele; the Nuremberg Code was developed after the war in response to the Nazi experiments. Countries have carried out brutal experiments on marginalized populations. Examples include American abuses during Project MKUltra and the Tuskegee syphilis experiments, and the mistreatment of indigenous populations in Canada and Australia. The Declaration of Helsinki, developed by the World Medical Association (WMA), is widely regarded as the cornerstone document on human research ethics.\\n\\n', 'source': 'https://en.wikipedia.org/wiki/Unethical_human_experimentation'}),\n",
       " Document(page_content='== See also ==\\nCIA activities in the United States\\nFrank Olson\\nMKUltra\\nMKNAOMI\\nMKOFTEN\\nProject CHATTER\\nUnethical human experimentation in the United States\\n\\n\\n== Footnotes ==\\n\\n\\n== References ==\\nMaret, Susan (2018-02-16). \"Murky Projects and Uneven Information Policies: A Case Study of the Psychological Strategy Board and CIA\". Secrecy and Society. 1 (2). doi:10.31979/2377-6188.2018.010206. ISSN 2377-6188.\\nRonson, Jon (2004). The Men Who Stare at Goats. London: Picador. ISBN 0-330-37547-4. OCLC 56653467.\\n\\n\\n== External links ==\\nTranscriptions of Declassified Project Artichoke Documents at the Wayback Machine (archived May 1, 2011)', metadata={'title': 'Project Artichoke', 'summary': \"Project Artichoke (also referred to as Operation Artichoke) was a project developed and enacted by the United States Central Intelligence Agency (CIA) for the purpose of researching methods of interrogation.\\nInitially known as Project Bluebird, Project Artichoke officially arose on August 20, 1951, and was operated by the CIA's Office of Scientific Intelligence. The primary goal of Project Artichoke was to determine whether a person could be involuntarily made to perform an act of attempted assassination. The project also studied the effects of hypnosis, forced addiction to (and subsequent withdrawal from) morphine, and other chemicals, including LSD, to produce amnesia and other vulnerable states in subjects.\\nProject Artichoke was succeeded by Project MKUltra, which began in 1953.\\n\\n\", 'source': 'https://en.wikipedia.org/wiki/Project_Artichoke'}),\n",
       " Document(page_content=\"== See also ==\\nHuman experimentation in the United States\\nProject MKULTRA\\nProject ARTICHOKE\\nProject CHATTER\\nProject MKDELTA\\nCIA cryptonym\\nKurt Blome\\nErich Traub\\n\\n\\n== References ==\\n\\nBibliographyGoliszek, Andrew, In the name of science : a history of secret programs, medical research, and human experimentation St. Martin's Press, 2003\\nSummary Report of CIA Investigation of MKNAOMI (US National Archives, released under the JFK Assassination Records Act, December 2017)\", metadata={'title': 'MKNAOMI', 'summary': \"MKNAOMI is the code name for a joint Department of Defense/CIA research program from the 1950s through to the 1970s. Unclassified information about the MKNAOMI program and the related Special Operations Division is scarce. It is generally reported to be a successor to the MKULTRA project focusing on biological projects including biological warfare agents—specifically, to store materials that could either incapacitate or kill a test subject and to develop devices for the diffusion of such materials.During its first twenty years, the CIA engaged in projects designed to increase U.S. biological and chemical warfare capabilities. Project MKNAOMI was initiated to provide the CIA with a covert support base to meet its top-secret operational requirements. The goal was to have a robust arsenal of lethal and incapacitating materials within the CIA's Technical Services Division (TSD). This would enable the TSD to serve as a center for supplying biological and chemical materials.Surveillance, testing, upgrading and the evaluation of special materials and items were provided by MKNAOMI to ensure that no defects or unwanted contingencies emerged during operational conditions. The U.S. Army's Special Operations Command (SOC) was assigned to assist the CIA with development, testing and maintenance procedures for the biological agents and delivery systems (1952). Both the CIA and SOC modified guns to fire special darts coated with biological agents and poisonous pills. The darts could incapacitate guard dogs, allowing agents to infiltrate the area that the dogs were guarding, and would then be used to awaken the dogs upon exiting the facility. In addition, the SOC was designated to research the potential to use biological agents against other animals and crops.A 1967 CIA memo which was uncovered by the Church Committee contained evidence of at least three covert techniques for attacking and poisoning crops that had been tested under field conditions. On November 25, 1969, President Richard Nixon banned any military use of biological weapons and Project MKNAOMI was dissolved. On February 14, 1970, a presidential order outlawed all stockpiles of bacteriological weapons and nonliving toxins. However, despite the presidential order, a CIA scientist was able to acquire an estimated 11 grams of deadly shellfish toxin from SOC personnel at Fort Detrick. The toxin was stored in a CIA laboratory where it remained undetected for over five years.\", 'source': 'https://en.wikipedia.org/wiki/MKNAOMI'})]"
      ]
     },
     "execution_count": 19,
     "metadata": {},
     "output_type": "execute_result"
    }
   ],
   "source": [
    "retriver_from_llm.get_relevant_documents('What is decalssified')"
   ]
  },
  {
   "cell_type": "code",
   "execution_count": 20,
   "id": "90c730b6",
   "metadata": {
    "scrolled": false
   },
   "outputs": [
    {
     "name": "stderr",
     "output_type": "stream",
     "text": [
      "INFO:langchain.retrievers.multi_query:Generated queries: ['1. What are the steps involved in the declassification process?', '2. Could you explain how the declassification process works?', '3. Can you outline the procedures followed during the declassification process?']\n"
     ]
    },
    {
     "data": {
      "text/plain": [
       "\"Project MKUltra was an illegal human experimentation program designed and undertaken by the U.S. Central Intelligence Agency (CIA) and intended to develop procedures and identify drugs that could be used during interrogations to weaken people and force confessions through brainwashing and psychological torture. It began in 1953 and was halted in 1973. MKUltra used numerous methods to manipulate its subjects' mental states and brain functions, such as the covert administration of high doses of psychoactive drugs (especially LSD) and other chemicals without the subjects' consent, electroshocks, hypnosis, sensory deprivation, isolation, verbal and sexual abuse, and other forms of torture.MKUltra was preceded by Project Artichoke. It was organized through the CIA's Office of Scientific Intelligence and coordinated with the United States Army Biological Warfare Laboratories. The program engaged in illegal activities, including the use of U.S. and Canadian citizens as unwitting test subjects.:\\u200a74\\u200a MKUltra's scope was broad, with activities carried out under the guise of research at more than 80 institutions aside from the military, including colleges and universities, hospitals, prisons, and pharmaceutical companies. The CIA operated using front organizations, although some top officials at these institutions were aware of the CIA's involvement.MKUltra was revealed to the public in 1975 by the Church Committee of the United States Congress and Gerald Ford's United States President's Commission on CIA activities within the United States (the Rockefeller Commission). Investigative efforts were hampered by CIA Director Richard Helms's order that all MKUltra files be destroyed in 1973; the Church Committee and Rockefeller Commission investigations relied on the sworn testimony of direct participants and on the small number of documents that survived Helms's order. In 1977, a Freedom of Information Act request uncovered a cache of 20,000 documents relating to MKUltra, which led to Senate hearings. Some surviving information about MKUltra was declassified in 2001. \\n\\n\\n== Background ==\""
      ]
     },
     "execution_count": 20,
     "metadata": {},
     "output_type": "execute_result"
    }
   ],
   "source": [
    "retriver_from_llm.get_relevant_documents('Can you provide information on the process of declassification?')[0].page_content"
   ]
  },
  {
   "cell_type": "markdown",
   "id": "4bce1c2b",
   "metadata": {},
   "source": [
    "# Context Compression"
   ]
  },
  {
   "cell_type": "code",
   "execution_count": 21,
   "id": "9fcf9245",
   "metadata": {},
   "outputs": [],
   "source": [
    "from langchain.retrievers import ContextualCompressionRetriever\n",
    "from langchain.retrievers.document_compressors import LLMChainExtractor"
   ]
  },
  {
   "cell_type": "code",
   "execution_count": 23,
   "id": "47983874",
   "metadata": {},
   "outputs": [],
   "source": [
    "compressor = LLMChainExtractor.from_llm(llm)\n",
    "compressor_retriver = ContextualCompressionRetriever(base_compressor=compressor,\n",
    "                                                    base_retriever=db.as_retriever())"
   ]
  },
  {
   "cell_type": "code",
   "execution_count": 28,
   "id": "156e963d",
   "metadata": {},
   "outputs": [
    {
     "name": "stdout",
     "output_type": "stream",
     "text": [
      "input_variables=['context', 'question'] output_parser=NoOutputParser() template='Given the following question and context, extract any part of the context *AS IS* that is relevant to answer the question. If none of the context is relevant return NO_OUTPUT. \\n\\nRemember, *DO NOT* edit the extracted parts of the context.\\n\\n> Question: {question}\\n> Context:\\n>>>\\n{context}\\n>>>\\nExtracted relevant parts:'\n"
     ]
    }
   ],
   "source": [
    "print(compressor_retriver.base_compressor.llm_chain.prompt)"
   ]
  },
  {
   "cell_type": "code",
   "execution_count": 29,
   "id": "23c6f036",
   "metadata": {},
   "outputs": [],
   "source": [
    "docs = db.similarity_search(\"What is decalssified\", k = 1)"
   ]
  },
  {
   "cell_type": "code",
   "execution_count": 30,
   "id": "e73d6f4b",
   "metadata": {},
   "outputs": [
    {
     "data": {
      "text/plain": [
       "Document(page_content='\"Truth serum\" is a colloquial name for any of a range of psychoactive drugs used in an effort to obtain information from subjects who are unable or unwilling to provide it otherwise. These include ethanol, scopolamine, 3-quinuclidinyl benzilate, midazolam, flunitrazepam, sodium thiopental, and amobarbital, among others.\\nAlthough a variety of such substances have been tested, serious issues have been raised about their use scientifically, ethically and legally. There is currently no drug proven to cause consistent or predictable enhancement of truth-telling. Subjects questioned under the influence of such substances have been found to be suggestible and their memories subject to reconstruction and fabrication. When such drugs have been used in the course of investigating civil and criminal cases, they have not been accepted by Western legal systems and legal experts as genuine investigative tools. In the United States, it has been suggested that their use is a potential violation of the Fifth Amendment of the U.S. Constitution (the right to remain silent). Concerns have also been raised through\\nthe European Court of Human Rights arguing that use of a truth serum could be considered a violation of a human right to be free from degrading treatment, or could be considered a form of torture. It has been noted to be a violation of the Inter-American Convention to Prevent and Punish Torture.\"Truth serum\" was abused against psychotic patients as part of old, discredited practices of psychiatry and is no longer used. In a therapeutic context, the controlled administration of intravenous hypnotic medications is called \"narcosynthesis\" or \"narcoanalysis\". Such application was first documented by Dr. William Bleckwenn. Reliability and suggestibility of patients are concerns, and the practice of chemically inducing an involuntary mental state is now widely considered to be a form of torture.\\n\\n\\n== Active chemical substances ==\\nSedatives or hypnotics that alter higher cognitive function include ethanol, scopolamine, 3-quinuclidinyl benzilate, potent short or intermediate acting hypnotic benzodiazepines such as midazolam, flunitrazepam, and various short and ultra-short acting barbiturates, including sodium thiopental (commonly known by the brand name Pentothal) and amobarbital (formerly known as sodium amytal).', metadata={'title': 'Truth serum', 'summary': '\"Truth serum\" is a colloquial name for any of a range of psychoactive drugs used in an effort to obtain information from subjects who are unable or unwilling to provide it otherwise. These include ethanol, scopolamine, 3-quinuclidinyl benzilate, midazolam, flunitrazepam, sodium thiopental, and amobarbital, among others.\\nAlthough a variety of such substances have been tested, serious issues have been raised about their use scientifically, ethically and legally. There is currently no drug proven to cause consistent or predictable enhancement of truth-telling. Subjects questioned under the influence of such substances have been found to be suggestible and their memories subject to reconstruction and fabrication. When such drugs have been used in the course of investigating civil and criminal cases, they have not been accepted by Western legal systems and legal experts as genuine investigative tools. In the United States, it has been suggested that their use is a potential violation of the Fifth Amendment of the U.S. Constitution (the right to remain silent). Concerns have also been raised through\\nthe European Court of Human Rights arguing that use of a truth serum could be considered a violation of a human right to be free from degrading treatment, or could be considered a form of torture. It has been noted to be a violation of the Inter-American Convention to Prevent and Punish Torture.\"Truth serum\" was abused against psychotic patients as part of old, discredited practices of psychiatry and is no longer used. In a therapeutic context, the controlled administration of intravenous hypnotic medications is called \"narcosynthesis\" or \"narcoanalysis\". Such application was first documented by Dr. William Bleckwenn. Reliability and suggestibility of patients are concerns, and the practice of chemically inducing an involuntary mental state is now widely considered to be a form of torture.\\n\\n', 'source': 'https://en.wikipedia.org/wiki/Truth_serum'})"
      ]
     },
     "execution_count": 30,
     "metadata": {},
     "output_type": "execute_result"
    }
   ],
   "source": [
    "docs[0]"
   ]
  },
  {
   "cell_type": "code",
   "execution_count": 35,
   "id": "448b5a3d",
   "metadata": {},
   "outputs": [],
   "source": [
    "compressed_docs = compressor_retriver.get_relevant_documents('What was this decalssified')"
   ]
  },
  {
   "cell_type": "code",
   "execution_count": 36,
   "id": "b7b465c3",
   "metadata": {},
   "outputs": [
    {
     "data": {
      "text/plain": [
       "'Operation Midnight Climax was established in order to study the effects of LSD on non-consenting individuals. Prostitutes on the CIA payroll were instructed to lure clients back to the safehouses, where they were surreptitiously plied with a wide range of substances, including LSD, and monitored behind one-way glass. The prostitutes were instructed in the use of post-coital questioning to investigate whether the victims could be convinced to involuntarily reveal secrets. The victims were sometimes fed subliminal messages in attempts to induce them to involuntary actions, including criminal activity such as robbery, assault, and assassination. Many of the CIA operatives involved in the experiments voluntarily indulged in the drugs and prostitutes for recreational purposes. Additionally, information from Wilmington News Journal on October 15, 1978, reports from a FOIA request that, \"the spy agency purchased two pounds of Yohimbine hydrochloride... by Dr. Robert V. Lashbrook, the chief aide to Dr. Sidney Gottlieb.\" The role of Dr. Lashbrook was to, \"monitor and approve materials for Operation Midnight Climax.\"Senate investigators were told that the goals of these experiments were to study mind control and sexual behavior. More specifically, to learn about the secrets of brainwashing to gain control over enemy spies and protect U.S. agents. Other objectives included finding drugs that could incapacitate entire buildings via poisoned food, which would create \"confusion-anxiety-fear,\" and other symptoms such as headaches and earaches. These drugs could also have amnesia effects, which were intended for use on foreign spies following interrogation.'"
      ]
     },
     "execution_count": 36,
     "metadata": {},
     "output_type": "execute_result"
    }
   ],
   "source": [
    "compressed_docs[0].page_content"
   ]
  },
  {
   "cell_type": "code",
   "execution_count": 38,
   "id": "c48d9663",
   "metadata": {},
   "outputs": [
    {
     "data": {
      "text/plain": [
       "'Operation Midnight Climax was an operation carried out by the CIA as a sub-project of Project MKUltra, the mind-control research program that began in the 1950s. It was initially established in 1954 by Sidney Gottlieb and placed under the direction of the Federal Bureau of Narcotics in Boston, Massachusetts with the \"Federal Narcotics Agent and CIA consultant\" George Hunter White under the pseudonym of Morgan Hall. Dr. Sidney Gottlieb was a chemist who was chief of the Chemical Division of the Office of Technical Service of the CIA. Gottlieb based his plan for Project MKUltra and Operation Midnight Climax off of interrogation method research under Project Artichoke. Unlike Project Artichoke, Operation Midnight Climax gave Gottlieb permission to test drugs on unknowing citizens, which made way for the legacy of this operation. Hundreds of federal agents, field operatives, and scientists worked on these programs before they were shut down in the 1960s.'"
      ]
     },
     "execution_count": 38,
     "metadata": {},
     "output_type": "execute_result"
    }
   ],
   "source": [
    "compressed_docs[0].metadata['summary']"
   ]
  },
  {
   "cell_type": "code",
   "execution_count": null,
   "id": "ceb0e658",
   "metadata": {},
   "outputs": [],
   "source": []
  }
 ],
 "metadata": {
  "kernelspec": {
   "display_name": "Python 3 (ipykernel)",
   "language": "python",
   "name": "python3"
  },
  "language_info": {
   "codemirror_mode": {
    "name": "ipython",
    "version": 3
   },
   "file_extension": ".py",
   "mimetype": "text/x-python",
   "name": "python",
   "nbconvert_exporter": "python",
   "pygments_lexer": "ipython3",
   "version": "3.10.13"
  }
 },
 "nbformat": 4,
 "nbformat_minor": 5
}
