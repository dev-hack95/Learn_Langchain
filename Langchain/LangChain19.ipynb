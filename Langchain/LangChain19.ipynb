{
 "cells": [
  {
   "cell_type": "markdown",
   "id": "58930a06",
   "metadata": {},
   "source": [
    "# Agents"
   ]
  },
  {
   "cell_type": "markdown",
   "id": "942f1bdb",
   "metadata": {},
   "source": [
    "* Custom Tools"
   ]
  },
  {
   "cell_type": "code",
   "execution_count": 6,
   "id": "2f73d09e",
   "metadata": {},
   "outputs": [],
   "source": [
    "import os\n",
    "import warnings\n",
    "from datetime import datetime\n",
    "from dotenv import load_dotenv\n",
    "from langchain.chat_models import ChatOpenAI\n",
    "from langchain.callbacks.manager import CallbackManager\n",
    "from langchain.callbacks.streaming_stdout import StreamingStdOutCallbackHandler\n",
    "from langchain.agents import AgentType, initialize_agent, load_agent, Tool, tool, load_tools\n",
    "\n",
    "# Config\n",
    "load_dotenv(\".env\")\n",
    "warnings.filterwarnings(\"ignore\")\n",
    "api_key = os.environ.get(\"key\")"
   ]
  },
  {
   "cell_type": "markdown",
   "id": "d4ac9868",
   "metadata": {},
   "source": [
    "```bash\n",
    "LLM ---> Tools DocStrings(Look for tools) ---> Pick Tool (select tools) --\n",
    "                                                                          |\n",
    "                                             Observation <--  Action   <--\n",
    "```"
   ]
  },
  {
   "cell_type": "code",
   "execution_count": 2,
   "id": "00e58a27",
   "metadata": {},
   "outputs": [],
   "source": [
    "@tool\n",
    "def coolest_community(text: str) -> str:\n",
    "    \"\"\"\n",
    "    Returns the coolest community of programming languages\n",
    "    \"\"\"\n",
    "    return \"Rust Community\""
   ]
  },
  {
   "cell_type": "code",
   "execution_count": 7,
   "id": "d2a6a998",
   "metadata": {},
   "outputs": [],
   "source": [
    "@tool\n",
    "def currentTime(text: str) -> str:\n",
    "    \"\"\"\n",
    "    Return current time \n",
    "    \"\"\"\n",
    "    return str(datetime.now())"
   ]
  },
  {
   "cell_type": "code",
   "execution_count": 11,
   "id": "807d2d35",
   "metadata": {},
   "outputs": [],
   "source": [
    "class ChatBot:\n",
    "    def __init__(self) -> None:\n",
    "        self.callback_manager = CallbackManager([StreamingStdOutCallbackHandler()])\n",
    "        self.model = ChatOpenAI(api_key=api_key, model=\"gpt-3.5-turbo\", max_tokens=500)\n",
    "        self.tools = load_tools(['wikipedia'], llm=self.model)\n",
    "        self.add_tool = self.tools + [coolest_community] + [currentTime]\n",
    "        self.agents = initialize_agent(\n",
    "            self.add_tool,\n",
    "            self.model,\n",
    "            agent=AgentType.ZERO_SHOT_REACT_DESCRIPTION,\n",
    "            handle_parsing_errors=True,\n",
    "            verbose=True\n",
    "        )\n",
    "        \n",
    "    def Chat(self, query: str) -> str:\n",
    "        return self.agents(query)['output']"
   ]
  },
  {
   "cell_type": "code",
   "execution_count": 12,
   "id": "6d2581e1",
   "metadata": {},
   "outputs": [],
   "source": [
    "bot = ChatBot()"
   ]
  },
  {
   "cell_type": "code",
   "execution_count": 13,
   "id": "d908aaec",
   "metadata": {},
   "outputs": [
    {
     "name": "stdout",
     "output_type": "stream",
     "text": [
      "\n",
      "\n",
      "\u001b[1m> Entering new AgentExecutor chain...\u001b[0m\n",
      "\u001b[32;1m\u001b[1;3mI should use the \"coolest_community\" tool to find the best community in programming languages.\n",
      "Action: coolest_community\n",
      "Action Input: None\u001b[0m\n",
      "Observation: \u001b[33;1m\u001b[1;3mRust Community\u001b[0m\n",
      "Thought:\u001b[32;1m\u001b[1;3mI now know the final answer\n",
      "Final Answer: The Rust community is considered the best community in programming languages.\u001b[0m\n",
      "\n",
      "\u001b[1m> Finished chain.\u001b[0m\n"
     ]
    },
    {
     "data": {
      "text/plain": [
       "'The Rust community is considered the best community in programming languages.'"
      ]
     },
     "execution_count": 13,
     "metadata": {},
     "output_type": "execute_result"
    }
   ],
   "source": [
    "bot.Chat(\"Which is best community in programing languages\")"
   ]
  },
  {
   "cell_type": "code",
   "execution_count": 18,
   "id": "7fcd3c8a",
   "metadata": {},
   "outputs": [
    {
     "name": "stdout",
     "output_type": "stream",
     "text": [
      "\n",
      "\n",
      "\u001b[1m> Entering new AgentExecutor chain...\u001b[0m\n",
      "\u001b[32;1m\u001b[1;3mI should use the currentTime tool to get the current time.\n",
      "Action: currentTime\n",
      "Action Input: None\u001b[0m\n",
      "Observation: \u001b[38;5;200m\u001b[1;3m2024-02-04 00:28:03.121945\u001b[0m\n",
      "Thought:\u001b[32;1m\u001b[1;3mI now know the final answer\n",
      "Final Answer: The current time is 2024-02-04 00:28:03.121945\u001b[0m\n",
      "\n",
      "\u001b[1m> Finished chain.\u001b[0m\n"
     ]
    },
    {
     "data": {
      "text/plain": [
       "'The current time is 2024-02-04 00:28:03.121945'"
      ]
     },
     "execution_count": 18,
     "metadata": {},
     "output_type": "execute_result"
    }
   ],
   "source": [
    "bot.Chat(\"Can you tell me a time\")"
   ]
  },
  {
   "cell_type": "code",
   "execution_count": null,
   "id": "d061b900",
   "metadata": {},
   "outputs": [],
   "source": []
  }
 ],
 "metadata": {
  "kernelspec": {
   "display_name": "Python 3 (ipykernel)",
   "language": "python",
   "name": "python3"
  },
  "language_info": {
   "codemirror_mode": {
    "name": "ipython",
    "version": 3
   },
   "file_extension": ".py",
   "mimetype": "text/x-python",
   "name": "python",
   "nbconvert_exporter": "python",
   "pygments_lexer": "ipython3",
   "version": "3.10.13"
  }
 },
 "nbformat": 4,
 "nbformat_minor": 5
}
