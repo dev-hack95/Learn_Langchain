{
 "cells": [
  {
   "cell_type": "markdown",
   "id": "4b5be9f3",
   "metadata": {},
   "source": [
    "# Agents"
   ]
  },
  {
   "cell_type": "markdown",
   "id": "09fa9095",
   "metadata": {},
   "source": [
    "* Tools"
   ]
  },
  {
   "cell_type": "code",
   "execution_count": 1,
   "id": "67f463a6",
   "metadata": {},
   "outputs": [],
   "source": [
    "import os\n",
    "import warnings\n",
    "from dotenv import load_dotenv\n",
    "from langchain.chat_models import ChatOpenAI\n",
    "from langchain.callbacks.manager import CallbackManager\n",
    "from langchain.utilities import DuckDuckGoSearchAPIWrapper\n",
    "from langchain.callbacks.streaming_stdout import StreamingStdOutCallbackHandler\n",
    "from langchain.agents import initialize_agent, load_tools, AgentType, Tool\n",
    "\n",
    "# Config\n",
    "load_dotenv(\".env\")\n",
    "warnings.filterwarnings(\"ignore\")\n",
    "api_key = os.environ.get(\"key\")"
   ]
  },
  {
   "cell_type": "code",
   "execution_count": 2,
   "id": "c494805c",
   "metadata": {},
   "outputs": [],
   "source": [
    "class ChatBot:\n",
    "    def __init__(self) -> None:\n",
    "        self.callback_manager = CallbackManager([StreamingStdOutCallbackHandler()])\n",
    "        self.model = ChatOpenAI(api_key=api_key, model=\"gpt-3.5-turbo\", max_tokens=500)\n",
    "        self.ddg_browser = DuckDuckGoSearchAPIWrapper()\n",
    "        self.tools = [\n",
    "            Tool(\n",
    "                name=\"Search\",\n",
    "                func=self.ddg_browser.run,\n",
    "                description=\"Search Browser\"\n",
    "            )\n",
    "        ]\n",
    "        self.agents = initialize_agent(\n",
    "            self.tools,\n",
    "            self.model,\n",
    "            agent=AgentType.ZERO_SHOT_REACT_DESCRIPTION,\n",
    "            handle_parsing_errors=True\n",
    "        )\n",
    "        \n",
    "    def Chat(self, query: str):\n",
    "        return self.agents(query)['output']"
   ]
  },
  {
   "cell_type": "code",
   "execution_count": 3,
   "id": "0a2a6458",
   "metadata": {},
   "outputs": [],
   "source": [
    "bot = ChatBot()"
   ]
  },
  {
   "cell_type": "code",
   "execution_count": 4,
   "id": "2c55a767",
   "metadata": {
    "scrolled": false
   },
   "outputs": [
    {
     "data": {
      "text/plain": [
       "'Jax is a good choice for machine learning, especially if you need high-performance and automatic differentiation capabilities. Numpy is also a popular library for numerical computing and machine learning, known for its efficient array operations.'"
      ]
     },
     "execution_count": 4,
     "metadata": {},
     "output_type": "execute_result"
    }
   ],
   "source": [
    "bot.Chat(\"Jax vs Numpy which is good for machine learning\")"
   ]
  },
  {
   "cell_type": "code",
   "execution_count": null,
   "id": "8da6b992",
   "metadata": {},
   "outputs": [],
   "source": []
  }
 ],
 "metadata": {
  "kernelspec": {
   "display_name": "Python 3 (ipykernel)",
   "language": "python",
   "name": "python3"
  },
  "language_info": {
   "codemirror_mode": {
    "name": "ipython",
    "version": 3
   },
   "file_extension": ".py",
   "mimetype": "text/x-python",
   "name": "python",
   "nbconvert_exporter": "python",
   "pygments_lexer": "ipython3",
   "version": "3.10.13"
  }
 },
 "nbformat": 4,
 "nbformat_minor": 5
}
