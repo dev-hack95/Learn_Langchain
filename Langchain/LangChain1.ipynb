{
 "cells": [
  {
   "cell_type": "code",
   "execution_count": 1,
   "id": "08543ed1-7635-4a63-b487-686f20f46b52",
   "metadata": {},
   "outputs": [],
   "source": [
    "import os\n",
    "import openai\n",
    "from dotenv import load_dotenv\n",
    "\n",
    "# Config\n",
    "load_dotenv(\".env\")\n",
    "openai.api_key = os.environ.get(\"key\")"
   ]
  },
  {
   "cell_type": "code",
   "execution_count": 2,
   "id": "abb8f70b-669f-4851-bd75-ee93ccd8ca26",
   "metadata": {},
   "outputs": [],
   "source": [
    "class Chat:\n",
    "    def __init__(self):\n",
    "        self.role = 'role'\n",
    "        self.user = 'user'\n",
    "        self.content = 'content'\n",
    "        self.temperature = 0.8\n",
    "        \n",
    "    def chat(self, user_input: str):\n",
    "        messages = [{self.role: self.user, self.content: user_input}]\n",
    "        response = openai.ChatCompletion.create(\n",
    "            model=\"gpt-3.5-turbo\",\n",
    "            messages=messages,\n",
    "            temperature=0.8,\n",
    "        )\n",
    "        return response.choices[0].message[\"content\"]"
   ]
  },
  {
   "cell_type": "code",
   "execution_count": 3,
   "id": "2a2b4b11-cb21-4527-acfb-23c593d0db67",
   "metadata": {},
   "outputs": [
    {
     "data": {
      "text/plain": [
       "\"Quantum entanglement is a phenomenon in quantum physics where two or more particles become correlated in such a way that the state of one particle cannot be described independently of the other(s), regardless of the distance between them. In other words, the properties of entangled particles are interconnected and any change in one particle instantaneously affects the other(s), regardless of the distance between them.\\n\\nThis concept was first introduced by Albert Einstein, Boris Podolsky, and Nathan Rosen in their famous EPR paradox thought experiment. Quantum entanglement challenges the classical notion of locality, suggesting that information can be transmitted faster than the speed of light, which is counter to the principles of special relativity.\\n\\nEntangled particles can be generated through various methods, such as the decay of a particle into two entangled daughter particles or through interactions in a controlled laboratory setup. Once entangled, the particles exhibit specific quantum mechanical correlations, such as their spin, polarization, or position. These correlations are preserved even if the particles are separated by vast distances.\\n\\nQuantum entanglement has been experimentally observed and verified through various experiments, including the violation of Bell's inequalities. It is the foundation for various applications in quantum information processing, such as quantum teleportation, quantum cryptography, and quantum computing.\""
      ]
     },
     "execution_count": 3,
     "metadata": {},
     "output_type": "execute_result"
    }
   ],
   "source": [
    "chat = Chat()\n",
    "chat.chat(\"What is the concept of quantum entalgement\")"
   ]
  },
  {
   "cell_type": "code",
   "execution_count": 4,
   "id": "bc40adab-8a5f-4457-a7c2-7ceaac573e18",
   "metadata": {},
   "outputs": [
    {
     "data": {
      "text/plain": [
       "<__main__.Chat at 0x1c6082420d0>"
      ]
     },
     "execution_count": 4,
     "metadata": {},
     "output_type": "execute_result"
    }
   ],
   "source": [
    "chat"
   ]
  },
  {
   "cell_type": "code",
   "execution_count": 4,
   "id": "399f951c-e17b-4fed-b691-4bebbbb73f2e",
   "metadata": {},
   "outputs": [
    {
     "name": "stdout",
     "output_type": "stream",
     "text": [
      "\n",
      "Be Informative which answering make bullet point with highlist or italic font.\n",
      "Question : What is the concept of quantum entalgement\n",
      "\n"
     ]
    },
    {
     "data": {
      "text/plain": [
       "'- Quantum entanglement is a phenomenon in quantum physics where two or more particles become connected in such a way that their states become correlated.\\n- This means that the state of one particle cannot be described independently of the state of the other particle, regardless of the distance between them.\\n- When two particles are entangled, their properties, such as spin or polarization, become linked in a way that measuring one particle instantly determines the state of the other particle, no matter how far apart they are.\\n- This instantaneous correlation between entangled particles is often referred to as \"spooky action at a distance,\" a term coined by Albert Einstein.\\n- Quantum entanglement is a fundamental aspect of quantum mechanics and has been experimentally confirmed in numerous scientific studies.\\n- It plays a crucial role in various quantum technologies, such as quantum cryptography, quantum teleportation, and quantum computing.\\n- The concept of quantum entanglement challenges classical notions of locality and separability, and has led to philosophical debates about the nature of reality and the fundamental principles of quantum mechanics.\\n* Quantum entanglement is a phenomenon in quantum physics where two or more particles become connected in such a way that their states become correlated.\\n* The state of one particle cannot be described independently of the state of the other particle, regardless of the distance between them.\\n* Entangled particles exhibit instantaneous correlations, meaning that measuring one particle instantly determines the state of the other particle, regardless of the distance between them.\\n* Quantum entanglement is often referred to as \"spooky action at a distance\" and has been experimentally confirmed in scientific studies.\\n* It is a crucial aspect of quantum technologies such as quantum cryptography, quantum teleportation, and quantum computing.\\n* Quantum entanglement challenges classical notions of locality and separability, leading to debates about the nature of reality and the fundamental principles of quantum mechanics.'"
      ]
     },
     "execution_count": 4,
     "metadata": {},
     "output_type": "execute_result"
    }
   ],
   "source": [
    "question = \"What is the concept of quantum entalgement\"\n",
    "prompt = \"\"\"\n",
    "Be Informative which answering make bullet point with highlist or italic font.\n",
    "Question : {question}\n",
    "\"\"\".format(question = question)\n",
    "print(prompt)\n",
    "chat.chat(prompt)"
   ]
  },
  {
   "cell_type": "code",
   "execution_count": null,
   "id": "e0c54e18-d4fc-4f1b-90d4-c9a3610ab58a",
   "metadata": {},
   "outputs": [],
   "source": []
  },
  {
   "cell_type": "code",
   "execution_count": null,
   "id": "daeed6e5-e346-493c-aa75-0d2701fbf8ce",
   "metadata": {},
   "outputs": [],
   "source": []
  }
 ],
 "metadata": {
  "kernelspec": {
   "display_name": "Python 3 (ipykernel)",
   "language": "python",
   "name": "python3"
  },
  "language_info": {
   "codemirror_mode": {
    "name": "ipython",
    "version": 3
   },
   "file_extension": ".py",
   "mimetype": "text/x-python",
   "name": "python",
   "nbconvert_exporter": "python",
   "pygments_lexer": "ipython3",
   "version": "3.11.4"
  }
 },
 "nbformat": 4,
 "nbformat_minor": 5
}
