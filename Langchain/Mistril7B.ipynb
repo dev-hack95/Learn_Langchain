{
 "cells": [
  {
   "cell_type": "code",
   "execution_count": 1,
   "id": "cfb610c2",
   "metadata": {},
   "outputs": [],
   "source": [
    "from langchain.callbacks.manager import CallbackManager\n",
    "from langchain.callbacks.streaming_stdout import StreamingStdOutCallbackHandler\n",
    "from langchain.prompts import PromptTemplate\n",
    "from langchain_community.llms import CTransformers"
   ]
  },
  {
   "cell_type": "code",
   "execution_count": 2,
   "id": "577f0bad",
   "metadata": {},
   "outputs": [],
   "source": [
    "template = \"\"\"{question}\"\"\"\n",
    "\n",
    "prompt = PromptTemplate(template=template, input_variables=[\"question\"])"
   ]
  },
  {
   "cell_type": "code",
   "execution_count": 3,
   "id": "5d520eee",
   "metadata": {},
   "outputs": [],
   "source": [
    "callback_manager = CallbackManager([StreamingStdOutCallbackHandler()])"
   ]
  },
  {
   "cell_type": "code",
   "execution_count": 4,
   "id": "16dfb769",
   "metadata": {},
   "outputs": [
    {
     "name": "stderr",
     "output_type": "stream",
     "text": [
      "E:\\LLM\\venv\\lib\\site-packages\\tqdm\\auto.py:21: TqdmWarning: IProgress not found. Please update jupyter and ipywidgets. See https://ipywidgets.readthedocs.io/en/stable/user_install.html\n",
      "  from .autonotebook import tqdm as notebook_tqdm\n"
     ]
    }
   ],
   "source": [
    "config = {'max_new_tokens': 1024, 'repetition_penalty': 1.1, 'context_length': 2048}\n",
    "llm = CTransformers(\n",
    "    model='C:\\\\Users\\\\Saiprasad\\\\.cache\\\\huggingface\\\\hub\\\\models--TheBloke--Mistral-7B-Instruct-v0.2-GGUF\\\\snapshots\\\\3a6fbf4a41a1d52e415a4958cde6856d34b2db93\\\\mistral-7b-instruct-v0.2.Q4_K_M.gguf',\n",
    "    config=config, callback_manager=callback_manager)"
   ]
  },
  {
   "cell_type": "code",
   "execution_count": 5,
   "id": "1616cbda",
   "metadata": {},
   "outputs": [
    {
     "name": "stderr",
     "output_type": "stream",
     "text": [
      "E:\\LLM\\venv\\lib\\site-packages\\langchain_core\\_api\\deprecation.py:117: LangChainDeprecationWarning: The function `__call__` was deprecated in LangChain 0.1.7 and will be removed in 0.2.0. Use invoke instead.\n",
      "  warn_deprecated(\n"
     ]
    },
    {
     "name": "stdout",
     "output_type": "stream",
     "text": [
      "?\n",
      "\n",
      "Quantization is the process of representing continuous data in a discrete form. In the context of digital signals and images, this means reducing the number of bits used to represent each sample or pixel. Bit quantization refers specifically to the reduction in the number of bits used to represent the intensity or color information of each pixel in an image. This can be done by rounding off the original floating-point values to the nearest integer value that can be represented using the reduced number of bits. The result is a compressed version of the original image, with a lower bit depth and therefore lower resolution and dynamic range compared to the original. However, quantization can also help reduce the amount of data needed to store or transmit an image, making it an essential aspect of many image compression algorithms such as JPEG."
     ]
    },
    {
     "data": {
      "text/plain": [
       "'?\\n\\nQuantization is the process of representing continuous data in a discrete form. In the context of digital signals and images, this means reducing the number of bits used to represent each sample or pixel. Bit quantization refers specifically to the reduction in the number of bits used to represent the intensity or color information of each pixel in an image. This can be done by rounding off the original floating-point values to the nearest integer value that can be represented using the reduced number of bits. The result is a compressed version of the original image, with a lower bit depth and therefore lower resolution and dynamic range compared to the original. However, quantization can also help reduce the amount of data needed to store or transmit an image, making it an essential aspect of many image compression algorithms such as JPEG.'"
      ]
     },
     "execution_count": 5,
     "metadata": {},
     "output_type": "execute_result"
    }
   ],
   "source": [
    "llm(\"what is bit quantization\")"
   ]
  },
  {
   "cell_type": "code",
   "execution_count": 6,
   "id": "007673e9",
   "metadata": {},
   "outputs": [],
   "source": [
    "from langchain.chains import LLMChain\n",
    "from langchain.chains import SequentialChain\n",
    "from langchain.prompts import ChatPromptTemplate, SystemMessagePromptTemplate, HumanMessagePromptTemplate"
   ]
  },
  {
   "cell_type": "code",
   "execution_count": 7,
   "id": "1cea36d4",
   "metadata": {},
   "outputs": [],
   "source": [
    "template1 = \"Give a summary of this employee's performance review:\\n{review}\"\n",
    "prompt1 = ChatPromptTemplate.from_template(template1)\n",
    "chain_1 = LLMChain(llm=llm,\n",
    "                     prompt=prompt1,\n",
    "                     output_key=\"review_summary\")"
   ]
  },
  {
   "cell_type": "code",
   "execution_count": 8,
   "id": "bfdd4335",
   "metadata": {},
   "outputs": [],
   "source": [
    "template2 = \"Identify key employee weaknesses in this review summary:\\n{review_summary}\"\n",
    "prompt2 = ChatPromptTemplate.from_template(template2)\n",
    "chain_2 = LLMChain(llm=llm,\n",
    "                     prompt=prompt2,\n",
    "                     output_key=\"weaknesses\")"
   ]
  },
  {
   "cell_type": "code",
   "execution_count": 9,
   "id": "0cdae6e9",
   "metadata": {},
   "outputs": [],
   "source": [
    "template3 = \"Create a personalized plan to help address and fix these weaknesses:\\n{weaknesses}\"\n",
    "prompt3 = ChatPromptTemplate.from_template(template3)\n",
    "chain_3 = LLMChain(llm=llm,\n",
    "                     prompt=prompt3,\n",
    "                     output_key=\"final_plan\")"
   ]
  },
  {
   "cell_type": "code",
   "execution_count": 10,
   "id": "290f585e",
   "metadata": {},
   "outputs": [],
   "source": [
    "seq_chain = SequentialChain(chains=[chain_1,chain_2,chain_3],\n",
    "                            input_variables=['review'],\n",
    "                            output_variables=['review_summary','weaknesses','final_plan'],\n",
    "                            verbose=True)"
   ]
  },
  {
   "cell_type": "code",
   "execution_count": 11,
   "id": "1825f94b",
   "metadata": {},
   "outputs": [],
   "source": [
    "employee_review = '''\n",
    "Employee Information:\n",
    "Name: Joe Schmo\n",
    "Position: Software Engineer\n",
    "Date of Review: July 14, 2023\n",
    "\n",
    "Strengths:\n",
    "Joe is a highly skilled software engineer with a deep understanding of programming languages, algorithms, and software development best practices. His technical expertise shines through in his ability to efficiently solve complex problems and deliver high-quality code.\n",
    "\n",
    "One of Joe's greatest strengths is his collaborative nature. He actively engages with cross-functional teams, contributing valuable insights and seeking input from others. His open-mindedness and willingness to learn from colleagues make him a true team player.\n",
    "\n",
    "Joe consistently demonstrates initiative and self-motivation. He takes the lead in seeking out new projects and challenges, and his proactive attitude has led to significant improvements in existing processes and systems. His dedication to self-improvement and growth is commendable.\n",
    "\n",
    "Another notable strength is Joe's adaptability. He has shown great flexibility in handling changing project requirements and learning new technologies. This adaptability allows him to seamlessly transition between different projects and tasks, making him a valuable asset to the team.\n",
    "\n",
    "Joe's problem-solving skills are exceptional. He approaches issues with a logical mindset and consistently finds effective solutions, often thinking outside the box. His ability to break down complex problems into manageable parts is key to his success in resolving issues efficiently.\n",
    "\n",
    "Weaknesses:\n",
    "While Joe possesses numerous strengths, there are a few areas where he could benefit from improvement. One such area is time management. Occasionally, Joe struggles with effectively managing his time, resulting in missed deadlines or the need for additional support to complete tasks on time. Developing better prioritization and time management techniques would greatly enhance his efficiency.\n",
    "\n",
    "Another area for improvement is Joe's written communication skills. While he communicates well verbally, there have been instances where his written documentation lacked clarity, leading to confusion among team members. Focusing on enhancing his written communication abilities will help him effectively convey ideas and instructions.\n",
    "'''"
   ]
  },
  {
   "cell_type": "code",
   "execution_count": 12,
   "id": "e7e72d30",
   "metadata": {},
   "outputs": [
    {
     "name": "stderr",
     "output_type": "stream",
     "text": [
      "E:\\LLM\\venv\\lib\\site-packages\\langchain_core\\_api\\deprecation.py:117: LangChainDeprecationWarning: The function `__call__` was deprecated in LangChain 0.1.0 and will be removed in 0.2.0. Use invoke instead.\n",
      "  warn_deprecated(\n"
     ]
    },
    {
     "name": "stdout",
     "output_type": "stream",
     "text": [
      "\n",
      "\n",
      "\u001b[1m> Entering new SequentialChain chain...\u001b[0m\n",
      "\n",
      "Joe could also benefit from developing a more consistent process for code reviews. Although he frequently contributes valuable feedback during informal code reviews, there have been instances where he overlooks certain issues or fails to provide thorough comments during formal code review sessions. A more consistent approach will ensure that all code is of the highest quality and meets company standards.\n",
      "\n",
      "Recommendations:\n",
      "To further develop Joe's strengths and address his weaknesses, here are some recommendations:\n",
      "\n",
      "1. Encourage participation in time management workshops or seminars to help him learn effective prioritization and planning strategies. This will improve his ability to manage projects and meet deadlines while maintaining a high level of work quality.\n",
      "\n",
      "2. Provide Joe with opportunities to practice written communication skills, such as documenting processes, writing user stories, or contributing to the company's internal wiki. Regular feedback on these efforts can help him identify areas for improvement and develop stronger writing abilities.\n",
      "\n",
      "3. Encourage Joe to adopt a consistent code review process. This could involve providing resources on best practices or conducting regular training sessions to ensure that all team members are following a similar approach. By doing so, the entire team will benefit from more effective code reviews and improved overall software quality.\n",
      "\n",
      "4. Offer Joe opportunities for professional development in the form of workshops, conferences, or online courses related to time management, written communication, or new technologies. These experiences can help him expand his knowledge and skills while demonstrating the company's commitment to his personal growth.\n",
      "\n",
      "5. Set up regular check-ins with Joe to discuss progress towards improving code review consistency and overall work quality. This ongoing dialogue will allow you to provide feedback, offer guidance, and recognize achievements as he works to address identified weaknesses and continue strengthening his professional development.\n",
      "\n",
      "4. Provide Joe with access to relevant resources such as coding best practices guides, industry standards documentation, and tools for automated code analysis. These resources can help him deepen his understanding of key concepts and improve the quality of his code output.\n",
      "\n",
      "3. Offer additional training opportunities like workshops, conferences, or online courses that cater to the specific areas Joe needs improvement in. Continuous learning is essential for staying current with the latest industry trends and technologies.\n",
      "\n",
      "2. Encourage peer mentoring through pair programming sessions with more experienced team members. This collaborative learning experience will expose him to new techniques and approaches while also providing opportunities for knowledge sharing and skill development.\n",
      "\n",
      "1. Implement regular code reviews by a dedicated team member or external consultant to assess Joe's progress in addressing identified weaknesses and provide constructive feedback. Regular reviews can help identify recurring issues, reinforce best practices, and ensure consistent improvement over time.\n",
      "\n",
      "By combining these strategies, you'll create an effective environment that fosters ongoing growth and development for Joe as he works to improve his code review consistency, work quality, and overall professional skills.\n",
      "\u001b[1m> Finished chain.\u001b[0m\n"
     ]
    },
    {
     "data": {
      "text/plain": [
       "{'review': \"\\nEmployee Information:\\nName: Joe Schmo\\nPosition: Software Engineer\\nDate of Review: July 14, 2023\\n\\nStrengths:\\nJoe is a highly skilled software engineer with a deep understanding of programming languages, algorithms, and software development best practices. His technical expertise shines through in his ability to efficiently solve complex problems and deliver high-quality code.\\n\\nOne of Joe's greatest strengths is his collaborative nature. He actively engages with cross-functional teams, contributing valuable insights and seeking input from others. His open-mindedness and willingness to learn from colleagues make him a true team player.\\n\\nJoe consistently demonstrates initiative and self-motivation. He takes the lead in seeking out new projects and challenges, and his proactive attitude has led to significant improvements in existing processes and systems. His dedication to self-improvement and growth is commendable.\\n\\nAnother notable strength is Joe's adaptability. He has shown great flexibility in handling changing project requirements and learning new technologies. This adaptability allows him to seamlessly transition between different projects and tasks, making him a valuable asset to the team.\\n\\nJoe's problem-solving skills are exceptional. He approaches issues with a logical mindset and consistently finds effective solutions, often thinking outside the box. His ability to break down complex problems into manageable parts is key to his success in resolving issues efficiently.\\n\\nWeaknesses:\\nWhile Joe possesses numerous strengths, there are a few areas where he could benefit from improvement. One such area is time management. Occasionally, Joe struggles with effectively managing his time, resulting in missed deadlines or the need for additional support to complete tasks on time. Developing better prioritization and time management techniques would greatly enhance his efficiency.\\n\\nAnother area for improvement is Joe's written communication skills. While he communicates well verbally, there have been instances where his written documentation lacked clarity, leading to confusion among team members. Focusing on enhancing his written communication abilities will help him effectively convey ideas and instructions.\\n\",\n",
       " 'review_summary': \"\\nJoe could also benefit from developing a more consistent process for code reviews. Although he frequently contributes valuable feedback during informal code reviews, there have been instances where he overlooks certain issues or fails to provide thorough comments during formal code review sessions. A more consistent approach will ensure that all code is of the highest quality and meets company standards.\\n\\nRecommendations:\\nTo further develop Joe's strengths and address his weaknesses, here are some recommendations:\\n\\n1. Encourage participation in time management workshops or seminars to help him learn effective prioritization and planning strategies. This will improve his ability to manage projects and meet deadlines while maintaining a high level of work quality.\\n\\n2. Provide Joe with opportunities to practice written communication skills, such as documenting processes, writing user stories, or contributing to the company's internal wiki. Regular feedback on these efforts can help him identify areas for improvement and develop stronger writing abilities.\\n\\n3. Encourage Joe to adopt a consistent code review process. This could involve providing resources on best practices or conducting regular training sessions to ensure that all team members are following a similar approach. By doing so, the entire team will benefit from more effective code reviews and improved overall software quality.\\n\\n4. Offer Joe opportunities for professional development in the form of workshops, conferences, or online courses related to time management, written communication, or new technologies. These experiences can help him expand his knowledge and skills while demonstrating the company's commitment to his personal growth.\",\n",
       " 'weaknesses': '\\n\\n5. Set up regular check-ins with Joe to discuss progress towards improving code review consistency and overall work quality. This ongoing dialogue will allow you to provide feedback, offer guidance, and recognize achievements as he works to address identified weaknesses and continue strengthening his professional development.',\n",
       " 'final_plan': \"\\n\\n4. Provide Joe with access to relevant resources such as coding best practices guides, industry standards documentation, and tools for automated code analysis. These resources can help him deepen his understanding of key concepts and improve the quality of his code output.\\n\\n3. Offer additional training opportunities like workshops, conferences, or online courses that cater to the specific areas Joe needs improvement in. Continuous learning is essential for staying current with the latest industry trends and technologies.\\n\\n2. Encourage peer mentoring through pair programming sessions with more experienced team members. This collaborative learning experience will expose him to new techniques and approaches while also providing opportunities for knowledge sharing and skill development.\\n\\n1. Implement regular code reviews by a dedicated team member or external consultant to assess Joe's progress in addressing identified weaknesses and provide constructive feedback. Regular reviews can help identify recurring issues, reinforce best practices, and ensure consistent improvement over time.\\n\\nBy combining these strategies, you'll create an effective environment that fosters ongoing growth and development for Joe as he works to improve his code review consistency, work quality, and overall professional skills.\"}"
      ]
     },
     "execution_count": 12,
     "metadata": {},
     "output_type": "execute_result"
    }
   ],
   "source": [
    "seq_chain(employee_review)"
   ]
  },
  {
   "cell_type": "code",
   "execution_count": null,
   "id": "da47a72f",
   "metadata": {},
   "outputs": [],
   "source": []
  }
 ],
 "metadata": {
  "kernelspec": {
   "display_name": "Python 3 (ipykernel)",
   "language": "python",
   "name": "python3"
  },
  "language_info": {
   "codemirror_mode": {
    "name": "ipython",
    "version": 3
   },
   "file_extension": ".py",
   "mimetype": "text/x-python",
   "name": "python",
   "nbconvert_exporter": "python",
   "pygments_lexer": "ipython3",
   "version": "3.10.13"
  }
 },
 "nbformat": 4,
 "nbformat_minor": 5
}
