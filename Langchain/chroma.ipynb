{
 "cells": [
  {
   "cell_type": "code",
   "execution_count": 1,
   "id": "3dd1fcc3-ccab-4506-b4da-266b2517bc56",
   "metadata": {},
   "outputs": [],
   "source": [
    "from langchain.document_loaders import PyMuPDFLoader\n",
    "from langchain.text_splitter import CharacterTextSplitter\n",
    "from langchain_community.document_loaders  import TextLoader\n",
    "from langchain_community.embeddings.sentence_transformer import SentenceTransformerEmbeddings\n",
    "from langchain_community.vectorstores import Chroma\n",
    "from chromadb.config import Settings"
   ]
  },
  {
   "cell_type": "code",
   "execution_count": 2,
   "id": "3942efe2-06fc-445b-b00f-59736a28502d",
   "metadata": {},
   "outputs": [],
   "source": [
    "class ResumeAnalyser:\n",
    "    def __init__(self, resume) -> None:\n",
    "        \"\"\"\n",
    "        Info:\n",
    "          This is Initializer for all the necessary data I/O\n",
    "        Args:\n",
    "          None\n",
    "        Returns:\n",
    "          None\n",
    "        \"\"\"\n",
    "        self.resume = resume\n",
    "        self.pdf_loder = PyMuPDFLoader\n",
    "        self.embedding_model = SentenceTransformerEmbeddings(model_name=\"all-MiniLM-L6-v2\")\n",
    "        self.client_settings = Settings(\n",
    "            chroma_server_host = \"192.168.43.163\",\n",
    "            chroma_server_http_port=\"8000\"\n",
    "        )\n",
    "        self.collection_name = \"chroma_test\"\n",
    "        \n",
    "    def Analyse(self, query):\n",
    "        \"\"\"\n",
    "        Info:\n",
    "          This function used cosine simalarity to analyse the resume\n",
    "        Args:\n",
    "          resume --> Input Resume\n",
    "        Returns:\n",
    "          str --> Returns data based on Cosine-similarity\n",
    "        \"\"\"\n",
    "        resume_data = self.pdf_loder(self.resume)\n",
    "        resumes_data = resume_data.load()\n",
    "        text_splitter = CharacterTextSplitter(\n",
    "            separator=\"\\n\",\n",
    "            chunk_size=500,\n",
    "            chunk_overlap=10,\n",
    "            length_function=len,\n",
    "            is_separator_regex=False)\n",
    "        data = text_splitter.split_text(resumes_data[0].page_content)\n",
    "        db = Chroma.from_texts(data, self.embedding_model, client_settings=self.client_settings, collection_name=self.collection_name)\n",
    "        docs = db.similarity_search(query, k = 4)\n",
    "        return docs[0].page_content"
   ]
  },
  {
   "cell_type": "code",
   "execution_count": 3,
   "id": "ff790899-e09a-4090-8a95-c9af74a4c611",
   "metadata": {},
   "outputs": [],
   "source": [
    "analyser = ResumeAnalyser(\"../data/Saiprasad Toshatwad.pdf\")"
   ]
  },
  {
   "cell_type": "code",
   "execution_count": 4,
   "id": "17569447-7702-45c4-bdd5-33033248709a",
   "metadata": {},
   "outputs": [
    {
     "data": {
      "text/plain": [
       "'06-2022 To 12-2022 \\nThe development of an AutoML platform aimed at simplifying the creation and deployment of machine learning models. I played a \\nkey role in building automated pipelines for tasks like hyperparameter tuning, model selection, and training. Dockerized the \\napplications for efficient deployment. \\n \\nProjects \\n \\nTextFlow – Personal Project \\n● \\nTextFLow is advanced video-to-text summarization with chat with context data project using RabbitMQ, Docker,'"
      ]
     },
     "execution_count": 4,
     "metadata": {},
     "output_type": "execute_result"
    }
   ],
   "source": [
    "analyser.Analyse(\"TextFlow\")"
   ]
  },
  {
   "cell_type": "code",
   "execution_count": 5,
   "id": "af66c5f6-2975-4df1-944c-c63fedfa342e",
   "metadata": {},
   "outputs": [
    {
     "data": {
      "text/plain": [
       "'192.168.43.163'"
      ]
     },
     "execution_count": 5,
     "metadata": {},
     "output_type": "execute_result"
    }
   ],
   "source": [
    "analyser.client_settings.chroma_server_host"
   ]
  },
  {
   "cell_type": "code",
   "execution_count": null,
   "id": "47bc3669-6f75-4b4c-ba41-98989d10422c",
   "metadata": {},
   "outputs": [],
   "source": []
  }
 ],
 "metadata": {
  "kernelspec": {
   "display_name": "Python 3 (ipykernel)",
   "language": "python",
   "name": "python3"
  },
  "language_info": {
   "codemirror_mode": {
    "name": "ipython",
    "version": 3
   },
   "file_extension": ".py",
   "mimetype": "text/x-python",
   "name": "python",
   "nbconvert_exporter": "python",
   "pygments_lexer": "ipython3",
   "version": "3.10.6"
  }
 },
 "nbformat": 4,
 "nbformat_minor": 5
}
