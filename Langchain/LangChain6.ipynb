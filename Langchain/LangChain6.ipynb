{
 "cells": [
  {
   "cell_type": "markdown",
   "id": "b9e8b955-348e-4f92-9a27-3e1bc2734256",
   "metadata": {},
   "source": [
    "# Few Shot Prompt Template"
   ]
  },
  {
   "cell_type": "code",
   "execution_count": 3,
   "id": "b2089f85-a85b-4f5e-9094-95b683411e78",
   "metadata": {},
   "outputs": [],
   "source": [
    "import os\n",
    "import langchain\n",
    "from dotenv import load_dotenv\n",
    "from langchain.chat_models import ChatOpenAI\n",
    "from langchain.cache import InMemoryCache\n",
    "from langchain.prompts.chat import SystemMessagePromptTemplate, HumanMessagePromptTemplate, ChatPromptTemplate, AIMessagePromptTemplate\n",
    "\n",
    "# Config\n",
    "load_dotenv(\".env\")\n",
    "api_key = os.environ.get(\"key\")"
   ]
  },
  {
   "cell_type": "code",
   "execution_count": 5,
   "id": "4ac463da-49dc-4cd1-917b-a2797437ebaa",
   "metadata": {},
   "outputs": [],
   "source": [
    "langchain.llm_cache = InMemoryCache()\n",
    "chat = ChatOpenAI(api_key=api_key, model='gpt-3.5-turbo', max_tokens=500)"
   ]
  },
  {
   "cell_type": "code",
   "execution_count": 9,
   "id": "91bdefdd-e58a-4be3-97f2-edad98a8e675",
   "metadata": {},
   "outputs": [],
   "source": [
    "class LegalDocsBot:\n",
    "    def __init__(self) -> None:\n",
    "        self.system_template = \"You are helpful legal assiatant that translates comples legal assistant that translates complex legal terms into plain and understandable terms\"\n",
    "        self.human_template =  \"{legal_text}\"\n",
    "        self.legal_text = \"The provisions herein shall be severable, and if any provision or portion thereof is deemed invalid, illegal, or unenforceable by a court of competent jurisdiction, the remaining provisions or portions thereof shall remain in full force and effect to the maximum extent permitted by law.\"\n",
    "        self.plain_text = \"The rules in this agreement can be separated. If a court decides that one rule or part of it is not valid, illegal, or cannot be enforced, the other rules will still apply and be enforced as much as they can under the law.\"\n",
    "        \n",
    "    \n",
    "    def Chat(self, user_prompt):\n",
    "        \"\"\"\n",
    "        Info:\n",
    "          It is a few shots template so we have to mention some few shots for Bot\n",
    "        Args:\n",
    "          Human Input --> Set some examples of human input\n",
    "          AI Output --> Set some examples of AI output\n",
    "        Returns:\n",
    "          Returns output in the format you provided in examples\n",
    "        \"\"\"\n",
    "        example_input_one = HumanMessagePromptTemplate.from_template(self.legal_text)\n",
    "        example_output_one = AIMessagePromptTemplate.from_template(self.plain_text)\n",
    "        system_message_prompt = SystemMessagePromptTemplate.from_template(self.system_template)\n",
    "        human_message_prompt = HumanMessagePromptTemplate.from_template(self.human_template)\n",
    "        chat_prompt = ChatPromptTemplate.from_messages([system_message_prompt, human_message_prompt])\n",
    "        prompt = chat_prompt.format_prompt(legal_text = user_prompt).to_messages()\n",
    "        return chat(prompt).content"
   ]
  },
  {
   "cell_type": "code",
   "execution_count": 10,
   "id": "d08b383e-61f0-41ae-bcca-0bd875f4599a",
   "metadata": {},
   "outputs": [
    {
     "name": "stdout",
     "output_type": "stream",
     "text": [
      "The person who owns the property (the grantor) is selling and transferring all of their rights, ownership, and interest in the property to the buyer (the grantee) and anyone they pass it down to (heirs and assigns). This includes any existing burdens on the property like mortgages, debts, or rights of passage, as well as any rules or limitations that affect the property. The grantor is doing this in exchange for a specific amount of money paid by the grantee.\n"
     ]
    }
   ],
   "source": [
    "bot = LegalDocsBot()\n",
    "print(bot.Chat(\"The grantor, being the fee simple owner of the real property herein described, conveys and warrants to the grantee, his heirs and assigns, all of the grantor's right, title, and interest in and to the said property, subject to all existing encumbrances, liens, and easements, as recorded in the official records of the county, and any applicable covenants, conditions, and restrictions affecting the property, in consideration of the sum of [purchase price] paid by the grantee.\"))"
   ]
  },
  {
   "cell_type": "code",
   "execution_count": null,
   "id": "76705617-3c84-4659-8b50-1b6a6ab28338",
   "metadata": {},
   "outputs": [],
   "source": []
  }
 ],
 "metadata": {
  "kernelspec": {
   "display_name": "Python 3 (ipykernel)",
   "language": "python",
   "name": "python3"
  },
  "language_info": {
   "codemirror_mode": {
    "name": "ipython",
    "version": 3
   },
   "file_extension": ".py",
   "mimetype": "text/x-python",
   "name": "python",
   "nbconvert_exporter": "python",
   "pygments_lexer": "ipython3",
   "version": "3.11.4"
  }
 },
 "nbformat": 4,
 "nbformat_minor": 5
}
