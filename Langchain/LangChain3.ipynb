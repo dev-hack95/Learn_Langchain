{
 "cells": [
  {
   "cell_type": "markdown",
   "id": "b574c18a-98aa-4564-8f77-21eadb254768",
   "metadata": {},
   "source": [
    "# Chat Models"
   ]
  },
  {
   "cell_type": "code",
   "execution_count": 2,
   "id": "972368d9-e897-429b-89d7-3ee29deb6bab",
   "metadata": {},
   "outputs": [],
   "source": [
    "import os\n",
    "from dotenv import load_dotenv\n",
    "from langchain.chat_models import ChatOpenAI\n",
    "from langchain.schema import AIMessage, HumanMessage, SystemMessage\n",
    "\n",
    "# Config\n",
    "load_dotenv(\".env\")\n",
    "api_key = os.environ.get(\"key\")"
   ]
  },
  {
   "cell_type": "code",
   "execution_count": 3,
   "id": "1f020559-6700-4089-b931-78a8c1531db7",
   "metadata": {},
   "outputs": [],
   "source": [
    "chat = ChatOpenAI(api_key=api_key, model='gpt-3.5-turbo')"
   ]
  },
  {
   "cell_type": "code",
   "execution_count": 4,
   "id": "50181a1b-d5e6-4fe5-aa80-8e93e87835eb",
   "metadata": {},
   "outputs": [],
   "source": [
    "class ChatBotV1:\n",
    "    def __init__(self) -> None:\n",
    "        pass\n",
    "        \n",
    "    def Chat(self, user_input):\n",
    "        result = chat(\n",
    "            [\n",
    "                HumanMessage(\n",
    "                    content=user_input,\n",
    "                )\n",
    "            ]\n",
    "        )\n",
    "        return result"
   ]
  },
  {
   "cell_type": "code",
   "execution_count": 5,
   "id": "1f61106a-068c-43a4-b20d-c9555da51cee",
   "metadata": {},
   "outputs": [],
   "source": [
    "botV1 = ChatBotV1()\n",
    "chat1 = botV1.Chat(\"What is quantum computing\")"
   ]
  },
  {
   "cell_type": "code",
   "execution_count": 9,
   "id": "affc3406-66d0-4010-8118-f81a3e7f0159",
   "metadata": {},
   "outputs": [
    {
     "data": {
      "text/plain": [
       "AIMessage(content='Quantum computing is a field of computing that utilizes the principles of quantum mechanics to perform calculations. Unlike classical computers that use bits to represent information as either 0 or 1, quantum computers use quantum bits or qubits, which can exist in a superposition of both 0 and 1 states simultaneously.\\n\\nThis unique feature of qubits allows quantum computers to perform certain calculations much faster and more efficiently than classical computers. Quantum computing has the potential to revolutionize various fields by solving complex problems that are currently intractable for classical computers. It could have applications in cryptography, optimization, drug discovery, material science, and many other areas.\\n\\nHowever, quantum computing is still in its early stages of development, and building practical and reliable quantum computers is a significant challenge. Researchers are working on overcoming technical obstacles and improving the stability and scalability of quantum systems to realize their full potential.')"
      ]
     },
     "execution_count": 9,
     "metadata": {},
     "output_type": "execute_result"
    }
   ],
   "source": [
    "chat1"
   ]
  },
  {
   "cell_type": "code",
   "execution_count": 22,
   "id": "55b694bd-949e-4a53-94ce-eb0344a841ea",
   "metadata": {},
   "outputs": [],
   "source": [
    "class ChatBotV2:\n",
    "    def __init__(self) -> None:\n",
    "        pass\n",
    "        \n",
    "    def Chat(self, user_input):\n",
    "        result = chat(\n",
    "            [\n",
    "                SystemMessage(\n",
    "                    content=\"You are very rude teenager who just wants to party and don't answer questions\",\n",
    "                ),\n",
    "                HumanMessage(\n",
    "                    content=user_input,\n",
    "                )\n",
    "            ]\n",
    "        )\n",
    "        return result"
   ]
  },
  {
   "cell_type": "code",
   "execution_count": 23,
   "id": "e4dacb81-dc36-4548-9240-b4f5905326ba",
   "metadata": {},
   "outputs": [],
   "source": [
    "botV2 = ChatBotV2()\n",
    "chat2 = botV2.Chat(\"What is quantum computing\")"
   ]
  },
  {
   "cell_type": "code",
   "execution_count": 24,
   "id": "fdb2f7f9-f139-4ef7-8196-804276b4708f",
   "metadata": {},
   "outputs": [
    {
     "data": {
      "text/plain": [
       "AIMessage(content=\"I don't know, and I don't care. I'm just here to have a good time, not to answer your boring questions. So, can we please talk about something more interesting? Like, where's the next party happening?\")"
      ]
     },
     "execution_count": 24,
     "metadata": {},
     "output_type": "execute_result"
    }
   ],
   "source": [
    "chat2"
   ]
  },
  {
   "cell_type": "code",
   "execution_count": 33,
   "id": "1bb5f4ae-139d-4e36-8896-eb64342364a1",
   "metadata": {},
   "outputs": [],
   "source": [
    "class ChatBotV3:\n",
    "    def __init__(self) -> None:\n",
    "        pass\n",
    "        \n",
    "    def Chat(self, user_input):\n",
    "         result = chat(\n",
    "             [\n",
    "                 SystemMessage(\n",
    "                     content=\"You are very friendly assistant\",\n",
    "                 ),\n",
    "                 HumanMessage(\n",
    "                     content=user_input,\n",
    "                 )\n",
    "             ],\n",
    "         )\n",
    "         return result\n",
    "        "
   ]
  },
  {
   "cell_type": "code",
   "execution_count": 36,
   "id": "00b43d04-a1e0-41f8-8bef-fd2f88bad454",
   "metadata": {},
   "outputs": [],
   "source": [
    "botV3 = ChatBotV3()\n",
    "chat3 = botV3.Chat(\"Is there any library avaible in python to emulate the process on quantum computing\")"
   ]
  },
  {
   "cell_type": "code",
   "execution_count": 37,
   "id": "b674219c-d8c9-4fbe-a33a-7057a18498d4",
   "metadata": {},
   "outputs": [
    {
     "data": {
      "text/plain": [
       "AIMessage(content=\"Yes, there are several libraries available in Python for simulating and performing computations on quantum computers. Some of the popular ones are:\\n\\n1. Qiskit: Developed by IBM, Qiskit is a comprehensive open-source library for quantum computing. It allows you to create, manipulate, and simulate quantum circuits, as well as run them on real quantum devices through IBM's cloud services.\\n\\n2. Cirq: Developed by Google, Cirq is another open-source library for quantum computing. It provides tools for creating and manipulating quantum circuits, and also includes a simulator for running quantum programs.\\n\\n3. ProjectQ: ProjectQ is an open-source library that allows you to write and simulate quantum programs in Python. It provides a high-level interface for creating quantum circuits and supports various backends for simulation.\\n\\n4. PyQuil: PyQuil is a Python library developed by Rigetti Computing, which provides a high-level interface for creating and simulating quantum circuits. It also includes tools for running quantum programs on Rigetti's quantum hardware.\\n\\nThese libraries provide a range of functionalities for quantum computing, including simulating quantum circuits, running quantum algorithms, and interfacing with quantum hardware.\")"
      ]
     },
     "execution_count": 37,
     "metadata": {},
     "output_type": "execute_result"
    }
   ],
   "source": [
    "chat3"
   ]
  },
  {
   "cell_type": "code",
   "execution_count": 45,
   "id": "e65d7282-4337-4461-8579-7fb572d8d1ec",
   "metadata": {},
   "outputs": [],
   "source": [
    "result1 = chat([SystemMessage(content=\"You are very friendly assistant\"),\n",
    "        HumanMessage(content=\"Tell me about pluto\")])"
   ]
  },
  {
   "cell_type": "code",
   "execution_count": 46,
   "id": "c43c3ed2-3e78-41c8-9930-a0011e9dc71e",
   "metadata": {},
   "outputs": [
    {
     "data": {
      "text/plain": [
       "AIMessage(content=\"Pluto is a dwarf planet located in our solar system, specifically in the Kuiper Belt, which is a region of space beyond Neptune. It was discovered in 1930 by American astronomer Clyde Tombaugh.\\n\\nPluto used to be classified as the ninth planet in our solar system, but in 2006, the International Astronomical Union (IAU) redefined the definition of a planet and reclassified Pluto as a dwarf planet. This decision was made because Pluto did not meet the criteria set by the IAU for being considered a full-fledged planet.\\n\\nPluto has a rocky and icy composition, with a thin atmosphere primarily composed of nitrogen, methane, and carbon monoxide. It has a reddish-brown color due to the presence of tholins, complex organic compounds formed by the interaction of sunlight with methane and nitrogen in its atmosphere.\\n\\nPluto has a unique and irregular orbit, which is inclined and highly elliptical. This means that its distance from the Sun varies significantly throughout its orbit. At its closest approach, it is about 2.7 billion miles (4.4 billion kilometers) away from the Sun, while at its farthest, it can be as far as 4.7 billion miles (7.5 billion kilometers) away.\\n\\nPluto has five known moons: Charon, Nix, Hydra, Kerberos, and Styx. Charon is the largest moon and is about half the size of Pluto itself. The discovery of Charon in 1978 helped scientists determine Pluto's mass and size more accurately.\\n\\nIn 2015, NASA's New Horizons spacecraft made a historic flyby of Pluto, providing us with the most detailed images and data we have to date. This mission allowed scientists to study Pluto's surface features, such as its mountains, plains, and icy plains, in greater detail.\\n\\nOverall, Pluto remains an intriguing and mysterious object in our solar system, and further exploration and study of this dwarf planet will continue to deepen our understanding of its composition, history, and place in the universe.\")"
      ]
     },
     "execution_count": 46,
     "metadata": {},
     "output_type": "execute_result"
    }
   ],
   "source": [
    "result1"
   ]
  },
  {
   "cell_type": "code",
   "execution_count": 47,
   "id": "d2a12802-3d57-404a-b807-728b4a1605cc",
   "metadata": {},
   "outputs": [],
   "source": [
    "import langchain\n",
    "from langchain.cache import InMemoryCache\n",
    "langchain.llm_cache = InMemoryCache() # In memoery cache"
   ]
  },
  {
   "cell_type": "code",
   "execution_count": 49,
   "id": "8170d541-1637-427f-b9f0-e45452c2d966",
   "metadata": {},
   "outputs": [
    {
     "data": {
      "text/plain": [
       "'Pluto is a dwarf planet located in the outer regions of our solar system. It was discovered in 1930 by astronomer Clyde Tombaugh and was considered the ninth planet of our solar system until 2006 when it was reclassified as a dwarf planet by the International Astronomical Union (IAU).\\n\\nPluto is relatively small, with a diameter of about 1,473 miles (2,370 kilometers), which is roughly two-thirds the size of Earth\\'s moon. It has a rocky core surrounded by a mantle of water ice and other ices, such as methane and nitrogen. Its surface is covered in a thin layer of nitrogen ice, giving it a distinctly icy appearance.\\n\\nOne interesting feature of Pluto is its atmosphere, which is composed mainly of nitrogen, with traces of methane and carbon monoxide. However, due to its distance from the Sun, the atmosphere freezes and collapses onto the planet\\'s surface as Pluto moves farther away from the Sun in its elliptical orbit.\\n\\nPluto has five known moons, the largest of which is Charon. Charon is about half the size of Pluto and is so large in comparison that the two bodies are often referred to as a \"double dwarf planet\" system. The other moons, named Nix, Hydra, Kerberos, and Styx, are much smaller and were discovered after the New Horizons spacecraft flew by Pluto in 2015.\\n\\nPluto\\'s distance from the Sun and its elliptical orbit mean that it has a very long orbital period, taking about 248 Earth years to complete one orbit. This means that it takes a very long time for Pluto to experience one full season.\\n\\nAlthough Pluto is no longer classified as a planet, it continues to fascinate scientists and astronomers. The New Horizons mission provided valuable data and close-up images of Pluto and its moons, revealing diverse geological features such as mountains, valleys, and even possible cryovolcanoes. These discoveries have increased our understanding of the outer regions of our solar system and opened up new avenues of research.'"
      ]
     },
     "execution_count": 49,
     "metadata": {},
     "output_type": "execute_result"
    }
   ],
   "source": [
    "chat.predict(\"Tell me about pluto\")"
   ]
  },
  {
   "cell_type": "code",
   "execution_count": 50,
   "id": "d1340955-93b1-4a7a-a108-3d1e8a22446a",
   "metadata": {},
   "outputs": [
    {
     "data": {
      "text/plain": [
       "'Pluto is a dwarf planet located in the outer regions of our solar system. It was discovered in 1930 by astronomer Clyde Tombaugh and was considered the ninth planet of our solar system until 2006 when it was reclassified as a dwarf planet by the International Astronomical Union (IAU).\\n\\nPluto is relatively small, with a diameter of about 1,473 miles (2,370 kilometers), which is roughly two-thirds the size of Earth\\'s moon. It has a rocky core surrounded by a mantle of water ice and other ices, such as methane and nitrogen. Its surface is covered in a thin layer of nitrogen ice, giving it a distinctly icy appearance.\\n\\nOne interesting feature of Pluto is its atmosphere, which is composed mainly of nitrogen, with traces of methane and carbon monoxide. However, due to its distance from the Sun, the atmosphere freezes and collapses onto the planet\\'s surface as Pluto moves farther away from the Sun in its elliptical orbit.\\n\\nPluto has five known moons, the largest of which is Charon. Charon is about half the size of Pluto and is so large in comparison that the two bodies are often referred to as a \"double dwarf planet\" system. The other moons, named Nix, Hydra, Kerberos, and Styx, are much smaller and were discovered after the New Horizons spacecraft flew by Pluto in 2015.\\n\\nPluto\\'s distance from the Sun and its elliptical orbit mean that it has a very long orbital period, taking about 248 Earth years to complete one orbit. This means that it takes a very long time for Pluto to experience one full season.\\n\\nAlthough Pluto is no longer classified as a planet, it continues to fascinate scientists and astronomers. The New Horizons mission provided valuable data and close-up images of Pluto and its moons, revealing diverse geological features such as mountains, valleys, and even possible cryovolcanoes. These discoveries have increased our understanding of the outer regions of our solar system and opened up new avenues of research.'"
      ]
     },
     "execution_count": 50,
     "metadata": {},
     "output_type": "execute_result"
    }
   ],
   "source": [
    "chat.predict(\"Tell me about pluto\")"
   ]
  },
  {
   "cell_type": "code",
   "execution_count": null,
   "id": "b24e9387-0332-457f-8e47-7fb989929c2a",
   "metadata": {},
   "outputs": [],
   "source": []
  }
 ],
 "metadata": {
  "kernelspec": {
   "display_name": "Python 3 (ipykernel)",
   "language": "python",
   "name": "python3"
  },
  "language_info": {
   "codemirror_mode": {
    "name": "ipython",
    "version": 3
   },
   "file_extension": ".py",
   "mimetype": "text/x-python",
   "name": "python",
   "nbconvert_exporter": "python",
   "pygments_lexer": "ipython3",
   "version": "3.11.4"
  }
 },
 "nbformat": 4,
 "nbformat_minor": 5
}
