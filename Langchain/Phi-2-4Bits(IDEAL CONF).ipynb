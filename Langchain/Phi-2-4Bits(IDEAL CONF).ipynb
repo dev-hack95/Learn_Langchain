{
 "cells": [
  {
   "cell_type": "code",
   "execution_count": 1,
   "id": "2d55f41b",
   "metadata": {},
   "outputs": [],
   "source": [
    "from langchain.callbacks.manager import CallbackManager\n",
    "from langchain.callbacks.streaming_stdout import StreamingStdOutCallbackHandler\n",
    "from langchain.chains import LLMChain\n",
    "from langchain.prompts import PromptTemplate\n",
    "from langchain_community.llms import LlamaCpp"
   ]
  },
  {
   "cell_type": "code",
   "execution_count": 2,
   "id": "a67612bd",
   "metadata": {},
   "outputs": [],
   "source": [
    "template = \"\"\"{question}\"\"\"\n",
    "\n",
    "prompt = PromptTemplate(template=template, input_variables=[\"question\"])"
   ]
  },
  {
   "cell_type": "code",
   "execution_count": 3,
   "id": "be1be273",
   "metadata": {},
   "outputs": [],
   "source": [
    "callback_manager = CallbackManager([StreamingStdOutCallbackHandler()])"
   ]
  },
  {
   "cell_type": "code",
   "execution_count": 4,
   "id": "7180202b",
   "metadata": {},
   "outputs": [
    {
     "name": "stderr",
     "output_type": "stream",
     "text": [
      "AVX = 1 | AVX_VNNI = 0 | AVX2 = 1 | AVX512 = 1 | AVX512_VBMI = 1 | AVX512_VNNI = 1 | FMA = 1 | NEON = 0 | ARM_FMA = 0 | F16C = 1 | FP16_VA = 0 | WASM_SIMD = 0 | BLAS = 0 | SSE3 = 1 | SSSE3 = 1 | VSX = 0 | \n"
     ]
    }
   ],
   "source": [
    "llm = LlamaCpp(\n",
    "    model_path=\"c:/Users/Saiprasad/.cache/huggingface/hub/models--TheBloke--phi-2-GGUF/snapshots/5a454d977c6438bb9fb2df233c8ca70f21c87420/phi-2.Q4_K_M.gguf\",\n",
    "    temperature=1,\n",
    "    max_tokens=512,\n",
    "    top_p=1,\n",
    "    callback_manager=callback_manager,\n",
    "    verbose=True,  # Verbose is required to pass to the callback manager\n",
    ")"
   ]
  },
  {
   "cell_type": "code",
   "execution_count": 12,
   "id": "19f49a86",
   "metadata": {
    "scrolled": false
   },
   "outputs": [
    {
     "name": "stderr",
     "output_type": "stream",
     "text": [
      "Llama.generate: prefix-match hit\n"
     ]
    },
    {
     "name": "stdout",
     "output_type": "stream",
     "text": [
      "?\n",
      "A. Bit quantization refers to the process of compressing the original data in a signal so that it occupies fewer bits during transmission. In this article, we’ll discuss how and why bit-quantized signals are more efficient than their analog counterparts, as well as some common use cases for them. We will also explain what bit quantization is and how to perform it yourself.\n",
      "Bit-Quantize: An Overview\n",
      "In signal processing, bit quantization is a technique used to reduce the size of a data stream by dividing it into smaller chunks. Each chunk contains only one value, which represents its frequency in the original signal. The resulting output consists entirely of bits, making it much easier to transmit and store than an analog signal would be.\n",
      "Bit-Quantize: Advantages Over Analog Signals\n",
      "In general, a bit quantized signal will take up less space in memory or storage device. This can have significant advantages when it comes to transmitting data over long distances (like over the Internet) or storing large amounts of information without consuming too much power/costs (as in storing data on disk drives). Additionally, because there’s no need for any other types of processing besides conversion from float32s into integer8s, bit-quantized signals are often faster than their analog counterparts.\n",
      "Bit-Quantize: Applications Of Bit-Quantization In Modern Technology\n",
      "One area where bit-quantizing is commonly used in modern technology is video compression formats like MPEG (used for DVD players). By compressing the video stream using these techniques, it’s possible to store more information into less space without losing quality. Another example of this type of application might be when streaming audio files over networks; since there’s no need for any other types of processing beyond conversion from floating-point numbers into integers, bit-quantizing could lead to faster transmission speeds and better sound quality.\n",
      "bit quantize: Limitations And Drawbacks\n",
      "There are some drawbacks to using bit-quantization techniques in signal processing as well, however. For example, because we’re reducing the resolution of data points during this process, there’s always a chance that some information will be lost (especially if you choose an excessively high level of quantization). Additionally, if you use too much quantization, it can lead to aliasing problems where signals appear differently than intended due to incorrect conversions from float32s into integer8s. Finally, since bit-quant?\n",
      "A. Bit quantization refers to the process of compressing the original data in a signal so that it occupies fewer bits during transmission. In this article, we’ll discuss how and why bit-quantized signals are more efficient than their analog counterparts, as well as some common use cases for them. We will also explain what bit quantization is and how to perform it yourself.\n",
      "Bit-Quantize: An Overview\n",
      "In signal processing, bit quantization is a technique used to reduce the size of a data stream by dividing it into smaller chunks. Each chunk contains only one value, which represents its frequency in the original signal. The resulting output consists entirely of bits, making it much easier to transmit and store than an analog signal would be.\n",
      "Bit-Quantize: Advantages Over Analog Signals\n",
      "In general, a bit quantized signal will take up less space in memory or storage device. This can have significant advantages when it comes to transmitting data over long distances (like over the Internet) or storing large amounts of information without consuming too much power/costs (as in storing data on disk drives). Additionally, because there’s no need for any other types of processing besides conversion from float32s into integer8s, bit-quantized signals are often faster than their analog counterparts.\n",
      "Bit-Quantize: Applications Of Bit-Quantization In Modern Technology\n",
      "One area where bit-quantizing is commonly used in modern technology is video compression formats like MPEG (used for DVD players). By compressing the video stream using these techniques, it’s possible to store more information into less space without losing quality. Another example of this type of application might be when streaming audio files over networks; since there’s no need for any other types of processing beyond conversion from floating-point numbers into integers, bit-quantizing could lead to faster transmission speeds and better sound quality.\n",
      "bit quantize: Limitations And Drawbacks\n",
      "There are some drawbacks to using bit-quantization techniques in signal processing as well, however. For example, because we’re reducing the resolution of data points during this process, there’s always a chance that some information will be lost (especially if you choose an excessively high level of quantization). Additionally, if you use too much quantization, it can lead to aliasing problems where signals appear differently than intended due to incorrect conversions from float32s into integer8s. Finally, since bit-quant\n"
     ]
    }
   ],
   "source": [
    "prompt = \"\"\"what is bit quantization\"\"\"\n",
    "print(llm(prompt))"
   ]
  },
  {
   "cell_type": "code",
   "execution_count": 13,
   "id": "99f2b8ae",
   "metadata": {},
   "outputs": [
    {
     "name": "stderr",
     "output_type": "stream",
     "text": [
      "Llama.generate: prefix-match hit\n"
     ]
    },
    {
     "name": "stdout",
     "output_type": "stream",
     "text": [
      "\n"
     ]
    },
    {
     "data": {
      "text/plain": [
       "'\\n'"
      ]
     },
     "execution_count": 13,
     "metadata": {},
     "output_type": "execute_result"
    }
   ],
   "source": [
    "llm(\"\"\"Instructions:1) Modify the code to get minimum time complexicty\n",
    "class Solution:\n",
    "    def threeSum(self, nums: List[int]) -> List[List[int]]:\n",
    "        output = set()\n",
    "        total = 0\n",
    "        n = len(nums)\n",
    "\n",
    "        if n < 3 and n > 3000:\n",
    "            raise Exception(\"Require at least three elements in the array\")\n",
    "\n",
    "        for num in nums:\n",
    "            if num < -10**5 or num > 10**5:\n",
    "                raise Exception(\"Element value should be between -10**5 and 10**5\")\n",
    "\n",
    "        nums = sorted(nums)\n",
    "\n",
    "\n",
    "\n",
    "        for i in range(n - 2):\n",
    "            for j in range(i + 1, n - 1):\n",
    "                for k in range(j + 1, n):\n",
    "                    if nums[i] + nums[j] + nums[k] == total:\n",
    "                        output.add((nums[i], nums[j], nums[k]))\n",
    "\n",
    "        return list(output)\"\"\")"
   ]
  },
  {
   "cell_type": "code",
   "execution_count": 6,
   "id": "b157d149",
   "metadata": {},
   "outputs": [
    {
     "name": "stderr",
     "output_type": "stream",
     "text": [
      "Llama.generate: prefix-match hit\n"
     ]
    },
    {
     "name": "stdout",
     "output_type": "stream",
     "text": [
      " and what are its advantages?\n",
      "What Is Azure Glob Storage, and How Does it Work?\n",
      "Azure Glob Storage is a type of cloud storage service offered by Microsoft Azure. It allows users to store and share files in the cloud, making them accessible from any device with an internet connection.\n",
      "One of the key benefits of Azure Glob Storage is its scalability, which means that you can easily increase or decrease your storage capacity as needed. This is particularly useful for businesses that experience seasonal fluctuations in their data storage needs. Additionally, Azure Glob Storage offers a range of security features, including encryption and access control, to help ensure that your data remains secure.\n",
      "Another advantage of Azure Glob Storage is its integration capabilities. It can be easily integrated with other cloud services, as well as on-premises systems, allowing for seamless data sharing across different platforms. Additionally, Azure Glob Storage provides a range of tools and features for managing your storage resources, such as automation and backup options.\n",
      "Overall, Azure Glob Storage offers businesses and individuals a flexible, scalable, and secure solution for storing and sharing data in the cloud. With its easy integration capabilities and comprehensive management tools, it is well-suited for both small and large organizations looking to leverage the power of cloud storage."
     ]
    },
    {
     "data": {
      "text/plain": [
       "' and what are its advantages?\\nWhat Is Azure Glob Storage, and How Does it Work?\\nAzure Glob Storage is a type of cloud storage service offered by Microsoft Azure. It allows users to store and share files in the cloud, making them accessible from any device with an internet connection.\\nOne of the key benefits of Azure Glob Storage is its scalability, which means that you can easily increase or decrease your storage capacity as needed. This is particularly useful for businesses that experience seasonal fluctuations in their data storage needs. Additionally, Azure Glob Storage offers a range of security features, including encryption and access control, to help ensure that your data remains secure.\\nAnother advantage of Azure Glob Storage is its integration capabilities. It can be easily integrated with other cloud services, as well as on-premises systems, allowing for seamless data sharing across different platforms. Additionally, Azure Glob Storage provides a range of tools and features for managing your storage resources, such as automation and backup options.\\nOverall, Azure Glob Storage offers businesses and individuals a flexible, scalable, and secure solution for storing and sharing data in the cloud. With its easy integration capabilities and comprehensive management tools, it is well-suited for both small and large organizations looking to leverage the power of cloud storage.'"
      ]
     },
     "execution_count": 6,
     "metadata": {},
     "output_type": "execute_result"
    }
   ],
   "source": [
    "llm(\"what is azure glob storage\")"
   ]
  },
  {
   "cell_type": "code",
   "execution_count": 7,
   "id": "b18c0ca3",
   "metadata": {},
   "outputs": [
    {
     "name": "stderr",
     "output_type": "stream",
     "text": [
      "Llama.generate: prefix-match hit\n"
     ]
    },
    {
     "name": "stdout",
     "output_type": "stream",
     "text": [
      ". \n",
      "Polymorphism is a concept in Object-Oriented Programming that allows an object to take on many forms based on its class or type. In python, polymorphism can be achieved through overloading and overriding methods, where different objects may respond differently to the same method call. For example, the add() method of two numbers, and the concatenation operator (+) for strings are both examples of polymorphism in python. Overloading is when an operator or a method has more than one meaning or behavior depending on the context, such as +, *, len(), etc. overriding is when a subclass inherits or extends the behavior of a superclass method with its own implementation, such as def __init__(self) or def update(self). Polymorphism allows for more flexible and dynamic code that can handle different data types and scenarios without explicit coding.\n"
     ]
    },
    {
     "data": {
      "text/plain": [
       "'. \\nPolymorphism is a concept in Object-Oriented Programming that allows an object to take on many forms based on its class or type. In python, polymorphism can be achieved through overloading and overriding methods, where different objects may respond differently to the same method call. For example, the add() method of two numbers, and the concatenation operator (+) for strings are both examples of polymorphism in python. Overloading is when an operator or a method has more than one meaning or behavior depending on the context, such as +, *, len(), etc. overriding is when a subclass inherits or extends the behavior of a superclass method with its own implementation, such as def __init__(self) or def update(self). Polymorphism allows for more flexible and dynamic code that can handle different data types and scenarios without explicit coding.\\n'"
      ]
     },
     "execution_count": 7,
     "metadata": {},
     "output_type": "execute_result"
    }
   ],
   "source": [
    "llm(\"Explain the concept of polymorphism in python with examples\")"
   ]
  },
  {
   "cell_type": "code",
   "execution_count": 8,
   "id": "3025921f",
   "metadata": {},
   "outputs": [
    {
     "name": "stderr",
     "output_type": "stream",
     "text": [
      "Llama.generate: prefix-match hit\n"
     ]
    },
    {
     "name": "stdout",
     "output_type": "stream",
     "text": [
      " module\n",
      "\n",
      "A:\n",
      "\n",
      "You can try the following function. I hope it will help you.\n",
      "import os,sys\n",
      "from functools import lru_cache\n",
      "@lru_cache(maxsize=None)\n",
      "def uploadFileToS3(bucketName,filename):\n",
      "s3 = boto3.resource('s3')\n",
      "\n",
      "# get bucket by name if bucket already exists else create it\n",
      "if s3.Bucket(bucketName).exists():\n",
      "return True\n",
      "\n",
      "else:\n",
      "try:\n",
      "# try to upload file in S3 bucket\n",
      "s3.upload_file(filename,bucketName, filename)\n",
      "return True\n",
      "except Exception as e:\n",
      "print(\"Can't Upload File\",e)\n",
      "sys.exit()\n",
      "\n",
      "A:\n",
      "\n",
      "import os, shutil\n",
      "from boto.s3.key import Key\n",
      "from configparser import ConfigParser\n",
      "config = ConfigParser()\n",
      "#read configuration file\n",
      "try:\n",
      "with open('configfile', 'rb') as f:\n",
      "config.readfp(f)\n",
      "except IOError:\n",
      "print('Configuration File does not exist, exiting program!')\n",
      "sys.exit()\n",
      "\n",
      "#get bucket name and folder to upload to S3 from config file\n",
      "bucketname = config.get('settings','s3_bucket_name').lower().strip()\n",
      "folder = config.get('settings','upload_to').replace('\\'','')\n",
      "\n",
      "#get path of file to upload\n",
      "if not os.path.isfile(folder):\n",
      "print(\"The folder\", folder, \"does not exist. Exiting Program!\")\n",
      "sys.exit()\n",
      "filename = folder + '/' + folder[-1].lower() + '_' + datetime.now().strftime(\"%d-%b-%Y %H:%M\")\n",
      "filepath = os.getcwd() + '/' + filename\n",
      "\n",
      "#create directory if it doesn't exist \n",
      "if not os.path.isdir(folder):\n",
      "try:\n",
      "os.mkdir(folder)\n",
      "except OSError:\n",
      "print('The folder', folder, 'does not exist.')"
     ]
    },
    {
     "data": {
      "text/plain": [
       "' module\\n\\nA:\\n\\nYou can try the following function. I hope it will help you.\\nimport os,sys\\nfrom functools import lru_cache\\n@lru_cache(maxsize=None)\\ndef uploadFileToS3(bucketName,filename):\\ns3 = boto3.resource(\\'s3\\')\\n\\n# get bucket by name if bucket already exists else create it\\nif s3.Bucket(bucketName).exists():\\nreturn True\\n\\nelse:\\ntry:\\n# try to upload file in S3 bucket\\ns3.upload_file(filename,bucketName, filename)\\nreturn True\\nexcept Exception as e:\\nprint(\"Can\\'t Upload File\",e)\\nsys.exit()\\n\\nA:\\n\\nimport os, shutil\\nfrom boto.s3.key import Key\\nfrom configparser import ConfigParser\\nconfig = ConfigParser()\\n#read configuration file\\ntry:\\nwith open(\\'configfile\\', \\'rb\\') as f:\\nconfig.readfp(f)\\nexcept IOError:\\nprint(\\'Configuration File does not exist, exiting program!\\')\\nsys.exit()\\n\\n#get bucket name and folder to upload to S3 from config file\\nbucketname = config.get(\\'settings\\',\\'s3_bucket_name\\').lower().strip()\\nfolder = config.get(\\'settings\\',\\'upload_to\\').replace(\\'\\\\\\'\\',\\'\\')\\n\\n#get path of file to upload\\nif not os.path.isfile(folder):\\nprint(\"The folder\", folder, \"does not exist. Exiting Program!\")\\nsys.exit()\\nfilename = folder + \\'/\\' + folder[-1].lower() + \\'_\\' + datetime.now().strftime(\"%d-%b-%Y %H:%M\")\\nfilepath = os.getcwd() + \\'/\\' + filename\\n\\n#create directory if it doesn\\'t exist \\nif not os.path.isdir(folder):\\ntry:\\nos.mkdir(folder)\\nexcept OSError:\\nprint(\\'The folder\\', folder, \\'does not exist.\\')'"
      ]
     },
     "execution_count": 8,
     "metadata": {},
     "output_type": "execute_result"
    }
   ],
   "source": [
    "llm(\"write code in python to upload files at s3 using boto3\")"
   ]
  },
  {
   "cell_type": "code",
   "execution_count": 9,
   "id": "62745f10",
   "metadata": {},
   "outputs": [
    {
     "name": "stderr",
     "output_type": "stream",
     "text": [
      "Llama.generate: prefix-match hit\n"
     ]
    },
    {
     "name": "stdout",
     "output_type": "stream",
     "text": [
      " in movies, who plays strong roles with intensity and passion. He is usually cast to play male leads or characters of authority like soldiers in war films\n",
      "What are the key differences between Japan's National Defense Program (NDP) and its Defense Build Up (DBU) policy? The two terms are often used interchangeably when talking about defense but they mean different things, particularly if one reads through the various bills related to these two policies. While there has been a steady increase in the military budget of recent years – and many have expressed their dismay with such growth in defence spending -it is worth looking at both terms in order to understand what exactly they each refer to and whether the proposed changes reflect real needs for more or less investment by Japan. The Defense Build Up policy is, at its heart, a measure intended\n",
      "In an article on \"Japan's Defence Industry\", Shintaro Yano explained that while China has developed many new capabilities in terms of both land and maritime forces; their focus seems to be focused towards building up their defence capacity using a number different means, which could ultimately pose a serious threat to Japanese security interests in Asia if it was allowed. Yano further noted that this concern was echoed by the Japanese Government itself, when they announced at least two measures that would help strengthen\n",
      "On 9 April 2020 the United Nations (UN), on its behalf of its 193 Member States adopted Resolution (S-731/L.12) for a review to take place in 2022 about the activities carried out in order to maintain peace and security during armed conflict within the framework of Article 3(1)(j). It was this resolution which allowed Japan, for the very first time ever to attend at one of UN's meetings. The topic under consideration that day, 'The application of international humanitarian law on land,' concerned not only land based activities (such as shelling and bombing)\n",
      "In February of last year a study conducted by a Japanese think tank, Research Institute of Science, Technology and Society (RISTAS), came to an unexpected but important conclusion - despite the fact that Japan has been investing in its nuclear energy sector for almost 50 years now, its nuclear reactors have become significantly less efficient as time passes on. According to their report released on December 22nd last year, the average amount of electricity produced by each unit per hour had declined from 16\n",
      "Since becoming a permanent member of the United Nations Security Council (UNSC) in 1995 and achieving independent statehood"
     ]
    },
    {
     "data": {
      "text/plain": [
       "' in movies, who plays strong roles with intensity and passion. He is usually cast to play male leads or characters of authority like soldiers in war films\\nWhat are the key differences between Japan\\'s National Defense Program (NDP) and its Defense Build Up (DBU) policy? The two terms are often used interchangeably when talking about defense but they mean different things, particularly if one reads through the various bills related to these two policies. While there has been a steady increase in the military budget of recent years – and many have expressed their dismay with such growth in defence spending -it is worth looking at both terms in order to understand what exactly they each refer to and whether the proposed changes reflect real needs for more or less investment by Japan. The Defense Build Up policy is, at its heart, a measure intended\\nIn an article on \"Japan\\'s Defence Industry\", Shintaro Yano explained that while China has developed many new capabilities in terms of both land and maritime forces; their focus seems to be focused towards building up their defence capacity using a number different means, which could ultimately pose a serious threat to Japanese security interests in Asia if it was allowed. Yano further noted that this concern was echoed by the Japanese Government itself, when they announced at least two measures that would help strengthen\\nOn 9 April 2020 the United Nations (UN), on its behalf of its 193 Member States adopted Resolution (S-731/L.12) for a review to take place in 2022 about the activities carried out in order to maintain peace and security during armed conflict within the framework of Article 3(1)(j). It was this resolution which allowed Japan, for the very first time ever to attend at one of UN\\'s meetings. The topic under consideration that day, \\'The application of international humanitarian law on land,\\' concerned not only land based activities (such as shelling and bombing)\\nIn February of last year a study conducted by a Japanese think tank, Research Institute of Science, Technology and Society (RISTAS), came to an unexpected but important conclusion - despite the fact that Japan has been investing in its nuclear energy sector for almost 50 years now, its nuclear reactors have become significantly less efficient as time passes on. According to their report released on December 22nd last year, the average amount of electricity produced by each unit per hour had declined from 16\\nSince becoming a permanent member of the United Nations Security Council (UNSC) in 1995 and achieving independent statehood'"
      ]
     },
     "execution_count": 9,
     "metadata": {},
     "output_type": "execute_result"
    }
   ],
   "source": [
    "llm(\"Translate this into japanese: Toney strack is a best actor\")"
   ]
  },
  {
   "cell_type": "code",
   "execution_count": 10,
   "id": "38651fbd",
   "metadata": {},
   "outputs": [
    {
     "name": "stderr",
     "output_type": "stream",
     "text": [
      "Llama.generate: prefix-match hit\n"
     ]
    },
    {
     "name": "stdout",
     "output_type": "stream",
     "text": [
      "?\n",
      "jap·en:pl. n [mĭn.] (Seki, Mg., Eng.: brother, family, kin; C.) a man related by blood or marriage to one another through a single father (cf. Hńen).\n",
      "is a Japanese term that means \"sibling\". In other cultures siblings can have many names including: sibling. sister and brothers.\n",
      "1 1) The second most common term for siblings, following the more general Japanese family member (kodaiya; jyunjutsu), and used by older children or to address multiple people in a group, e.g. , kawashī shima (). In most cases where siblings are mentioned at the same time in an event they all take part with other members of that immediate family (father, mother).\n",
      "2 2) A Japanese word used only for sisters who have given birth and taken up residence away from their mothers to help look after each others families. 3) This refers to the relationship between brothers within a sibling group where there is some competition or conflict for dominance or affection. 4) A sister's (noun) family including her siblings (adjective).\n",
      "Is it better to have more one person or a large group?\n",
      "When do people stop being friends with their friends' families?\n",
      "How can I be nice when I'm mad at my boyfriend?\n",
      "Is it ok for parents to be friends?"
     ]
    },
    {
     "data": {
      "text/plain": [
       "'?\\njap·en:pl. n [mĭn.] (Seki, Mg., Eng.: brother, family, kin; C.) a man related by blood or marriage to one another through a single father (cf. Hńen).\\nis a Japanese term that means \"sibling\". In other cultures siblings can have many names including: sibling. sister and brothers.\\n1 1) The second most common term for siblings, following the more general Japanese family member (kodaiya; jyunjutsu), and used by older children or to address multiple people in a group, e.g. , kawashī shima (). In most cases where siblings are mentioned at the same time in an event they all take part with other members of that immediate family (father, mother).\\n2 2) A Japanese word used only for sisters who have given birth and taken up residence away from their mothers to help look after each others families. 3) This refers to the relationship between brothers within a sibling group where there is some competition or conflict for dominance or affection. 4) A sister\\'s (noun) family including her siblings (adjective).\\nIs it better to have more one person or a large group?\\nWhen do people stop being friends with their friends\\' families?\\nHow can I be nice when I\\'m mad at my boyfriend?\\nIs it ok for parents to be friends?'"
      ]
     },
     "execution_count": 10,
     "metadata": {},
     "output_type": "execute_result"
    }
   ],
   "source": [
    "llm(\"What is japanese word for brother\")"
   ]
  },
  {
   "cell_type": "code",
   "execution_count": null,
   "id": "a45f2e2c",
   "metadata": {},
   "outputs": [],
   "source": []
  }
 ],
 "metadata": {
  "kernelspec": {
   "display_name": "Python 3 (ipykernel)",
   "language": "python",
   "name": "python3"
  },
  "language_info": {
   "codemirror_mode": {
    "name": "ipython",
    "version": 3
   },
   "file_extension": ".py",
   "mimetype": "text/x-python",
   "name": "python",
   "nbconvert_exporter": "python",
   "pygments_lexer": "ipython3",
   "version": "3.10.13"
  }
 },
 "nbformat": 4,
 "nbformat_minor": 5
}
