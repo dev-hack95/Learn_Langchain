{
 "cells": [
  {
   "cell_type": "code",
   "execution_count": 1,
   "id": "08543ed1-7635-4a63-b487-686f20f46b52",
   "metadata": {},
   "outputs": [],
   "source": [
    "import os\n",
    "import openai\n",
    "from dotenv import load_dotenv\n",
    "\n",
    "# Config\n",
    "load_dotenv(\".env\")\n",
    "openai.api_key = os.environ.get(\"key\")"
   ]
  },
  {
   "cell_type": "code",
   "execution_count": 2,
   "id": "abb8f70b-669f-4851-bd75-ee93ccd8ca26",
   "metadata": {},
   "outputs": [],
   "source": [
    "class Chat:\n",
    "    def __init__(self):\n",
    "        self.role = 'role'\n",
    "        self.user = 'user'\n",
    "        self.content = 'content'\n",
    "        self.temperature = 0.8\n",
    "        \n",
    "    def chat(self, user_input: str):\n",
    "        messages = [{self.role: self.user, self.content: user_input}]\n",
    "        response = openai.ChatCompletion.create(\n",
    "            model=\"gpt-3.5-turbo\",\n",
    "            messages=messages,\n",
    "            temperature=0.8,\n",
    "        )\n",
    "        return response.choices[0].message[\"content\"]"
   ]
  },
  {
   "cell_type": "code",
   "execution_count": 3,
   "id": "2a2b4b11-cb21-4527-acfb-23c593d0db67",
   "metadata": {},
   "outputs": [
    {
     "data": {
      "text/plain": [
       "'Quantum entanglement is a phenomenon in quantum physics where two or more particles become linked together in such a way that their quantum states are dependent on each other. This means that the properties of one particle, such as its position, momentum, or polarization, are intrinsically connected to the properties of the other particle(s), regardless of the distance between them.\\n\\nThe concept was first introduced by Albert Einstein, Boris Podolsky, and Nathan Rosen in 1935 to challenge certain aspects of quantum mechanics. They proposed the \"EPR Paradox\" (named after their initials), which suggested that quantum mechanics might be incomplete or that there were hidden variables determining the properties of entangled particles.\\n\\nHowever, subsequent experiments have confirmed the reality of quantum entanglement. For example, the famous Bell\\'s theorem and subsequent Bell tests have demonstrated that entangled particles exhibit correlations that cannot be explained by classical physics or local hidden variables.\\n\\nQuantum entanglement has several intriguing characteristics. Firstly, the entangled particles can be separated by large distances and still exhibit instantaneous correlations, seemingly violating the speed of light limit. This property is called \"spooky action at a distance,\" a term coined by Einstein.\\n\\nSecondly, when the state of one entangled particle is measured, it \"collapses\" into a particular value, and simultaneously, the state of the other entangled particle(s) also collapses instantaneously, regardless of the distance between them. This feature is often referred to as \"non-locality.\"\\n\\nQuantum entanglement plays a crucial role in various applications of quantum information science. For example, it forms the basis of quantum teleportation, where the quantum state of one particle can be transferred to another distant particle without physical transmission of the particle itself. It is also relevant in quantum cryptography, as any attempt to tamper with an entangled state would be immediately detected due to its fragile nature.\\n\\nOverall, quantum entanglement is a fundamental concept in quantum theory, highlighting the peculiar and non-intuitive nature of the quantum world and providing the basis for various quantum technologies.'"
      ]
     },
     "execution_count": 3,
     "metadata": {},
     "output_type": "execute_result"
    }
   ],
   "source": [
    "chat = Chat()\n",
    "chat.chat(\"What is the concept of quantum entalgement\")"
   ]
  },
  {
   "cell_type": "code",
   "execution_count": 4,
   "id": "bc40adab-8a5f-4457-a7c2-7ceaac573e18",
   "metadata": {},
   "outputs": [
    {
     "data": {
      "text/plain": [
       "<__main__.Chat at 0x1c6082420d0>"
      ]
     },
     "execution_count": 4,
     "metadata": {},
     "output_type": "execute_result"
    }
   ],
   "source": [
    "chat"
   ]
  },
  {
   "cell_type": "code",
   "execution_count": 9,
   "id": "399f951c-e17b-4fed-b691-4bebbbb73f2e",
   "metadata": {},
   "outputs": [
    {
     "name": "stdout",
     "output_type": "stream",
     "text": [
      "\n",
      "Be Informative which answering make bullet point with highlist or italic font.\n",
      "Question : What is the concept of quantum entalgement\n",
      "\n"
     ]
    },
    {
     "data": {
      "text/plain": [
       "'* Quantum entanglement is a phenomenon in quantum mechanics where two or more particles become deeply linked together.\\n* It occurs when the quantum states of these particles are so intertwined that the state of one particle cannot be described independently of the state of the other particle.\\n* The concept of quantum entanglement was first introduced by Albert Einstein, Boris Podolsky, and Nathan Rosen in a thought experiment called the EPR paradox.\\n* Quantum entanglement is a non-local phenomenon, meaning that the entangled particles can be physically separated but still instantaneously affect each other\\'s states.\\n* This instantaneous correlation between entangled particles has been experimentally confirmed and is referred to as \"spooky action at a distance\" by Einstein.\\n* Quantum entanglement plays a crucial role in various aspects of quantum information science, such as quantum teleportation, quantum cryptography, and quantum computing.\\n* It is also a fundamental element in studying the foundations of quantum mechanics and understanding the nature of reality at the quantum level.\\n* The exact mechanism behind quantum entanglement is still a topic of ongoing research and debate among physicists.'"
      ]
     },
     "execution_count": 9,
     "metadata": {},
     "output_type": "execute_result"
    }
   ],
   "source": [
    "question = \"What is the concept of quantum entalgement\"\n",
    "prompt = \"\"\"\n",
    "Be Informative which answering make bullet point with highlist or italic font.\n",
    "Question : {question}\n",
    "\"\"\".format(question = question)\n",
    "print(prompt)\n",
    "chat.chat(prompt)"
   ]
  },
  {
   "cell_type": "code",
   "execution_count": null,
   "id": "e0c54e18-d4fc-4f1b-90d4-c9a3610ab58a",
   "metadata": {},
   "outputs": [],
   "source": []
  },
  {
   "cell_type": "code",
   "execution_count": null,
   "id": "daeed6e5-e346-493c-aa75-0d2701fbf8ce",
   "metadata": {},
   "outputs": [],
   "source": []
  }
 ],
 "metadata": {
  "kernelspec": {
   "display_name": "Python 3 (ipykernel)",
   "language": "python",
   "name": "python3"
  },
  "language_info": {
   "codemirror_mode": {
    "name": "ipython",
    "version": 3
   },
   "file_extension": ".py",
   "mimetype": "text/x-python",
   "name": "python",
   "nbconvert_exporter": "python",
   "pygments_lexer": "ipython3",
   "version": "3.11.4"
  }
 },
 "nbformat": 4,
 "nbformat_minor": 5
}
