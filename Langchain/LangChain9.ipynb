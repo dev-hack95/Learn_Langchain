{
 "cells": [
  {
   "cell_type": "markdown",
   "id": "379bbd05-8076-47e7-a528-c6f40e37ed9f",
   "metadata": {},
   "source": [
    "# Serialization"
   ]
  },
  {
   "cell_type": "code",
   "execution_count": 1,
   "id": "c87f0e3a-900c-4c31-9bcb-6e062afff716",
   "metadata": {},
   "outputs": [],
   "source": [
    "import os\n",
    "from dotenv import load_dotenv\n",
    "from langchain.chat_models import ChatOpenAI\n",
    "from langchain.prompts import PromptTemplate\n",
    "\n",
    "# Config\n",
    "load_dotenv(\".env\")\n",
    "api_key = os.environ.get(\"key\")"
   ]
  },
  {
   "cell_type": "code",
   "execution_count": 2,
   "id": "09fe6349-bc34-482e-9c92-312b1069e388",
   "metadata": {},
   "outputs": [],
   "source": [
    "chat = ChatOpenAI(api_key=api_key, model='gpt-3.5-turbo', max_tokens=500)"
   ]
  },
  {
   "cell_type": "code",
   "execution_count": 3,
   "id": "c4dcbc7c-c766-47d8-98bf-8d01eaddf6a6",
   "metadata": {},
   "outputs": [],
   "source": [
    "template = \"Explain the concept of {question} with examples\"\n",
    "prompt = PromptTemplate(template= template, input_variables=[\"question\"])"
   ]
  },
  {
   "cell_type": "code",
   "execution_count": 4,
   "id": "6fb45041-b79e-424a-954b-d8bc5a96cdc4",
   "metadata": {},
   "outputs": [
    {
     "data": {
      "text/plain": [
       "PromptTemplate(input_variables=['question'], template='Explain the concept of {question} with examples')"
      ]
     },
     "execution_count": 4,
     "metadata": {},
     "output_type": "execute_result"
    }
   ],
   "source": [
    "prompt"
   ]
  },
  {
   "cell_type": "code",
   "execution_count": 5,
   "id": "ec653f2e-ec59-434c-9507-a1708d33fe37",
   "metadata": {},
   "outputs": [],
   "source": [
    "prompt.save(\"./PromptTemplates/explain_question.json\")"
   ]
  },
  {
   "cell_type": "code",
   "execution_count": 6,
   "id": "ba296754-8f1c-4bb3-a610-8ec46d13eb7c",
   "metadata": {},
   "outputs": [],
   "source": [
    "from langchain.prompts import load_prompt"
   ]
  },
  {
   "cell_type": "code",
   "execution_count": 7,
   "id": "b126381c-68b4-45f6-9570-83931df954e5",
   "metadata": {},
   "outputs": [],
   "source": [
    "prompt1 = load_prompt(\"./PromptTemplates/explain_question.json\")"
   ]
  },
  {
   "cell_type": "code",
   "execution_count": 8,
   "id": "afaa32be-624a-4dde-b208-ca3afbc026a2",
   "metadata": {},
   "outputs": [
    {
     "data": {
      "text/plain": [
       "PromptTemplate(input_variables=['question'], template='Explain the concept of {question} with examples')"
      ]
     },
     "execution_count": 8,
     "metadata": {},
     "output_type": "execute_result"
    }
   ],
   "source": [
    "prompt1"
   ]
  },
  {
   "cell_type": "code",
   "execution_count": null,
   "id": "3970cc35-78dd-4cef-8f84-7fad12b1b807",
   "metadata": {},
   "outputs": [],
   "source": []
  }
 ],
 "metadata": {
  "kernelspec": {
   "display_name": "Python 3 (ipykernel)",
   "language": "python",
   "name": "python3"
  },
  "language_info": {
   "codemirror_mode": {
    "name": "ipython",
    "version": 3
   },
   "file_extension": ".py",
   "mimetype": "text/x-python",
   "name": "python",
   "nbconvert_exporter": "python",
   "pygments_lexer": "ipython3",
   "version": "3.11.4"
  }
 },
 "nbformat": 4,
 "nbformat_minor": 5
}
